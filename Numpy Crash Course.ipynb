{
 "cells": [
  {
   "cell_type": "markdown",
   "id": "2245cd29-fbd5-47a7-b604-7a08469241e1",
   "metadata": {
    "jp-MarkdownHeadingCollapsed": true
   },
   "source": [
    "## 2nd july (import math module)"
   ]
  },
  {
   "cell_type": "code",
   "execution_count": 3,
   "id": "2f9d1fdf-b699-4ed5-b937-8b03908e7a1b",
   "metadata": {},
   "outputs": [
    {
     "ename": "NameError",
     "evalue": "name 'sqrt' is not defined",
     "output_type": "error",
     "traceback": [
      "\u001b[1;31m---------------------------------------------------------------------------\u001b[0m",
      "\u001b[1;31mNameError\u001b[0m                                 Traceback (most recent call last)",
      "Cell \u001b[1;32mIn[3], line 1\u001b[0m\n\u001b[1;32m----> 1\u001b[0m x\u001b[38;5;241m=\u001b[39msqrt(\u001b[38;5;241m25\u001b[39m)\n",
      "\u001b[1;31mNameError\u001b[0m: name 'sqrt' is not defined"
     ]
    }
   ],
   "source": [
    "x=sqrt(25)        #sqrt is imbuild function"
   ]
  },
  {
   "cell_type": "code",
   "execution_count": 4,
   "id": "54fa3ef1-2319-453d-b7b6-dd41f0734a10",
   "metadata": {},
   "outputs": [],
   "source": [
    "import math    #math is module"
   ]
  },
  {
   "cell_type": "code",
   "execution_count": 5,
   "id": "b566653c-b061-463b-824e-200f9fda16de",
   "metadata": {},
   "outputs": [
    {
     "data": {
      "text/plain": [
       "5.0"
      ]
     },
     "execution_count": 5,
     "metadata": {},
     "output_type": "execute_result"
    }
   ],
   "source": [
    "x=math.sqrt(25)\n",
    "x"
   ]
  },
  {
   "cell_type": "code",
   "execution_count": 6,
   "id": "cf58eed8-313d-446a-8f50-0f1710bb0486",
   "metadata": {},
   "outputs": [
    {
     "data": {
      "text/plain": [
       "3.872983346207417"
      ]
     },
     "execution_count": 6,
     "metadata": {},
     "output_type": "execute_result"
    }
   ],
   "source": [
    "x1=math.sqrt(15)\n",
    "x1"
   ]
  },
  {
   "cell_type": "code",
   "execution_count": 8,
   "id": "f3998d7f-ee96-4253-86b3-3c026b3e7b19",
   "metadata": {},
   "outputs": [
    {
     "name": "stdout",
     "output_type": "stream",
     "text": [
      "2\n"
     ]
    }
   ],
   "source": [
    "print(math.floor(2.9))   ## floor -min or least value"
   ]
  },
  {
   "cell_type": "code",
   "execution_count": 9,
   "id": "46e97296-3e4f-4409-a668-86f6373b9558",
   "metadata": {},
   "outputs": [
    {
     "name": "stdout",
     "output_type": "stream",
     "text": [
      "3\n"
     ]
    }
   ],
   "source": [
    "print(math.ceil(2.9))   #ceil-max or hughest value"
   ]
  },
  {
   "cell_type": "code",
   "execution_count": 10,
   "id": "807e319d-19d3-4f29-a5b9-db5a17099786",
   "metadata": {},
   "outputs": [
    {
     "name": "stdout",
     "output_type": "stream",
     "text": [
      "9.0\n"
     ]
    }
   ],
   "source": [
    "print(math.pow(3,2))"
   ]
  },
  {
   "cell_type": "code",
   "execution_count": 11,
   "id": "ecbd4a80-486a-4e66-af24-d5954a9bee75",
   "metadata": {},
   "outputs": [
    {
     "name": "stdout",
     "output_type": "stream",
     "text": [
      "3.141592653589793\n"
     ]
    }
   ],
   "source": [
    "print(math.pi)   #these are constant"
   ]
  },
  {
   "cell_type": "code",
   "execution_count": 12,
   "id": "7d9616a3-154d-4243-a07a-38580f141b63",
   "metadata": {},
   "outputs": [
    {
     "name": "stdout",
     "output_type": "stream",
     "text": [
      "2.718281828459045\n"
     ]
    }
   ],
   "source": [
    "print(math.e)   #these are constant"
   ]
  },
  {
   "cell_type": "code",
   "execution_count": 13,
   "id": "9d35e87b-0998-437a-8e1f-14cae1676dac",
   "metadata": {},
   "outputs": [
    {
     "data": {
      "text/plain": [
       "3.1622776601683795"
      ]
     },
     "execution_count": 13,
     "metadata": {},
     "output_type": "execute_result"
    }
   ],
   "source": [
    "import math as m\n",
    "m.sqrt(10)"
   ]
  },
  {
   "cell_type": "code",
   "execution_count": 15,
   "id": "739b933b-d801-4861-b494-972e4fc40f72",
   "metadata": {},
   "outputs": [
    {
     "data": {
      "text/plain": [
       "8.0"
      ]
     },
     "execution_count": 15,
     "metadata": {},
     "output_type": "execute_result"
    }
   ],
   "source": [
    "from math import sqrt,pow   #math has many function if you want to call specific function then you use from\n",
    "pow(2,3)"
   ]
  },
  {
   "cell_type": "code",
   "execution_count": 16,
   "id": "1edff3c0-7095-45e6-ae2f-794de1d41daa",
   "metadata": {},
   "outputs": [
    {
     "data": {
      "text/plain": [
       "8"
      ]
     },
     "execution_count": 16,
     "metadata": {},
     "output_type": "execute_result"
    }
   ],
   "source": [
    "round(pow(2,3))"
   ]
  },
  {
   "cell_type": "code",
   "execution_count": 17,
   "id": "334b4d47-89e5-4562-8fec-edacee0b39e6",
   "metadata": {},
   "outputs": [],
   "source": [
    "#help(math)"
   ]
  },
  {
   "cell_type": "code",
   "execution_count": null,
   "id": "678a7b09-10e9-4999-9dba-773cac2e064b",
   "metadata": {},
   "outputs": [],
   "source": [
    "#pycharm run debug\n",
    "# how to install python idle\n",
    "#how to install pycharm & starts working on pycharm"
   ]
  },
  {
   "cell_type": "raw",
   "id": "8163e068-8825-4294-b731-9f0f0ac0e2bb",
   "metadata": {},
   "source": [
    "## User input function in python|| command line input"
   ]
  },
  {
   "cell_type": "code",
   "execution_count": 19,
   "id": "57a5361b-4bf4-4097-b8ed-38ed25e0f069",
   "metadata": {},
   "outputs": [
    {
     "name": "stdin",
     "output_type": "stream",
     "text": [
      " 2\n",
      " 3\n"
     ]
    },
    {
     "name": "stdout",
     "output_type": "stream",
     "text": [
      "23\n"
     ]
    }
   ],
   "source": [
    "x=input()\n",
    "y=input()\n",
    "z=x+y\n",
    "print(z)"
   ]
  },
  {
   "cell_type": "code",
   "execution_count": 20,
   "id": "b597b8d5-7429-4914-ae9c-51cbedc4560d",
   "metadata": {},
   "outputs": [
    {
     "name": "stdin",
     "output_type": "stream",
     "text": [
      "Enter the 1st number 5\n",
      "Enter the 2nd number 6\n"
     ]
    },
    {
     "name": "stdout",
     "output_type": "stream",
     "text": [
      "56\n"
     ]
    }
   ],
   "source": [
    "x1=input('Enter the 1st number')\n",
    "y1=input('Enter the 2nd number')\n",
    "z1=x1+y1\n",
    "print(z1)"
   ]
  },
  {
   "cell_type": "code",
   "execution_count": 21,
   "id": "c6c20811-978d-44c3-b859-399612967a0b",
   "metadata": {},
   "outputs": [
    {
     "data": {
      "text/plain": [
       "str"
      ]
     },
     "execution_count": 21,
     "metadata": {},
     "output_type": "execute_result"
    }
   ],
   "source": [
    "type(x1)\n",
    "type(y1)"
   ]
  },
  {
   "cell_type": "code",
   "execution_count": 22,
   "id": "dfef8b0f-27b8-4b27-8347-ad033c3c2043",
   "metadata": {},
   "outputs": [
    {
     "name": "stdin",
     "output_type": "stream",
     "text": [
      "Enter the 1st number 4\n",
      "Enter the 2nd number 5\n"
     ]
    },
    {
     "name": "stdout",
     "output_type": "stream",
     "text": [
      "9\n"
     ]
    }
   ],
   "source": [
    "x1=input('Enter the 1st number')\n",
    "a1=int(x1)\n",
    "y1=input('Enter the 2nd number')\n",
    "b1=int(y1)\n",
    "z1=a1+b1\n",
    "print(z1)"
   ]
  },
  {
   "cell_type": "code",
   "execution_count": 23,
   "id": "8ea99c95-3aed-4e62-80e4-0527577ad253",
   "metadata": {},
   "outputs": [
    {
     "name": "stdin",
     "output_type": "stream",
     "text": [
      "Enter the 1st number 4\n",
      "Enter the 2nd number 5\n"
     ]
    },
    {
     "data": {
      "text/plain": [
       "9"
      ]
     },
     "execution_count": 23,
     "metadata": {},
     "output_type": "execute_result"
    }
   ],
   "source": [
    "x2=int(input('Enter the 1st number'))\n",
    "y2=int(input('Enter the 2nd number'))    #by using less memory than compared to the previous code\n",
    "z2=x2+y2\n",
    "z2"
   ]
  },
  {
   "cell_type": "code",
   "execution_count": 24,
   "id": "e52ddc1a-a4d4-4e17-a6e1-8f796c3e8ecc",
   "metadata": {},
   "outputs": [
    {
     "name": "stdin",
     "output_type": "stream",
     "text": [
      "enter a char a\n"
     ]
    },
    {
     "name": "stdout",
     "output_type": "stream",
     "text": [
      "a\n"
     ]
    }
   ],
   "source": [
    "ch=input('enter a char')\n",
    "print(ch)"
   ]
  },
  {
   "cell_type": "code",
   "execution_count": 29,
   "id": "54bb8f4a-9dd6-419c-b4ca-ac7850e10bf4",
   "metadata": {},
   "outputs": [
    {
     "name": "stdin",
     "output_type": "stream",
     "text": [
      "enter a char shabbi\n"
     ]
    },
    {
     "name": "stdout",
     "output_type": "stream",
     "text": [
      "shabbi\n"
     ]
    }
   ],
   "source": [
    "ch=input('enter a char')\n",
    "print(ch)"
   ]
  },
  {
   "cell_type": "code",
   "execution_count": 30,
   "id": "1d392132-5b98-4cfa-9a06-18ba02944403",
   "metadata": {},
   "outputs": [
    {
     "name": "stdout",
     "output_type": "stream",
     "text": [
      "s\n"
     ]
    }
   ],
   "source": [
    "print(ch[0])"
   ]
  },
  {
   "cell_type": "code",
   "execution_count": 31,
   "id": "8ffc2a4b-2e77-43f2-8172-f3400cf6b9c3",
   "metadata": {},
   "outputs": [
    {
     "name": "stdout",
     "output_type": "stream",
     "text": [
      "h\n"
     ]
    }
   ],
   "source": [
    "print(ch[1])"
   ]
  },
  {
   "cell_type": "code",
   "execution_count": 32,
   "id": "848dbb33-6401-46e7-a661-c7304156f9f9",
   "metadata": {},
   "outputs": [
    {
     "name": "stdout",
     "output_type": "stream",
     "text": [
      "i\n"
     ]
    }
   ],
   "source": [
    "print(ch[-1])"
   ]
  },
  {
   "cell_type": "code",
   "execution_count": 33,
   "id": "6b187372-5f5f-44a8-9691-815bed510192",
   "metadata": {},
   "outputs": [
    {
     "name": "stdin",
     "output_type": "stream",
     "text": [
      "enter a char Shabi\n"
     ]
    },
    {
     "name": "stdout",
     "output_type": "stream",
     "text": [
      "S\n"
     ]
    }
   ],
   "source": [
    "ch=input('enter a char')[0]\n",
    "print(ch)"
   ]
  },
  {
   "cell_type": "code",
   "execution_count": 34,
   "id": "e12ca84b-d53d-4b81-a76e-01af428ba4b4",
   "metadata": {},
   "outputs": [
    {
     "name": "stdin",
     "output_type": "stream",
     "text": [
      "enter a char Shabi\n"
     ]
    },
    {
     "name": "stdout",
     "output_type": "stream",
     "text": [
      "ha\n"
     ]
    }
   ],
   "source": [
    "ch=input('enter a char')[1:3]\n",
    "print(ch)"
   ]
  },
  {
   "cell_type": "code",
   "execution_count": 35,
   "id": "f4e5ff4c-9119-4e5f-a17a-e126c4ba4a37",
   "metadata": {},
   "outputs": [
    {
     "name": "stdin",
     "output_type": "stream",
     "text": [
      "enter a char Shabi\n"
     ]
    },
    {
     "name": "stdout",
     "output_type": "stream",
     "text": [
      "Shabi\n"
     ]
    }
   ],
   "source": [
    "ch=input('enter a char')\n",
    "print(ch)"
   ]
  },
  {
   "cell_type": "code",
   "execution_count": 36,
   "id": "de12391e-20b1-48fd-9c27-ab310685f3e3",
   "metadata": {},
   "outputs": [
    {
     "name": "stdin",
     "output_type": "stream",
     "text": [
      "enter a char 2+6-1\n"
     ]
    },
    {
     "name": "stdout",
     "output_type": "stream",
     "text": [
      "2+6-1\n"
     ]
    }
   ],
   "source": [
    "ch=input('enter a char')\n",
    "print(ch)"
   ]
  },
  {
   "cell_type": "raw",
   "id": "641b1ec8-8ab0-494a-a1ee-fa908da85693",
   "metadata": {},
   "source": [
    "## EVAL function using output"
   ]
  },
  {
   "cell_type": "code",
   "execution_count": 37,
   "id": "207fa11a-7855-46a5-85c9-e3e8949817ca",
   "metadata": {},
   "outputs": [
    {
     "name": "stdin",
     "output_type": "stream",
     "text": [
      "enter an expr 5*2\n"
     ]
    },
    {
     "name": "stdout",
     "output_type": "stream",
     "text": [
      "10\n"
     ]
    }
   ],
   "source": [
    "result=eval(input('enter an expr'))\n",
    "print(result)"
   ]
  },
  {
   "cell_type": "markdown",
   "id": "e3aaf0a6-1a77-467e-896b-c8246b60a806",
   "metadata": {},
   "source": [
    "## 3rd july(class)"
   ]
  },
  {
   "cell_type": "code",
   "execution_count": 39,
   "id": "57f867ad-db10-48d3-9ea6-f0843e1b6d91",
   "metadata": {},
   "outputs": [],
   "source": [
    "import numpy as np"
   ]
  },
  {
   "cell_type": "code",
   "execution_count": 40,
   "id": "d06bd0aa-e09a-4d02-a4ee-d4e59a188d0c",
   "metadata": {},
   "outputs": [
    {
     "data": {
      "text/plain": [
       "'1.26.4'"
      ]
     },
     "execution_count": 40,
     "metadata": {},
     "output_type": "execute_result"
    }
   ],
   "source": [
    "np.__version__"
   ]
  },
  {
   "cell_type": "code",
   "execution_count": 41,
   "id": "67d2e29f-2526-45e8-8550-1d3f52751eef",
   "metadata": {},
   "outputs": [
    {
     "data": {
      "text/plain": [
       "[0, 1, 2, 3, 4, 5]"
      ]
     },
     "execution_count": 41,
     "metadata": {},
     "output_type": "execute_result"
    }
   ],
   "source": [
    "my_list=[0,1,2,3,4,5]\n",
    "my_list"
   ]
  },
  {
   "cell_type": "code",
   "execution_count": 42,
   "id": "2373a7e6-aa1a-40d3-96ef-81a4a26201fd",
   "metadata": {},
   "outputs": [
    {
     "data": {
      "text/plain": [
       "list"
      ]
     },
     "execution_count": 42,
     "metadata": {},
     "output_type": "execute_result"
    }
   ],
   "source": [
    "type(my_list)"
   ]
  },
  {
   "cell_type": "code",
   "execution_count": 43,
   "id": "4071e158-01c3-4f7e-84dc-e7700b73d39f",
   "metadata": {},
   "outputs": [
    {
     "data": {
      "text/plain": [
       "array([0, 1, 2, 3, 4, 5])"
      ]
     },
     "execution_count": 43,
     "metadata": {},
     "output_type": "execute_result"
    }
   ],
   "source": [
    "arr=np.array(my_list)\n",
    "arr"
   ]
  },
  {
   "cell_type": "code",
   "execution_count": 44,
   "id": "ac08b6b7-c46d-4a34-8bcb-02c0bdb4016b",
   "metadata": {},
   "outputs": [
    {
     "data": {
      "text/plain": [
       "numpy.ndarray"
      ]
     },
     "execution_count": 44,
     "metadata": {},
     "output_type": "execute_result"
    }
   ],
   "source": [
    "type(arr)"
   ]
  },
  {
   "cell_type": "code",
   "execution_count": 45,
   "id": "5f5f7dc4-b2ca-4aa5-acf3-9ddcb8122ed4",
   "metadata": {},
   "outputs": [
    {
     "name": "stdout",
     "output_type": "stream",
     "text": [
      "<class 'numpy.ndarray'>\n",
      "<class 'list'>\n"
     ]
    }
   ],
   "source": [
    "print(type(arr))\n",
    "print(type(my_list))"
   ]
  },
  {
   "cell_type": "code",
   "execution_count": 46,
   "id": "fc2e23ca-9eb6-43fb-bea6-58c84ebd93d6",
   "metadata": {},
   "outputs": [
    {
     "data": {
      "text/plain": [
       "array([0, 1, 2, 3, 4, 5, 6, 7, 8, 9])"
      ]
     },
     "execution_count": 46,
     "metadata": {},
     "output_type": "execute_result"
    }
   ],
   "source": [
    "np.arange(10)"
   ]
  },
  {
   "cell_type": "code",
   "execution_count": 47,
   "id": "5c840fed-4add-4d75-943f-81e4cd335dc5",
   "metadata": {},
   "outputs": [
    {
     "data": {
      "text/plain": [
       "array([10, 11, 12, 13, 14, 15, 16, 17, 18, 19])"
      ]
     },
     "execution_count": 47,
     "metadata": {},
     "output_type": "execute_result"
    }
   ],
   "source": [
    "np.arange(10,20)"
   ]
  },
  {
   "cell_type": "code",
   "execution_count": 48,
   "id": "802f2063-4e8d-4993-9be3-48ba41767ba2",
   "metadata": {},
   "outputs": [
    {
     "data": {
      "text/plain": [
       "array([10, 15, 20, 25, 30, 35, 40, 45])"
      ]
     },
     "execution_count": 48,
     "metadata": {},
     "output_type": "execute_result"
    }
   ],
   "source": [
    "np.arange(10,50,5)"
   ]
  },
  {
   "cell_type": "code",
   "execution_count": 49,
   "id": "d43a0399-6c5e-4dad-9c2f-ae18411718ad",
   "metadata": {},
   "outputs": [
    {
     "data": {
      "text/plain": [
       "array([10, 13, 16, 19, 22, 25, 28])"
      ]
     },
     "execution_count": 49,
     "metadata": {},
     "output_type": "execute_result"
    }
   ],
   "source": [
    "np.arange(10,30,3)"
   ]
  },
  {
   "cell_type": "code",
   "execution_count": 50,
   "id": "004ee11c-c3de-4029-b351-a92afec645fa",
   "metadata": {},
   "outputs": [
    {
     "ename": "TypeError",
     "evalue": "Cannot interpret '3' as a data type",
     "output_type": "error",
     "traceback": [
      "\u001b[1;31m---------------------------------------------------------------------------\u001b[0m",
      "\u001b[1;31mTypeError\u001b[0m                                 Traceback (most recent call last)",
      "Cell \u001b[1;32mIn[50], line 1\u001b[0m\n\u001b[1;32m----> 1\u001b[0m np\u001b[38;5;241m.\u001b[39marange(\u001b[38;5;241m10\u001b[39m,\u001b[38;5;241m30\u001b[39m,\u001b[38;5;241m30\u001b[39m,\u001b[38;5;241m3\u001b[39m)\n",
      "\u001b[1;31mTypeError\u001b[0m: Cannot interpret '3' as a data type"
     ]
    }
   ],
   "source": [
    "np.arange(10,30,30,3)"
   ]
  },
  {
   "cell_type": "code",
   "execution_count": 51,
   "id": "ee735178-7b83-4e3a-b86e-90ebace0055f",
   "metadata": {},
   "outputs": [
    {
     "data": {
      "text/plain": [
       "array([ 8,  9, 10, 11, 12, 13, 14, 15, 16, 17, 18, 19])"
      ]
     },
     "execution_count": 51,
     "metadata": {},
     "output_type": "execute_result"
    }
   ],
   "source": [
    "np.arange(8,20)"
   ]
  },
  {
   "cell_type": "code",
   "execution_count": 52,
   "id": "4df12af8-63cd-44c1-a5a8-96b68c8356c7",
   "metadata": {},
   "outputs": [
    {
     "data": {
      "text/plain": [
       "array([], dtype=int32)"
      ]
     },
     "execution_count": 52,
     "metadata": {},
     "output_type": "execute_result"
    }
   ],
   "source": [
    "np.arange(20,8)"
   ]
  },
  {
   "cell_type": "code",
   "execution_count": 53,
   "id": "3345fc62-9498-4aff-aac7-b5623b39cabe",
   "metadata": {},
   "outputs": [
    {
     "data": {
      "text/plain": [
       "array([-20, -19, -18, -17, -16, -15, -14, -13, -12, -11, -10,  -9,  -8,\n",
       "        -7,  -6,  -5,  -4,  -3,  -2,  -1,   0,   1,   2,   3,   4,   5,\n",
       "         6,   7])"
      ]
     },
     "execution_count": 53,
     "metadata": {},
     "output_type": "execute_result"
    }
   ],
   "source": [
    "np.arange(-20,8)   #1st arg < 2nd arg"
   ]
  },
  {
   "cell_type": "code",
   "execution_count": 54,
   "id": "367f0a44-66ec-4d61-a9aa-ac885dfd54d6",
   "metadata": {},
   "outputs": [
    {
     "data": {
      "text/plain": [
       "array([-20, -19, -18, -17, -16, -15, -14, -13, -12, -11, -10,  -9,  -8,\n",
       "        -7,  -6,  -5,  -4,  -3,  -2,  -1,   0,   1,   2,   3,   4,   5,\n",
       "         6,   7])"
      ]
     },
     "execution_count": 54,
     "metadata": {},
     "output_type": "execute_result"
    }
   ],
   "source": [
    "n=np.arange(-20,8)\n",
    "n"
   ]
  },
  {
   "cell_type": "code",
   "execution_count": 29,
   "id": "43ffb729-c9a8-4f5f-bd75-cb270e7fcc6a",
   "metadata": {},
   "outputs": [
    {
     "data": {
      "text/plain": [
       "array([0., 0., 0.])"
      ]
     },
     "execution_count": 29,
     "metadata": {},
     "output_type": "execute_result"
    }
   ],
   "source": [
    "np.zeros(3)"
   ]
  },
  {
   "cell_type": "code",
   "execution_count": 30,
   "id": "563dd5bd-8e61-4877-90fc-730679a5e9b3",
   "metadata": {},
   "outputs": [
    {
     "data": {
      "text/plain": [
       "array([0, 0, 0])"
      ]
     },
     "execution_count": 30,
     "metadata": {},
     "output_type": "execute_result"
    }
   ],
   "source": [
    "np.zeros(3,dtype=int)    "
   ]
  },
  {
   "cell_type": "code",
   "execution_count": 32,
   "id": "e8c205aa-9534-4b44-aba2-ea18e04418e2",
   "metadata": {},
   "outputs": [
    {
     "data": {
      "text/plain": [
       "array([0., 0., 0., 0., 0.])"
      ]
     },
     "execution_count": 32,
     "metadata": {},
     "output_type": "execute_result"
    }
   ],
   "source": [
    "z=np.zeros(5)\n",
    "z"
   ]
  },
  {
   "cell_type": "code",
   "execution_count": 33,
   "id": "dbf799cb-50d9-4d32-adad-030c19108ea7",
   "metadata": {},
   "outputs": [
    {
     "data": {
      "text/plain": [
       "array([0, 0, 0, 0, 0])"
      ]
     },
     "execution_count": 33,
     "metadata": {},
     "output_type": "execute_result"
    }
   ],
   "source": [
    "z=np.zeros(5,dtype=int)\n",
    "z"
   ]
  },
  {
   "cell_type": "code",
   "execution_count": 36,
   "id": "c9573d38-5cc4-4d23-9d55-85b91a7a9bf3",
   "metadata": {},
   "outputs": [
    {
     "data": {
      "text/plain": [
       "array([[0., 0.],\n",
       "       [0., 0.]])"
      ]
     },
     "execution_count": 36,
     "metadata": {},
     "output_type": "execute_result"
    }
   ],
   "source": [
    "z=np.zeros((2,2))    ##2d array\n",
    "z"
   ]
  },
  {
   "cell_type": "code",
   "execution_count": 38,
   "id": "c7603771-1233-4eec-94a3-f6023f9f60d7",
   "metadata": {},
   "outputs": [
    {
     "data": {
      "text/plain": [
       "array([[0, 0, 0],\n",
       "       [0, 0, 0],\n",
       "       [0, 0, 0]])"
      ]
     },
     "execution_count": 38,
     "metadata": {},
     "output_type": "execute_result"
    }
   ],
   "source": [
    "z=np.zeros((3,3),dtype=int) \n",
    "z"
   ]
  },
  {
   "cell_type": "code",
   "execution_count": 39,
   "id": "a499900b-a5aa-46b9-b2a8-0a8738c24faa",
   "metadata": {},
   "outputs": [
    {
     "data": {
      "text/plain": [
       "array([[0, 0, 0, 0, 0, 0, 0, 0, 0],\n",
       "       [0, 0, 0, 0, 0, 0, 0, 0, 0],\n",
       "       [0, 0, 0, 0, 0, 0, 0, 0, 0],\n",
       "       [0, 0, 0, 0, 0, 0, 0, 0, 0],\n",
       "       [0, 0, 0, 0, 0, 0, 0, 0, 0]])"
      ]
     },
     "execution_count": 39,
     "metadata": {},
     "output_type": "execute_result"
    }
   ],
   "source": [
    "z=np.zeros((5,9),dtype=int)\n",
    "z"
   ]
  },
  {
   "cell_type": "code",
   "execution_count": 40,
   "id": "bc14e77e-3953-4daa-84ef-fa0b630c1bab",
   "metadata": {},
   "outputs": [
    {
     "data": {
      "text/plain": [
       "array([[1, 1, 1, 1, 1, 1, 1, 1, 1],\n",
       "       [1, 1, 1, 1, 1, 1, 1, 1, 1],\n",
       "       [1, 1, 1, 1, 1, 1, 1, 1, 1],\n",
       "       [1, 1, 1, 1, 1, 1, 1, 1, 1],\n",
       "       [1, 1, 1, 1, 1, 1, 1, 1, 1]])"
      ]
     },
     "execution_count": 40,
     "metadata": {},
     "output_type": "execute_result"
    }
   ],
   "source": [
    "z=np.ones((5,9),dtype=int)\n",
    "z"
   ]
  },
  {
   "cell_type": "code",
   "execution_count": 41,
   "id": "fac3f5ef-ac8f-47e2-b879-7a33046a85d6",
   "metadata": {},
   "outputs": [
    {
     "data": {
      "text/plain": [
       "array([1., 1., 1.])"
      ]
     },
     "execution_count": 41,
     "metadata": {},
     "output_type": "execute_result"
    }
   ],
   "source": [
    "z=np.ones(3)\n",
    "z"
   ]
  },
  {
   "cell_type": "code",
   "execution_count": 42,
   "id": "3f712b8d-6833-47b6-9580-f5750cbd7ecd",
   "metadata": {},
   "outputs": [
    {
     "data": {
      "text/plain": [
       "array([[1, 1, 1],\n",
       "       [1, 1, 1],\n",
       "       [1, 1, 1]])"
      ]
     },
     "execution_count": 42,
     "metadata": {},
     "output_type": "execute_result"
    }
   ],
   "source": [
    "z=np.ones((3,3),dtype=int)\n",
    "z"
   ]
  },
  {
   "cell_type": "code",
   "execution_count": 49,
   "id": "58520534-429d-4616-b957-0b6de5f87620",
   "metadata": {},
   "outputs": [
    {
     "data": {
      "text/plain": [
       "array([[1, 1, 1, 1, 1, 1, 1, 1, 1, 1],\n",
       "       [1, 1, 1, 1, 1, 1, 1, 1, 1, 1],\n",
       "       [1, 1, 1, 1, 1, 1, 1, 1, 1, 1],\n",
       "       [1, 1, 1, 1, 1, 1, 1, 1, 1, 1],\n",
       "       [1, 1, 1, 1, 1, 1, 1, 1, 1, 1],\n",
       "       [1, 1, 1, 1, 1, 1, 1, 1, 1, 1],\n",
       "       [1, 1, 1, 1, 1, 1, 1, 1, 1, 1],\n",
       "       [1, 1, 1, 1, 1, 1, 1, 1, 1, 1],\n",
       "       [1, 1, 1, 1, 1, 1, 1, 1, 1, 1],\n",
       "       [1, 1, 1, 1, 1, 1, 1, 1, 1, 1]])"
      ]
     },
     "execution_count": 49,
     "metadata": {},
     "output_type": "execute_result"
    }
   ],
   "source": [
    "nd1=np.ones((10,10),dtype=int)\n",
    "nd1"
   ]
  },
  {
   "cell_type": "code",
   "execution_count": 48,
   "id": "6f9dda19-7e0b-4675-a4bd-2d88ea990cd3",
   "metadata": {},
   "outputs": [
    {
     "data": {
      "text/plain": [
       "array([0, 1, 2, 3, 4, 5])"
      ]
     },
     "execution_count": 48,
     "metadata": {},
     "output_type": "execute_result"
    }
   ],
   "source": [
    "arr"
   ]
  },
  {
   "cell_type": "markdown",
   "id": "d86e5ff8-6178-42b2-b6a3-e8c1b57fd4a8",
   "metadata": {},
   "source": [
    "## 3rd task  "
   ]
  },
  {
   "cell_type": "code",
   "execution_count": null,
   "id": "465d2df5-1a12-4e77-a04c-d2ed0fc4a3a1",
   "metadata": {},
   "outputs": [],
   "source": []
  }
 ],
 "metadata": {
  "kernelspec": {
   "display_name": "Python [conda env:base] *",
   "language": "python",
   "name": "conda-base-py"
  },
  "language_info": {
   "codemirror_mode": {
    "name": "ipython",
    "version": 3
   },
   "file_extension": ".py",
   "mimetype": "text/x-python",
   "name": "python",
   "nbconvert_exporter": "python",
   "pygments_lexer": "ipython3",
   "version": "3.12.7"
  }
 },
 "nbformat": 4,
 "nbformat_minor": 5
}
