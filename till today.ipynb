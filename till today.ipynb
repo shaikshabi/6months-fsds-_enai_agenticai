{
 "cells": [
  {
   "cell_type": "markdown",
   "id": "7add08e8-f0de-4dcd-8f2a-13b1abdaebcc",
   "metadata": {
    "jp-MarkdownHeadingCollapsed": true
   },
   "source": [
    "## 17th June(Task 1)"
   ]
  },
  {
   "cell_type": "code",
   "execution_count": 1,
   "id": "1ba35218-4548-4379-8580-375dd4408fb1",
   "metadata": {},
   "outputs": [
    {
     "data": {
      "text/plain": [
       "4"
      ]
     },
     "execution_count": 1,
     "metadata": {},
     "output_type": "execute_result"
    }
   ],
   "source": [
    "2+2"
   ]
  },
  {
   "cell_type": "code",
   "execution_count": 2,
   "id": "23ff5011-bc90-4edd-b3dc-51b56d7b5266",
   "metadata": {},
   "outputs": [
    {
     "data": {
      "text/plain": [
       "20"
      ]
     },
     "execution_count": 2,
     "metadata": {},
     "output_type": "execute_result"
    }
   ],
   "source": [
    "50-5*6"
   ]
  },
  {
   "cell_type": "code",
   "execution_count": 3,
   "id": "10b3f5fd-e795-4c86-93a2-74581e6d6603",
   "metadata": {},
   "outputs": [
    {
     "data": {
      "text/plain": [
       "5.0"
      ]
     },
     "execution_count": 3,
     "metadata": {},
     "output_type": "execute_result"
    }
   ],
   "source": [
    "(50-5*6)/4"
   ]
  },
  {
   "cell_type": "code",
   "execution_count": 4,
   "id": "9129c320-3c69-4f87-9267-18550ed75cb3",
   "metadata": {},
   "outputs": [
    {
     "data": {
      "text/plain": [
       "1.6"
      ]
     },
     "execution_count": 4,
     "metadata": {},
     "output_type": "execute_result"
    }
   ],
   "source": [
    "8/5   # division always retuens a floating-point number"
   ]
  },
  {
   "cell_type": "code",
   "execution_count": 5,
   "id": "ad6600f3-5491-4de1-82ff-7a908a923225",
   "metadata": {},
   "outputs": [
    {
     "data": {
      "text/plain": [
       "5.666666666666667"
      ]
     },
     "execution_count": 5,
     "metadata": {},
     "output_type": "execute_result"
    }
   ],
   "source": [
    "17/3         # classic division returns float"
   ]
  },
  {
   "cell_type": "code",
   "execution_count": 6,
   "id": "26cb9808-2a87-422c-8d56-f76cb7671cca",
   "metadata": {},
   "outputs": [
    {
     "data": {
      "text/plain": [
       "5"
      ]
     },
     "execution_count": 6,
     "metadata": {},
     "output_type": "execute_result"
    }
   ],
   "source": [
    "17//3         # floor division discards the fractinal part"
   ]
  },
  {
   "cell_type": "code",
   "execution_count": 7,
   "id": "1b4dd443-5293-4351-b39e-72c1731dc181",
   "metadata": {},
   "outputs": [
    {
     "data": {
      "text/plain": [
       "2"
      ]
     },
     "execution_count": 7,
     "metadata": {},
     "output_type": "execute_result"
    }
   ],
   "source": [
    "17%3         # the % operator returns the remainder of the division"
   ]
  },
  {
   "cell_type": "code",
   "execution_count": 8,
   "id": "83d901b7-6212-4018-a346-15a0f30768b1",
   "metadata": {},
   "outputs": [
    {
     "data": {
      "text/plain": [
       "17"
      ]
     },
     "execution_count": 8,
     "metadata": {},
     "output_type": "execute_result"
    }
   ],
   "source": [
    "5*3+2         # floored quotient * divisor + remainder"
   ]
  },
  {
   "cell_type": "code",
   "execution_count": 9,
   "id": "6b4d5fdd-6eec-492f-8d1a-66193e9084d8",
   "metadata": {},
   "outputs": [
    {
     "data": {
      "text/plain": [
       "25"
      ]
     },
     "execution_count": 9,
     "metadata": {},
     "output_type": "execute_result"
    }
   ],
   "source": [
    "5**2           # 5 square"
   ]
  },
  {
   "cell_type": "code",
   "execution_count": 10,
   "id": "5e9c669a-ee95-4de5-a648-8b1e79585c65",
   "metadata": {},
   "outputs": [
    {
     "data": {
      "text/plain": [
       "128"
      ]
     },
     "execution_count": 10,
     "metadata": {},
     "output_type": "execute_result"
    }
   ],
   "source": [
    "2**7            # 2 to the power of 7"
   ]
  },
  {
   "cell_type": "code",
   "execution_count": 12,
   "id": "9fdbf68c-a40b-477b-a04f-98eedb07abca",
   "metadata": {},
   "outputs": [
    {
     "data": {
      "text/plain": [
       "900"
      ]
     },
     "execution_count": 12,
     "metadata": {},
     "output_type": "execute_result"
    }
   ],
   "source": [
    "width=20\n",
    "height =45\n",
    "width *height"
   ]
  },
  {
   "cell_type": "code",
   "execution_count": 13,
   "id": "4e854129-1cbc-4cd8-b4cc-5cef693a8e6d",
   "metadata": {},
   "outputs": [
    {
     "ename": "NameError",
     "evalue": "name 'n' is not defined",
     "output_type": "error",
     "traceback": [
      "\u001b[1;31m---------------------------------------------------------------------------\u001b[0m",
      "\u001b[1;31mNameError\u001b[0m                                 Traceback (most recent call last)",
      "Cell \u001b[1;32mIn[13], line 1\u001b[0m\n\u001b[1;32m----> 1\u001b[0m n\n",
      "\u001b[1;31mNameError\u001b[0m: name 'n' is not defined"
     ]
    }
   ],
   "source": [
    "n  # try to access an undefined variable"
   ]
  },
  {
   "cell_type": "code",
   "execution_count": 14,
   "id": "983cc44a-0fe5-4b82-bc3d-da4a8d72e1ea",
   "metadata": {},
   "outputs": [
    {
     "data": {
      "text/plain": [
       "14.0"
      ]
     },
     "execution_count": 14,
     "metadata": {},
     "output_type": "execute_result"
    }
   ],
   "source": [
    "4*3.75-1"
   ]
  },
  {
   "cell_type": "code",
   "execution_count": 2,
   "id": "17f11efc-a99c-4bdf-ba42-d9b7b4fa8474",
   "metadata": {},
   "outputs": [
    {
     "ename": "TypeError",
     "evalue": "unsupported operand type(s) for +: 'float' and 'str'",
     "output_type": "error",
     "traceback": [
      "\u001b[1;31m---------------------------------------------------------------------------\u001b[0m",
      "\u001b[1;31mTypeError\u001b[0m                                 Traceback (most recent call last)",
      "Cell \u001b[1;32mIn[2], line 4\u001b[0m\n\u001b[0;32m      2\u001b[0m price\u001b[38;5;241m=\u001b[39m\u001b[38;5;241m100.50\u001b[39m\n\u001b[0;32m      3\u001b[0m price\u001b[38;5;241m*\u001b[39mtax\n\u001b[1;32m----> 4\u001b[0m price\u001b[38;5;241m+\u001b[39m_\n\u001b[0;32m      5\u001b[0m \u001b[38;5;28mround\u001b[39m(_,\u001b[38;5;241m2\u001b[39m)\n",
      "\u001b[1;31mTypeError\u001b[0m: unsupported operand type(s) for +: 'float' and 'str'"
     ]
    }
   ],
   "source": [
    "tax=12.5/100\n",
    "price=100.50\n",
    "price*tax\n",
    "price+_\n",
    "round(_,2)"
   ]
  },
  {
   "cell_type": "code",
   "execution_count": 3,
   "id": "faee96b8-0c4f-424b-b224-c078f0edd7be",
   "metadata": {},
   "outputs": [
    {
     "data": {
      "text/plain": [
       "'spam eggs'"
      ]
     },
     "execution_count": 3,
     "metadata": {},
     "output_type": "execute_result"
    }
   ],
   "source": [
    "'spam eggs'"
   ]
  },
  {
   "cell_type": "code",
   "execution_count": 4,
   "id": "804190a1-f190-4775-b44e-68409b197cd5",
   "metadata": {},
   "outputs": [
    {
     "data": {
      "text/plain": [
       "'Paris rabbit got your back :)! Yay!'"
      ]
     },
     "execution_count": 4,
     "metadata": {},
     "output_type": "execute_result"
    }
   ],
   "source": [
    "\"Paris rabbit got your back :)! Yay!\""
   ]
  },
  {
   "cell_type": "code",
   "execution_count": 5,
   "id": "d057f2a5-ddc1-49f9-8253-ba40c8131feb",
   "metadata": {},
   "outputs": [
    {
     "data": {
      "text/plain": [
       "'1975'"
      ]
     },
     "execution_count": 5,
     "metadata": {},
     "output_type": "execute_result"
    }
   ],
   "source": [
    "'1975'"
   ]
  },
  {
   "cell_type": "code",
   "execution_count": 6,
   "id": "7417a048-4deb-4f65-b706-320478f6b65f",
   "metadata": {},
   "outputs": [
    {
     "data": {
      "text/plain": [
       "\"doesn't\""
      ]
     },
     "execution_count": 6,
     "metadata": {},
     "output_type": "execute_result"
    }
   ],
   "source": [
    "'doesn\\'t'"
   ]
  },
  {
   "cell_type": "code",
   "execution_count": 7,
   "id": "6d3cceda-1f63-4df8-90c1-bd08215c174f",
   "metadata": {},
   "outputs": [
    {
     "data": {
      "text/plain": [
       "\"doesn't\""
      ]
     },
     "execution_count": 7,
     "metadata": {},
     "output_type": "execute_result"
    }
   ],
   "source": [
    "\"doesn't\""
   ]
  },
  {
   "cell_type": "code",
   "execution_count": 9,
   "id": "eaeba822-4b4b-4dd2-96e7-cf0b993b31ca",
   "metadata": {},
   "outputs": [
    {
     "data": {
      "text/plain": [
       "' \"Yes,\" they said.'"
      ]
     },
     "execution_count": 9,
     "metadata": {},
     "output_type": "execute_result"
    }
   ],
   "source": [
    "' \"Yes,\" they said.'"
   ]
  },
  {
   "cell_type": "code",
   "execution_count": 10,
   "id": "b5b9abd5-d4e7-4d10-91be-2831af44fa34",
   "metadata": {},
   "outputs": [
    {
     "data": {
      "text/plain": [
       "'\"Yes,\" they said.'"
      ]
     },
     "execution_count": 10,
     "metadata": {},
     "output_type": "execute_result"
    }
   ],
   "source": [
    "\"\\\"Yes,\\\" they said.\""
   ]
  },
  {
   "cell_type": "code",
   "execution_count": 11,
   "id": "d0a4887a-e852-45d5-a882-9f1f7c09d313",
   "metadata": {},
   "outputs": [
    {
     "data": {
      "text/plain": [
       "'\"Isn\\'t,\" they said.'"
      ]
     },
     "execution_count": 11,
     "metadata": {},
     "output_type": "execute_result"
    }
   ],
   "source": [
    "'\"Isn\\'t,\" they said.'"
   ]
  },
  {
   "cell_type": "code",
   "execution_count": 12,
   "id": "6181ff91-75b1-4b3c-9de2-762afa3a4110",
   "metadata": {},
   "outputs": [
    {
     "data": {
      "text/plain": [
       "'First line.\\nSecond line.'"
      ]
     },
     "execution_count": 12,
     "metadata": {},
     "output_type": "execute_result"
    }
   ],
   "source": [
    "s='First line.\\nSecond line.'\n",
    "s"
   ]
  },
  {
   "cell_type": "code",
   "execution_count": 13,
   "id": "dd65a45f-9d4f-4bb7-946e-8ee0c0034ec4",
   "metadata": {},
   "outputs": [
    {
     "name": "stdout",
     "output_type": "stream",
     "text": [
      "First line.\n",
      "Second line.\n"
     ]
    }
   ],
   "source": [
    "print(s)"
   ]
  },
  {
   "cell_type": "code",
   "execution_count": 17,
   "id": "a218b6b2-0c87-4e83-8023-7b0bb2c2a226",
   "metadata": {},
   "outputs": [
    {
     "name": "stdout",
     "output_type": "stream",
     "text": [
      "C:\\some\n",
      "ame\n"
     ]
    },
    {
     "name": "stderr",
     "output_type": "stream",
     "text": [
      "<>:1: SyntaxWarning: invalid escape sequence '\\s'\n",
      "<>:1: SyntaxWarning: invalid escape sequence '\\s'\n",
      "C:\\Users\\Admin\\AppData\\Local\\Temp\\ipykernel_12540\\3441249919.py:1: SyntaxWarning: invalid escape sequence '\\s'\n",
      "  print('C:\\some\\name')\n"
     ]
    }
   ],
   "source": [
    "print('C:\\some\\name')"
   ]
  },
  {
   "cell_type": "code",
   "execution_count": 16,
   "id": "990aff5e-89f4-4c9b-a544-3596cc70df85",
   "metadata": {},
   "outputs": [
    {
     "name": "stdout",
     "output_type": "stream",
     "text": [
      "C:\\some\\name\n"
     ]
    }
   ],
   "source": [
    "print(r'C:\\some\\name')"
   ]
  },
  {
   "cell_type": "code",
   "execution_count": 1,
   "id": "fe4a58c3-4f6c-46f1-93f0-f16f2527da96",
   "metadata": {},
   "outputs": [
    {
     "name": "stdout",
     "output_type": "stream",
     "text": [
      "Usage: thingy [OPTIONS}\n",
      "   -h                         Display this usage message\n",
      "   -H hostname                Hostname to connect to\n",
      "\n"
     ]
    }
   ],
   "source": [
    "print(\"\"\"\\\n",
    "Usage: thingy [OPTIONS}\n",
    "   -h                         Display this usage message\n",
    "   -H hostname                Hostname to connect to\n",
    "\"\"\")"
   ]
  },
  {
   "cell_type": "code",
   "execution_count": 2,
   "id": "475b2a5e-e8d4-4cc5-96b3-04f7105cd670",
   "metadata": {},
   "outputs": [
    {
     "data": {
      "text/plain": [
       "'unununium'"
      ]
     },
     "execution_count": 2,
     "metadata": {},
     "output_type": "execute_result"
    }
   ],
   "source": [
    "3* 'un' + 'ium'"
   ]
  },
  {
   "cell_type": "code",
   "execution_count": 3,
   "id": "0d6a76a5-2205-49a1-b4b0-7c89191e9d4d",
   "metadata": {},
   "outputs": [
    {
     "data": {
      "text/plain": [
       "'python'"
      ]
     },
     "execution_count": 3,
     "metadata": {},
     "output_type": "execute_result"
    }
   ],
   "source": [
    "'py' 'thon'"
   ]
  },
  {
   "cell_type": "code",
   "execution_count": 6,
   "id": "b998e860-0bd4-4f29-8d95-21fab951abe7",
   "metadata": {},
   "outputs": [
    {
     "data": {
      "text/plain": [
       "'Put several strings within parentheses to have them joined together.'"
      ]
     },
     "execution_count": 6,
     "metadata": {},
     "output_type": "execute_result"
    }
   ],
   "source": [
    "text =('Put several strings within parentheses '\n",
    "        'to have them joined together.')\n",
    "text"
   ]
  },
  {
   "cell_type": "raw",
   "id": "9714d37a-2359-4059-ab47-ab6abdf663c9",
   "metadata": {},
   "source": [
    "prefix='Py'\n",
    "prefix 'thon'\n",
    "  File\"<stdin>\", line 1\n",
    "     prefix 'thon'\n",
    "('un' *3) 'ium'\n",
    " File\"<stdin>\", line 1\n",
    "   ('un' * 3) 'ium'"
   ]
  },
  {
   "cell_type": "code",
   "execution_count": 7,
   "id": "de405a1b-f432-4b20-aedd-4ffe48fad61c",
   "metadata": {},
   "outputs": [
    {
     "data": {
      "text/plain": [
       "'Python'"
      ]
     },
     "execution_count": 7,
     "metadata": {},
     "output_type": "execute_result"
    }
   ],
   "source": [
    "prefix = 'thon'\n",
    "'Python'"
   ]
  },
  {
   "cell_type": "code",
   "execution_count": 10,
   "id": "dab3297b-fbb8-433f-a3b3-40bd149c9d41",
   "metadata": {},
   "outputs": [
    {
     "data": {
      "text/plain": [
       "'P'"
      ]
     },
     "execution_count": 10,
     "metadata": {},
     "output_type": "execute_result"
    }
   ],
   "source": [
    "word='Python'\n",
    "word[0]"
   ]
  },
  {
   "cell_type": "code",
   "execution_count": 11,
   "id": "1f42402c-1fba-4807-bae6-882034223ea0",
   "metadata": {},
   "outputs": [
    {
     "data": {
      "text/plain": [
       "'n'"
      ]
     },
     "execution_count": 11,
     "metadata": {},
     "output_type": "execute_result"
    }
   ],
   "source": [
    "word[5]"
   ]
  },
  {
   "cell_type": "code",
   "execution_count": 12,
   "id": "cc743b70-b669-4552-8374-ce749520d2d4",
   "metadata": {},
   "outputs": [
    {
     "data": {
      "text/plain": [
       "'n'"
      ]
     },
     "execution_count": 12,
     "metadata": {},
     "output_type": "execute_result"
    }
   ],
   "source": [
    "word[-1]"
   ]
  },
  {
   "cell_type": "code",
   "execution_count": 13,
   "id": "d6ea7d58-a226-41bc-86bd-c14847036d3f",
   "metadata": {},
   "outputs": [
    {
     "data": {
      "text/plain": [
       "'o'"
      ]
     },
     "execution_count": 13,
     "metadata": {},
     "output_type": "execute_result"
    }
   ],
   "source": [
    "word[-2]"
   ]
  },
  {
   "cell_type": "code",
   "execution_count": 14,
   "id": "e8928097-60d8-41f8-9c37-81f5be801b80",
   "metadata": {},
   "outputs": [
    {
     "data": {
      "text/plain": [
       "'P'"
      ]
     },
     "execution_count": 14,
     "metadata": {},
     "output_type": "execute_result"
    }
   ],
   "source": [
    "word[-6]"
   ]
  },
  {
   "cell_type": "code",
   "execution_count": 16,
   "id": "bda6ae89-ed47-4d6f-8074-2aa61efb8be9",
   "metadata": {},
   "outputs": [
    {
     "data": {
      "text/plain": [
       "'Py'"
      ]
     },
     "execution_count": 16,
     "metadata": {},
     "output_type": "execute_result"
    }
   ],
   "source": [
    "word[0:2]"
   ]
  },
  {
   "cell_type": "code",
   "execution_count": 17,
   "id": "19700559-eb78-4d0d-a4b5-5a2518065584",
   "metadata": {},
   "outputs": [
    {
     "data": {
      "text/plain": [
       "'tho'"
      ]
     },
     "execution_count": 17,
     "metadata": {},
     "output_type": "execute_result"
    }
   ],
   "source": [
    "word[2:5]"
   ]
  },
  {
   "cell_type": "code",
   "execution_count": 18,
   "id": "da16a242-0f57-4157-b35a-4b451484673e",
   "metadata": {},
   "outputs": [
    {
     "data": {
      "text/plain": [
       "'Py'"
      ]
     },
     "execution_count": 18,
     "metadata": {},
     "output_type": "execute_result"
    }
   ],
   "source": [
    "word[:2]"
   ]
  },
  {
   "cell_type": "code",
   "execution_count": 19,
   "id": "d1a9ab38-aa21-4a71-ac6e-303ce9ed8735",
   "metadata": {},
   "outputs": [
    {
     "data": {
      "text/plain": [
       "'on'"
      ]
     },
     "execution_count": 19,
     "metadata": {},
     "output_type": "execute_result"
    }
   ],
   "source": [
    "word[4:]"
   ]
  },
  {
   "cell_type": "code",
   "execution_count": 20,
   "id": "e5092a62-9fd4-494e-a04e-d50bd0ff5268",
   "metadata": {},
   "outputs": [
    {
     "data": {
      "text/plain": [
       "'on'"
      ]
     },
     "execution_count": 20,
     "metadata": {},
     "output_type": "execute_result"
    }
   ],
   "source": [
    "word[-2:]"
   ]
  },
  {
   "cell_type": "code",
   "execution_count": 22,
   "id": "e4b998c6-99d2-44ed-82c0-ef4950c8c8c5",
   "metadata": {},
   "outputs": [
    {
     "data": {
      "text/plain": [
       "'Python'"
      ]
     },
     "execution_count": 22,
     "metadata": {},
     "output_type": "execute_result"
    }
   ],
   "source": [
    "word[:2] + word[2:]"
   ]
  },
  {
   "cell_type": "code",
   "execution_count": 23,
   "id": "a1c24406-48ac-4f17-bd65-7de60ee30ac7",
   "metadata": {},
   "outputs": [
    {
     "data": {
      "text/plain": [
       "'Python'"
      ]
     },
     "execution_count": 23,
     "metadata": {},
     "output_type": "execute_result"
    }
   ],
   "source": [
    "word[:4] + word[4:]"
   ]
  },
  {
   "cell_type": "code",
   "execution_count": 25,
   "id": "dc26a7de-cdf5-4599-859c-a03bfa231995",
   "metadata": {},
   "outputs": [
    {
     "ename": "SyntaxError",
     "evalue": "invalid syntax. Perhaps you forgot a comma? (4095425601.py, line 2)",
     "output_type": "error",
     "traceback": [
      "\u001b[1;36m  Cell \u001b[1;32mIn[25], line 2\u001b[1;36m\u001b[0m\n\u001b[1;33m    Traceback (most recent call last):\u001b[0m\n\u001b[1;37m               ^\u001b[0m\n\u001b[1;31mSyntaxError\u001b[0m\u001b[1;31m:\u001b[0m invalid syntax. Perhaps you forgot a comma?\n"
     ]
    }
   ],
   "source": [
    "word[42]\n",
    "Traceback (most recent call last):\n",
    "File\"<stdin>\", line 1, in <module>"
   ]
  },
  {
   "cell_type": "code",
   "execution_count": 26,
   "id": "a24a63f9-d509-4c06-a2fa-bbc8a79dfe09",
   "metadata": {},
   "outputs": [
    {
     "data": {
      "text/plain": [
       "'on'"
      ]
     },
     "execution_count": 26,
     "metadata": {},
     "output_type": "execute_result"
    }
   ],
   "source": [
    "word[4:42]"
   ]
  },
  {
   "cell_type": "code",
   "execution_count": 27,
   "id": "6e40a5c1-fa1d-4f45-bcf0-1f0bd4e83eef",
   "metadata": {},
   "outputs": [
    {
     "data": {
      "text/plain": [
       "''"
      ]
     },
     "execution_count": 27,
     "metadata": {},
     "output_type": "execute_result"
    }
   ],
   "source": [
    "word[42:]"
   ]
  },
  {
   "cell_type": "code",
   "execution_count": 28,
   "id": "44505463-4514-440b-8662-6e76d9e13432",
   "metadata": {},
   "outputs": [
    {
     "ename": "SyntaxError",
     "evalue": "invalid syntax. Perhaps you forgot a comma? (1615341260.py, line 2)",
     "output_type": "error",
     "traceback": [
      "\u001b[1;36m  Cell \u001b[1;32mIn[28], line 2\u001b[1;36m\u001b[0m\n\u001b[1;33m    Traceback(most recent call last):\u001b[0m\n\u001b[1;37m              ^\u001b[0m\n\u001b[1;31mSyntaxError\u001b[0m\u001b[1;31m:\u001b[0m invalid syntax. Perhaps you forgot a comma?\n"
     ]
    }
   ],
   "source": [
    "word[0]='J'\n",
    "Traceback(most recent call last):\n",
    " File\"<stdin>\", line 1, in <module>"
   ]
  },
  {
   "cell_type": "code",
   "execution_count": 29,
   "id": "68c625fc-db53-4e0d-a10a-943d8c030013",
   "metadata": {},
   "outputs": [
    {
     "data": {
      "text/plain": [
       "'Jython'"
      ]
     },
     "execution_count": 29,
     "metadata": {},
     "output_type": "execute_result"
    }
   ],
   "source": [
    "'J' + word[1:]"
   ]
  },
  {
   "cell_type": "code",
   "execution_count": 31,
   "id": "0aaa022c-75b7-4f5c-9ab5-6a684de46758",
   "metadata": {},
   "outputs": [
    {
     "data": {
      "text/plain": [
       "'Pypy'"
      ]
     },
     "execution_count": 31,
     "metadata": {},
     "output_type": "execute_result"
    }
   ],
   "source": [
    "word[:2] + 'py'"
   ]
  },
  {
   "cell_type": "code",
   "execution_count": 33,
   "id": "5131b26f-96d1-45f6-b02f-a16b1c8dcfb8",
   "metadata": {},
   "outputs": [
    {
     "data": {
      "text/plain": [
       "34"
      ]
     },
     "execution_count": 33,
     "metadata": {},
     "output_type": "execute_result"
    }
   ],
   "source": [
    "s='supercalifragilisticexpialidocious'\n",
    "len(s)"
   ]
  },
  {
   "cell_type": "code",
   "execution_count": 34,
   "id": "e6255248-b8bf-45b3-946f-874df5b5d28e",
   "metadata": {},
   "outputs": [
    {
     "data": {
      "text/plain": [
       "[1, 4, 9, 16, 25]"
      ]
     },
     "execution_count": 34,
     "metadata": {},
     "output_type": "execute_result"
    }
   ],
   "source": [
    "squares=[1,4,9,16,25]\n",
    "squares"
   ]
  },
  {
   "cell_type": "code",
   "execution_count": 35,
   "id": "acf598c2-3b2a-4080-8a15-6e03d4ff8e30",
   "metadata": {},
   "outputs": [
    {
     "data": {
      "text/plain": [
       "1"
      ]
     },
     "execution_count": 35,
     "metadata": {},
     "output_type": "execute_result"
    }
   ],
   "source": [
    "squares[0]"
   ]
  },
  {
   "cell_type": "code",
   "execution_count": 36,
   "id": "ddba6802-4d69-43ae-b998-3a7898f17cfd",
   "metadata": {},
   "outputs": [
    {
     "data": {
      "text/plain": [
       "25"
      ]
     },
     "execution_count": 36,
     "metadata": {},
     "output_type": "execute_result"
    }
   ],
   "source": [
    "squares[-1]"
   ]
  },
  {
   "cell_type": "code",
   "execution_count": 37,
   "id": "89086e92-f89a-4a8c-9e99-82b5e95bf1cb",
   "metadata": {},
   "outputs": [
    {
     "data": {
      "text/plain": [
       "[9, 16, 25]"
      ]
     },
     "execution_count": 37,
     "metadata": {},
     "output_type": "execute_result"
    }
   ],
   "source": [
    "squares[-3:]"
   ]
  },
  {
   "cell_type": "code",
   "execution_count": 38,
   "id": "0669a90c-2c82-48c5-8286-487bc623bfb3",
   "metadata": {},
   "outputs": [
    {
     "data": {
      "text/plain": [
       "[1, 4, 9, 16, 25, 36, 49, 64, 81, 100]"
      ]
     },
     "execution_count": 38,
     "metadata": {},
     "output_type": "execute_result"
    }
   ],
   "source": [
    "squares + [36,49,64,81,100]"
   ]
  },
  {
   "cell_type": "code",
   "execution_count": 39,
   "id": "694ca0fa-1ec4-4ae2-b96e-9a888806bb94",
   "metadata": {},
   "outputs": [
    {
     "data": {
      "text/plain": [
       "64"
      ]
     },
     "execution_count": 39,
     "metadata": {},
     "output_type": "execute_result"
    }
   ],
   "source": [
    "cubes=[1,8,27,65,125]\n",
    "4 ** 3"
   ]
  },
  {
   "cell_type": "code",
   "execution_count": 41,
   "id": "7bd96489-8fb8-4277-a797-cfd56d703420",
   "metadata": {},
   "outputs": [
    {
     "data": {
      "text/plain": [
       "[1, 8, 27, 64, 125]"
      ]
     },
     "execution_count": 41,
     "metadata": {},
     "output_type": "execute_result"
    }
   ],
   "source": [
    "cubes[3]=64\n",
    "cubes"
   ]
  },
  {
   "cell_type": "code",
   "execution_count": 42,
   "id": "0a3aff6a-9b05-4bda-9160-1c19556e1e2c",
   "metadata": {},
   "outputs": [
    {
     "data": {
      "text/plain": [
       "[1, 8, 27, 64, 125, 216, 343]"
      ]
     },
     "execution_count": 42,
     "metadata": {},
     "output_type": "execute_result"
    }
   ],
   "source": [
    "cubes.append(216)\n",
    "cubes.append(7 ** 3)\n",
    "cubes"
   ]
  },
  {
   "cell_type": "code",
   "execution_count": 44,
   "id": "19b1a74b-4f16-4adb-9cc0-61f53b27e82e",
   "metadata": {},
   "outputs": [
    {
     "data": {
      "text/plain": [
       "True"
      ]
     },
     "execution_count": 44,
     "metadata": {},
     "output_type": "execute_result"
    }
   ],
   "source": [
    "rgb=[\"Red\", \"Green\",\"Blue\"]\n",
    "rgba = rgb\n",
    "id(rgb) == id(rgba)"
   ]
  },
  {
   "cell_type": "code",
   "execution_count": 45,
   "id": "1020c6bd-6e9d-4ceb-af4e-575561e72d59",
   "metadata": {},
   "outputs": [
    {
     "data": {
      "text/plain": [
       "['Red', 'Green', 'Blue', 'Alph']"
      ]
     },
     "execution_count": 45,
     "metadata": {},
     "output_type": "execute_result"
    }
   ],
   "source": [
    "rgba.append(\"Alph\")\n",
    "rgb"
   ]
  },
  {
   "cell_type": "code",
   "execution_count": 48,
   "id": "cd4bd57a-63ca-4631-a81e-37e8df8bdb69",
   "metadata": {},
   "outputs": [
    {
     "data": {
      "text/plain": [
       "['Red', 'Green', 'Blue', 'Alpha']"
      ]
     },
     "execution_count": 48,
     "metadata": {},
     "output_type": "execute_result"
    }
   ],
   "source": [
    "correct_rgba = rgba[:]\n",
    "correct_rgba[-1]=\"Alpha\"\n",
    "correct_rgba"
   ]
  },
  {
   "cell_type": "code",
   "execution_count": 49,
   "id": "42e6adc8-9fac-4113-9b46-61acd93e11de",
   "metadata": {},
   "outputs": [
    {
     "data": {
      "text/plain": [
       "['Red', 'Green', 'Blue', 'Alph']"
      ]
     },
     "execution_count": 49,
     "metadata": {},
     "output_type": "execute_result"
    }
   ],
   "source": [
    "rgba"
   ]
  },
  {
   "cell_type": "code",
   "execution_count": 51,
   "id": "4e08b72b-660b-4fd0-9c95-65a5045ef399",
   "metadata": {},
   "outputs": [
    {
     "data": {
      "text/plain": [
       "['a', 'b', 'c', 'd', 'e', 'f', 'g']"
      ]
     },
     "execution_count": 51,
     "metadata": {},
     "output_type": "execute_result"
    }
   ],
   "source": [
    "letters=['a','b','c','d','e','f','g']\n",
    "letters"
   ]
  },
  {
   "cell_type": "code",
   "execution_count": 52,
   "id": "412e5b1d-f051-4047-a699-aa1857cf3ad5",
   "metadata": {},
   "outputs": [
    {
     "data": {
      "text/plain": [
       "['a', 'b', 'C', 'D', 'E', 'f', 'g']"
      ]
     },
     "execution_count": 52,
     "metadata": {},
     "output_type": "execute_result"
    }
   ],
   "source": [
    "letters[2:5]=['C','D','E']\n",
    "letters"
   ]
  },
  {
   "cell_type": "code",
   "execution_count": 53,
   "id": "800cf85e-428d-4293-8d4e-6b0e69db8cdc",
   "metadata": {},
   "outputs": [
    {
     "data": {
      "text/plain": [
       "['a', 'b', 'f', 'g']"
      ]
     },
     "execution_count": 53,
     "metadata": {},
     "output_type": "execute_result"
    }
   ],
   "source": [
    "letters[2:5]=[]\n",
    "letters"
   ]
  },
  {
   "cell_type": "code",
   "execution_count": 54,
   "id": "3328c90f-cee3-4079-be71-07a391ce0216",
   "metadata": {},
   "outputs": [
    {
     "data": {
      "text/plain": [
       "[]"
      ]
     },
     "execution_count": 54,
     "metadata": {},
     "output_type": "execute_result"
    }
   ],
   "source": [
    "letters[:]=[]\n",
    "letters"
   ]
  },
  {
   "cell_type": "code",
   "execution_count": 55,
   "id": "e6523b7d-9ee5-4f38-8e96-b7f1dbb3ed42",
   "metadata": {},
   "outputs": [
    {
     "data": {
      "text/plain": [
       "4"
      ]
     },
     "execution_count": 55,
     "metadata": {},
     "output_type": "execute_result"
    }
   ],
   "source": [
    "letters=['a','b','c','d']\n",
    "len(letters)"
   ]
  },
  {
   "cell_type": "code",
   "execution_count": 56,
   "id": "d9cfd2c0-f40f-4faa-abc7-1150c331c952",
   "metadata": {},
   "outputs": [
    {
     "data": {
      "text/plain": [
       "[['a', 'b', 'c'], [1, 2, 3]]"
      ]
     },
     "execution_count": 56,
     "metadata": {},
     "output_type": "execute_result"
    }
   ],
   "source": [
    "a=['a', 'b','c']\n",
    "n=[1,2,3]\n",
    "x=[a,n]\n",
    "x"
   ]
  },
  {
   "cell_type": "code",
   "execution_count": 57,
   "id": "60881209-4f3e-4404-bfd0-54372584ec83",
   "metadata": {},
   "outputs": [
    {
     "data": {
      "text/plain": [
       "['a', 'b', 'c']"
      ]
     },
     "execution_count": 57,
     "metadata": {},
     "output_type": "execute_result"
    }
   ],
   "source": [
    "x[0]"
   ]
  },
  {
   "cell_type": "code",
   "execution_count": 58,
   "id": "0d100d4c-e974-4c6b-93e4-ebf1c3a2bda5",
   "metadata": {},
   "outputs": [
    {
     "data": {
      "text/plain": [
       "'b'"
      ]
     },
     "execution_count": 58,
     "metadata": {},
     "output_type": "execute_result"
    }
   ],
   "source": [
    "x[0][1]"
   ]
  },
  {
   "cell_type": "code",
   "execution_count": 63,
   "id": "66bb7224-0ae8-4917-9664-e98929340985",
   "metadata": {},
   "outputs": [
    {
     "name": "stdout",
     "output_type": "stream",
     "text": [
      "0\n",
      "1\n",
      "1\n",
      "2\n",
      "3\n",
      "5\n",
      "8\n"
     ]
    }
   ],
   "source": [
    "a,b=0,1\n",
    "while a<10:\n",
    "    print(a)\n",
    "    a, b = b, a+b"
   ]
  },
  {
   "cell_type": "code",
   "execution_count": 64,
   "id": "f9b49602-5de0-480a-8cb1-0888c0a04208",
   "metadata": {},
   "outputs": [
    {
     "name": "stdout",
     "output_type": "stream",
     "text": [
      "The value of i is 65536\n"
     ]
    }
   ],
   "source": [
    "i=256*256\n",
    "print('The value of i is',i)"
   ]
  },
  {
   "cell_type": "code",
   "execution_count": 65,
   "id": "c2680248-3717-4f3d-a03b-c1cf43944c95",
   "metadata": {},
   "outputs": [
    {
     "name": "stdout",
     "output_type": "stream",
     "text": [
      "0,1,1,2,3,5,8,13,21,34,55,89,144,233,377,610,987,"
     ]
    }
   ],
   "source": [
    "a, b =0, 1\n",
    "while a< 1000:\n",
    "    print(a, end=',')\n",
    "    a, b = b, a+b"
   ]
  },
  {
   "cell_type": "markdown",
   "id": "6b0dc649-63d9-4a68-8f74-9a774488824a",
   "metadata": {
    "jp-MarkdownHeadingCollapsed": true
   },
   "source": [
    "## 19th June (Task-python print statement)"
   ]
  },
  {
   "cell_type": "code",
   "execution_count": 3,
   "id": "14d0190e-d8ef-4854-b430-c2f5124eb7ad",
   "metadata": {},
   "outputs": [
    {
     "data": {
      "text/plain": [
       "20"
      ]
     },
     "execution_count": 3,
     "metadata": {},
     "output_type": "execute_result"
    }
   ],
   "source": [
    " a=10\n",
    "b=20\n",
    "a\n",
    "b"
   ]
  },
  {
   "cell_type": "code",
   "execution_count": 4,
   "id": "04a384f2-8356-43c6-809d-be86fa638328",
   "metadata": {},
   "outputs": [
    {
     "name": "stdout",
     "output_type": "stream",
     "text": [
      "10\n",
      "20\n"
     ]
    }
   ],
   "source": [
    "a=10\n",
    "b=20\n",
    "print(a)\n",
    "print(b)"
   ]
  },
  {
   "cell_type": "code",
   "execution_count": 6,
   "id": "1d5751ac-40ff-49e9-9d4d-ab40be5b57e0",
   "metadata": {},
   "outputs": [
    {
     "name": "stdout",
     "output_type": "stream",
     "text": [
      "10\n",
      "10 20\n",
      "python\n",
      "10 20 python\n"
     ]
    }
   ],
   "source": [
    "print(10)\n",
    "print(10,20)\n",
    "print('python')\n",
    "print(10,20,'python')"
   ]
  },
  {
   "cell_type": "code",
   "execution_count": 7,
   "id": "38830964-bc17-40ac-b1b0-7cab2509d79b",
   "metadata": {},
   "outputs": [
    {
     "name": "stdout",
     "output_type": "stream",
     "text": [
      "50\n"
     ]
    }
   ],
   "source": [
    "num1=20\n",
    "num2=30\n",
    "add=num1+num2\n",
    "print(add)"
   ]
  },
  {
   "cell_type": "raw",
   "id": "ba87c3f6-0bbf-47cb-ba42-23dfba48c650",
   "metadata": {},
   "source": [
    "Print result with string"
   ]
  },
  {
   "cell_type": "code",
   "execution_count": 8,
   "id": "21be0902-f98b-4bac-b13e-1937da54eed0",
   "metadata": {},
   "outputs": [
    {
     "name": "stdout",
     "output_type": "stream",
     "text": [
      "The addition of 20 and 30 is= 50\n"
     ]
    }
   ],
   "source": [
    "num1=20\n",
    "num2=30\n",
    "add=num1+num2\n",
    "print('The addition of',num1,'and',num2,'is=',add)"
   ]
  },
  {
   "cell_type": "code",
   "execution_count": 9,
   "id": "0e0ac9b2-4a40-43e7-bca5-69a40d8dd615",
   "metadata": {},
   "outputs": [
    {
     "name": "stdout",
     "output_type": "stream",
     "text": [
      "My name is Python and i am  20 years old from hyd\n"
     ]
    }
   ],
   "source": [
    "name='Python'\n",
    "age=20\n",
    "city='hyd'\n",
    "print('My name is',name,'and i am ',age,'years old from',city)"
   ]
  },
  {
   "cell_type": "code",
   "execution_count": 10,
   "id": "55db4ea5-e730-482a-acd1-8762bb20ab81",
   "metadata": {},
   "outputs": [
    {
     "name": "stdout",
     "output_type": "stream",
     "text": [
      "The addition of 20 and 30 is = 50\n"
     ]
    }
   ],
   "source": [
    "num1=20\n",
    "num2=30\n",
    "add=num1+num2\n",
    "print('The addition of {} and {} is = {}'.format(num1,num2,add))"
   ]
  },
  {
   "cell_type": "code",
   "execution_count": 11,
   "id": "5cb3c6bc-1a90-4aea-839d-875b31aa2805",
   "metadata": {},
   "outputs": [
    {
     "name": "stdout",
     "output_type": "stream",
     "text": [
      "hello my name is Python, and i am 20 years old from hyd\n"
     ]
    }
   ],
   "source": [
    "name='Python'\n",
    "age=20\n",
    "city='hyd'\n",
    "print('hello my name is {}, and i am {} years old from {}'.format(name,age,city))"
   ]
  },
  {
   "cell_type": "code",
   "execution_count": 12,
   "id": "e54de8be-5a19-4ce7-9524-4f3828166ef3",
   "metadata": {},
   "outputs": [
    {
     "name": "stdout",
     "output_type": "stream",
     "text": [
      "The average of 100,25,and 333 is = 152.66666666666666 or 152.67\n"
     ]
    }
   ],
   "source": [
    "num1=100\n",
    "num2=25\n",
    "num3=333\n",
    "avg=(num1+num2+num3)/3\n",
    "avg1=round((num1+num2+num3)/3,2)\n",
    "print('The average of {},{},and {} is = {} or {}'.format(num1,num2,num3,avg,avg1))"
   ]
  },
  {
   "cell_type": "code",
   "execution_count": 13,
   "id": "11f3764b-9a96-4deb-8a9f-453891d4e252",
   "metadata": {},
   "outputs": [
    {
     "data": {
      "text/plain": [
       "152.67"
      ]
     },
     "execution_count": 13,
     "metadata": {},
     "output_type": "execute_result"
    }
   ],
   "source": [
    "round(avg,2)"
   ]
  },
  {
   "cell_type": "code",
   "execution_count": 14,
   "id": "507459fb-a88d-43e6-ad3f-ba40c48ead8c",
   "metadata": {},
   "outputs": [
    {
     "name": "stdout",
     "output_type": "stream",
     "text": [
      "The addition of 20 and 30 is = 50\n"
     ]
    }
   ],
   "source": [
    "num1=20\n",
    "num2=30\n",
    "add=num1+num2\n",
    "print(f'The addition of {num1} and {num2} is = {add}')"
   ]
  },
  {
   "cell_type": "code",
   "execution_count": 16,
   "id": "45596609-263b-4816-ab37-5239e6ddc2e2",
   "metadata": {},
   "outputs": [
    {
     "name": "stdout",
     "output_type": "stream",
     "text": [
      "hello my name is Python, and i am 20 year old,from hyd.\n"
     ]
    }
   ],
   "source": [
    " name='Python'\n",
    "age=20\n",
    "city='hyd'\n",
    "print(f'hello my name is {name}, and i am {age} year old,from {city}.')"
   ]
  },
  {
   "cell_type": "code",
   "execution_count": 19,
   "id": "4cb10f38-fa88-4b45-b2fa-d9591a202feb",
   "metadata": {},
   "outputs": [
    {
     "name": "stdout",
     "output_type": "stream",
     "text": [
      "The average of 100,25and 333 is = 152.67\n"
     ]
    }
   ],
   "source": [
    "num1=100\n",
    "num2=25\n",
    "num3=333\n",
    "avg=round((num1+num2+num3)/3,2)\n",
    "print(f'The average of {num1},{num2}and {num3} is = {avg}' )"
   ]
  },
  {
   "cell_type": "code",
   "execution_count": 21,
   "id": "cdf76a5e-2e0b-4690-99e8-37c4a5e5f554",
   "metadata": {},
   "outputs": [
    {
     "name": "stdout",
     "output_type": "stream",
     "text": [
      "The addition of 10 and 20 is= 30\n",
      "The addition of 10 and 20 is= 30\n",
      "The addition of 10 and 20 is= 30\n"
     ]
    }
   ],
   "source": [
    "num1=10\n",
    "num2=20\n",
    "add=num1+num2\n",
    "print('The addition of',num1,'and',num2,'is=',add)\n",
    "print('The addition of {} and {} is= {}'.format(num1,num2,add))\n",
    "print(f'The addition of {num1} and {num2} is= {add}')"
   ]
  },
  {
   "cell_type": "code",
   "execution_count": 22,
   "id": "3b863832-cb23-4703-8e84-83dda486e47b",
   "metadata": {},
   "outputs": [
    {
     "name": "stdout",
     "output_type": "stream",
     "text": [
      "hello\n",
      "good morning\n"
     ]
    }
   ],
   "source": [
    "print('hello')\n",
    "print('good morning')"
   ]
  },
  {
   "cell_type": "code",
   "execution_count": 23,
   "id": "ffe5b4d7-e3c9-4b40-921c-5a7dd99f0a47",
   "metadata": {},
   "outputs": [
    {
     "name": "stdout",
     "output_type": "stream",
     "text": [
      "hello world good day\n"
     ]
    }
   ],
   "source": [
    "print('hello', end=' ')\n",
    "print('world good day')"
   ]
  },
  {
   "cell_type": "code",
   "execution_count": 24,
   "id": "7203eb64-26e6-456e-8f6d-6a1b53f2b6e1",
   "metadata": {},
   "outputs": [
    {
     "name": "stdout",
     "output_type": "stream",
     "text": [
      "hello---->hai---->how are you\n"
     ]
    }
   ],
   "source": [
    "print('hello','hai','how are you',sep='---->')"
   ]
  },
  {
   "cell_type": "code",
   "execution_count": 25,
   "id": "74e8183e-15ed-40d2-9dac-a4ca8237314e",
   "metadata": {},
   "outputs": [
    {
     "name": "stdout",
     "output_type": "stream",
     "text": [
      "hello@hai@how are you\n"
     ]
    }
   ],
   "source": [
    "print('hello','hai','how are you',sep='@')"
   ]
  },
  {
   "cell_type": "code",
   "execution_count": 26,
   "id": "0fe9b9fa-61e8-4677-9bad-0048699b54e7",
   "metadata": {},
   "outputs": [
    {
     "name": "stdout",
     "output_type": "stream",
     "text": [
      "hello&hai&how are you\n"
     ]
    }
   ],
   "source": [
    "print('hello','hai','how are you',sep='&')"
   ]
  },
  {
   "cell_type": "code",
   "execution_count": 27,
   "id": "c41fddf0-b5b2-4654-bd07-2ece0a8bfa79",
   "metadata": {},
   "outputs": [
    {
     "name": "stdout",
     "output_type": "stream",
     "text": [
      "hello hai how are you\n"
     ]
    }
   ],
   "source": [
    "print('hello','hai','how are you',sep=' ')"
   ]
  },
  {
   "cell_type": "code",
   "execution_count": 28,
   "id": "bea52140-7d1d-4072-a3ba-cc1fd9eca4b3",
   "metadata": {},
   "outputs": [
    {
     "name": "stdout",
     "output_type": "stream",
     "text": [
      "3 .\n"
     ]
    }
   ],
   "source": [
    "print(3,'.')"
   ]
  },
  {
   "cell_type": "code",
   "execution_count": 7,
   "id": "ee658efb-b30d-4c37-ba1b-7e42db973d79",
   "metadata": {},
   "outputs": [
    {
     "name": "stdout",
     "output_type": "stream",
     "text": [
      "3.\n"
     ]
    }
   ],
   "source": [
    "print(3,'.',sep='')"
   ]
  },
  {
   "cell_type": "code",
   "execution_count": 31,
   "id": "5eb9f724-15da-4d7e-9cf6-5141c5a6c3cd",
   "metadata": {},
   "outputs": [
    {
     "name": "stdout",
     "output_type": "stream",
     "text": [
      "1 2 3 .\n"
     ]
    }
   ],
   "source": [
    "print(1,2,end=' ')\n",
    "print(3,'.',sep=' ')"
   ]
  },
  {
   "cell_type": "markdown",
   "id": "61feb5fb-1ba2-4e40-a3e4-968c8a693368",
   "metadata": {
    "jp-MarkdownHeadingCollapsed": true
   },
   "source": [
    "## 19th june(python variable) (Task)"
   ]
  },
  {
   "cell_type": "code",
   "execution_count": 2,
   "id": "eb0af87f-6a75-41be-8155-b5197b731ad4",
   "metadata": {},
   "outputs": [
    {
     "name": "stdout",
     "output_type": "stream",
     "text": [
      "25\n"
     ]
    }
   ],
   "source": [
    "age=25           #integer variable\n",
    "print(age)"
   ]
  },
  {
   "cell_type": "code",
   "execution_count": 3,
   "id": "aca30813-ff45-4463-966c-40ddbd118f22",
   "metadata": {},
   "outputs": [
    {
     "name": "stdout",
     "output_type": "stream",
     "text": [
      "Alice\n"
     ]
    }
   ],
   "source": [
    "name=\"Alice\"         #string variable\n",
    "print(name)       "
   ]
  },
  {
   "cell_type": "code",
   "execution_count": 4,
   "id": "1156ff01-5eb4-4679-bb09-edc6f9b1961c",
   "metadata": {},
   "outputs": [
    {
     "name": "stdout",
     "output_type": "stream",
     "text": [
      "19.99\n"
     ]
    }
   ],
   "source": [
    "price=19.99           # float variable\n",
    "print(price)"
   ]
  },
  {
   "cell_type": "code",
   "execution_count": 5,
   "id": "bb6fc0b7-6e47-4fa7-9880-427bfd10f925",
   "metadata": {},
   "outputs": [
    {
     "name": "stdout",
     "output_type": "stream",
     "text": [
      "True\n"
     ]
    }
   ],
   "source": [
    "is_active=True       #is_active is a variable storing a boolean value\n",
    "print(is_active)"
   ]
  },
  {
   "cell_type": "code",
   "execution_count": 6,
   "id": "d684caab-a6ea-4d1a-b05f-d7f859160e7b",
   "metadata": {},
   "outputs": [
    {
     "name": "stdout",
     "output_type": "stream",
     "text": [
      "10\n"
     ]
    }
   ],
   "source": [
    "x=10            #Storing and Printing a value\n",
    "print(x)"
   ]
  },
  {
   "cell_type": "code",
   "execution_count": 8,
   "id": "f590e7ae-ce97-4aa3-b70d-98f57be47ccf",
   "metadata": {},
   "outputs": [
    {
     "name": "stdout",
     "output_type": "stream",
     "text": [
      "8\n"
     ]
    }
   ],
   "source": [
    "a=5             #using variables in expressions\n",
    "b=3\n",
    "result=a+b\n",
    "print(result)"
   ]
  },
  {
   "cell_type": "code",
   "execution_count": 9,
   "id": "a4af80ac-e336-47f1-bfdc-0a8372d3ce65",
   "metadata": {},
   "outputs": [
    {
     "name": "stdout",
     "output_type": "stream",
     "text": [
      "50\n",
      "100\n"
     ]
    }
   ],
   "source": [
    "score=50       #changing the value of a variable\n",
    "print(score)\n",
    "score=100\n",
    "print(score)"
   ]
  },
  {
   "cell_type": "code",
   "execution_count": 10,
   "id": "937f962d-2d79-4c73-9165-df21d0628670",
   "metadata": {},
   "outputs": [
    {
     "name": "stdout",
     "output_type": "stream",
     "text": [
      "john Doe\n"
     ]
    }
   ],
   "source": [
    "first_name=\"john\"    #Concatenating strings\n",
    "last_name=\"Doe\"\n",
    "full_name=first_name+\" \" + last_name\n",
    "print(full_name)"
   ]
  },
  {
   "cell_type": "code",
   "execution_count": null,
   "id": "297aa7ce-b2cb-43c9-b2ae-a7780f99e15d",
   "metadata": {},
   "outputs": [],
   "source": [
    "length=10     #Using variables in a calculation\n",
    "width=5\n",
    "area=length*width\n",
    "print(area)"
   ]
  },
  {
   "cell_type": "code",
   "execution_count": 13,
   "id": "de85e206-ecc9-4202-b021-8345e1b3009d",
   "metadata": {},
   "outputs": [
    {
     "name": "stdout",
     "output_type": "stream",
     "text": [
      "10\n",
      "20\n"
     ]
    }
   ],
   "source": [
    "x=10         #Reassigning values to variables\n",
    "print(x)\n",
    "x=20\n",
    "print(x)"
   ]
  },
  {
   "cell_type": "markdown",
   "id": "a70594a6-b6c0-41e5-9134-7c09f55a1dfd",
   "metadata": {
    "jp-MarkdownHeadingCollapsed": true
   },
   "source": [
    "## 20th june class (String)"
   ]
  },
  {
   "cell_type": "code",
   "execution_count": 9,
   "id": "4605d6f6-6cef-4153-a913-9a4774335d8a",
   "metadata": {},
   "outputs": [],
   "source": [
    "p=q=r=20"
   ]
  },
  {
   "cell_type": "code",
   "execution_count": 11,
   "id": "994ef15b-132b-46f0-9c7e-ef3f69597791",
   "metadata": {},
   "outputs": [],
   "source": [
    "p=20\n",
    "q=20\n",
    "r=20"
   ]
  },
  {
   "cell_type": "code",
   "execution_count": 13,
   "id": "80b4f92b-2740-4dff-999d-2218a8e4605d",
   "metadata": {},
   "outputs": [
    {
     "data": {
      "text/plain": [
       "140723284814872"
      ]
     },
     "execution_count": 13,
     "metadata": {},
     "output_type": "execute_result"
    }
   ],
   "source": [
    "id(p)"
   ]
  },
  {
   "cell_type": "code",
   "execution_count": 14,
   "id": "353e67ae-f645-45f8-9611-025ff20ed2e0",
   "metadata": {},
   "outputs": [
    {
     "data": {
      "text/plain": [
       "140723284814872"
      ]
     },
     "execution_count": 14,
     "metadata": {},
     "output_type": "execute_result"
    }
   ],
   "source": [
    "id(q)"
   ]
  },
  {
   "cell_type": "code",
   "execution_count": 15,
   "id": "6387e88e-8f72-4365-a9a9-ba22ca668538",
   "metadata": {},
   "outputs": [
    {
     "data": {
      "text/plain": [
       "140723284814872"
      ]
     },
     "execution_count": 15,
     "metadata": {},
     "output_type": "execute_result"
    }
   ],
   "source": [
    "id(r)"
   ]
  },
  {
   "cell_type": "code",
   "execution_count": 21,
   "id": "5127fdfa-4177-48c5-953d-2b4c1d48fa73",
   "metadata": {},
   "outputs": [
    {
     "name": "stdout",
     "output_type": "stream",
     "text": [
      "140723284814872\n",
      "140723284814872\n",
      "140723284814872\n"
     ]
    }
   ],
   "source": [
    "print(id(p))\n",
    "print(id(q))\n",
    "print(id(r))"
   ]
  },
  {
   "cell_type": "code",
   "execution_count": 18,
   "id": "7a55e9b5-3354-454b-b934-851440026104",
   "metadata": {},
   "outputs": [],
   "source": [
    "p1=20\n",
    "q1=30\n",
    "r1=40"
   ]
  },
  {
   "cell_type": "code",
   "execution_count": 20,
   "id": "6bd78c00-9e72-443c-9430-94f34a3c8e7c",
   "metadata": {},
   "outputs": [
    {
     "name": "stdout",
     "output_type": "stream",
     "text": [
      "140723284814872\n",
      "140723284815192\n",
      "140723284815512\n"
     ]
    }
   ],
   "source": [
    "print(id(p1))\n",
    "print(id(q1))\n",
    "print(id(r1))"
   ]
  },
  {
   "cell_type": "code",
   "execution_count": 22,
   "id": "af4bbdde-88b9-473c-b466-9fdc7108ff2a",
   "metadata": {},
   "outputs": [
    {
     "data": {
      "text/plain": [
       "'hello pyhton'"
      ]
     },
     "execution_count": 22,
     "metadata": {},
     "output_type": "execute_result"
    }
   ],
   "source": [
    "s='hello pyhton'\n",
    "s"
   ]
  },
  {
   "cell_type": "code",
   "execution_count": 23,
   "id": "ff8b22e1-37e9-4a1e-8aa2-ecc874f78ba4",
   "metadata": {},
   "outputs": [
    {
     "data": {
      "text/plain": [
       "12"
      ]
     },
     "execution_count": 23,
     "metadata": {},
     "output_type": "execute_result"
    }
   ],
   "source": [
    "len(s)"
   ]
  },
  {
   "cell_type": "code",
   "execution_count": 24,
   "id": "9b6e9678-dce7-48b9-93dc-46f7dd58630b",
   "metadata": {},
   "outputs": [
    {
     "data": {
      "text/plain": [
       "'h'"
      ]
     },
     "execution_count": 24,
     "metadata": {},
     "output_type": "execute_result"
    }
   ],
   "source": [
    "s[0]   #forward indexing"
   ]
  },
  {
   "cell_type": "code",
   "execution_count": 25,
   "id": "f89f4ecb-5f11-46b6-b8f3-89f3871987a3",
   "metadata": {},
   "outputs": [
    {
     "data": {
      "text/plain": [
       "'n'"
      ]
     },
     "execution_count": 25,
     "metadata": {},
     "output_type": "execute_result"
    }
   ],
   "source": [
    "s[-1]  #backward indexing"
   ]
  },
  {
   "cell_type": "code",
   "execution_count": 26,
   "id": "8eec57c7-51de-40f6-9b47-1e0db80b9655",
   "metadata": {},
   "outputs": [],
   "source": [
    "#slicing concept"
   ]
  },
  {
   "cell_type": "code",
   "execution_count": 11,
   "id": "aeb6d7c6-af9f-4eb3-99cc-4d2f03db36f0",
   "metadata": {},
   "outputs": [
    {
     "data": {
      "text/plain": [
       "'hello python'"
      ]
     },
     "execution_count": 11,
     "metadata": {},
     "output_type": "execute_result"
    }
   ],
   "source": [
    "s='hello python'\n",
    "s"
   ]
  },
  {
   "cell_type": "code",
   "execution_count": 12,
   "id": "bfc40ad6-8375-4e55-b346-91c663c0ae60",
   "metadata": {},
   "outputs": [
    {
     "data": {
      "text/plain": [
       "'hello python'"
      ]
     },
     "execution_count": 12,
     "metadata": {},
     "output_type": "execute_result"
    }
   ],
   "source": [
    "s[:]"
   ]
  },
  {
   "cell_type": "code",
   "execution_count": 13,
   "id": "cc7fbd94-74f7-474f-850e-3ac4e0026466",
   "metadata": {},
   "outputs": [
    {
     "data": {
      "text/plain": [
       "'hello'"
      ]
     },
     "execution_count": 13,
     "metadata": {},
     "output_type": "execute_result"
    }
   ],
   "source": [
    "s[0:5]"
   ]
  },
  {
   "cell_type": "code",
   "execution_count": 35,
   "id": "e1b88b79-1707-4b4c-84c6-c717f6e05d90",
   "metadata": {},
   "outputs": [
    {
     "data": {
      "text/plain": [
       "'python'"
      ]
     },
     "execution_count": 35,
     "metadata": {},
     "output_type": "execute_result"
    }
   ],
   "source": [
    "s[6:12]"
   ]
  },
  {
   "cell_type": "code",
   "execution_count": 37,
   "id": "6ad45e49-1761-4d44-83e2-de2beca903cf",
   "metadata": {},
   "outputs": [
    {
     "data": {
      "text/plain": [
       "'pyt'"
      ]
     },
     "execution_count": 37,
     "metadata": {},
     "output_type": "execute_result"
    }
   ],
   "source": [
    "s[6:9]"
   ]
  },
  {
   "cell_type": "code",
   "execution_count": 40,
   "id": "e33ef791-d85d-40cf-ba78-7325d838936c",
   "metadata": {},
   "outputs": [
    {
     "data": {
      "text/plain": [
       "'ytho'"
      ]
     },
     "execution_count": 40,
     "metadata": {},
     "output_type": "execute_result"
    }
   ],
   "source": [
    "s[-5:-1]"
   ]
  },
  {
   "cell_type": "code",
   "execution_count": 41,
   "id": "75dd57d8-4159-483f-9a9a-166c86afc6d5",
   "metadata": {},
   "outputs": [
    {
     "data": {
      "text/plain": [
       "'nohtyp olleh'"
      ]
     },
     "execution_count": 41,
     "metadata": {},
     "output_type": "execute_result"
    }
   ],
   "source": [
    "s[::-1]   #reverse the string"
   ]
  },
  {
   "cell_type": "code",
   "execution_count": 42,
   "id": "44eb64de-8fd8-440c-8e3a-20ad0cc51a18",
   "metadata": {},
   "outputs": [
    {
     "data": {
      "text/plain": [
       "'ello python'"
      ]
     },
     "execution_count": 42,
     "metadata": {},
     "output_type": "execute_result"
    }
   ],
   "source": [
    "s[1:]"
   ]
  },
  {
   "cell_type": "code",
   "execution_count": 48,
   "id": "b690846e-6a64-4463-a0bf-aa182d23c5b2",
   "metadata": {},
   "outputs": [
    {
     "data": {
      "text/plain": [
       "'hello'"
      ]
     },
     "execution_count": 48,
     "metadata": {},
     "output_type": "execute_result"
    }
   ],
   "source": [
    "s[:5]"
   ]
  },
  {
   "cell_type": "code",
   "execution_count": 45,
   "id": "b8695b9b-4824-4595-a5f0-e410b18326a6",
   "metadata": {},
   "outputs": [
    {
     "data": {
      "text/plain": [
       "'python'"
      ]
     },
     "execution_count": 45,
     "metadata": {},
     "output_type": "execute_result"
    }
   ],
   "source": [
    "s[6:]"
   ]
  },
  {
   "cell_type": "code",
   "execution_count": 46,
   "id": "a5871fd7-4b92-491a-8219-6a54610e5ddf",
   "metadata": {},
   "outputs": [
    {
     "data": {
      "text/plain": [
       "'llo p'"
      ]
     },
     "execution_count": 46,
     "metadata": {},
     "output_type": "execute_result"
    }
   ],
   "source": [
    "s[2:7]"
   ]
  },
  {
   "cell_type": "code",
   "execution_count": 49,
   "id": "35a0ed85-31c5-4fe6-a968-4b70bd2c931e",
   "metadata": {},
   "outputs": [
    {
     "data": {
      "text/plain": [
       "'hlph'"
      ]
     },
     "execution_count": 49,
     "metadata": {},
     "output_type": "execute_result"
    }
   ],
   "source": [
    "s[0:13:3]"
   ]
  },
  {
   "cell_type": "code",
   "execution_count": 52,
   "id": "c96bc2fe-594f-430f-81a5-c7e2b65731c4",
   "metadata": {},
   "outputs": [
    {
     "data": {
      "text/plain": [
       "'h '"
      ]
     },
     "execution_count": 52,
     "metadata": {},
     "output_type": "execute_result"
    }
   ],
   "source": [
    "s[0:10:5]"
   ]
  },
  {
   "cell_type": "code",
   "execution_count": 53,
   "id": "2db555d4-0a40-4e76-8f4c-1dc2ad6dcf2c",
   "metadata": {},
   "outputs": [
    {
     "data": {
      "text/plain": [
       "'hello pyth'"
      ]
     },
     "execution_count": 53,
     "metadata": {},
     "output_type": "execute_result"
    }
   ],
   "source": [
    "s[0:10]"
   ]
  },
  {
   "cell_type": "markdown",
   "id": "1a8b9331-3b00-4278-b6db-1ed2dcff3e62",
   "metadata": {
    "jp-MarkdownHeadingCollapsed": true
   },
   "source": [
    "## 20th June(Task-identifiers,data types)"
   ]
  },
  {
   "cell_type": "code",
   "execution_count": 1,
   "id": "9e9f09b2-8091-4738-890f-c06a12d7135b",
   "metadata": {},
   "outputs": [],
   "source": [
    "#python import functons"
   ]
  },
  {
   "cell_type": "code",
   "execution_count": 2,
   "id": "6b43d903-d28b-4484-a7ef-faddf8a01993",
   "metadata": {},
   "outputs": [],
   "source": [
    "import sys\n",
    "import keyword\n",
    "import operator\n",
    "from datetime import datetime\n",
    "import os"
   ]
  },
  {
   "cell_type": "code",
   "execution_count": 3,
   "id": "bb9e581a-53cd-4656-bf7d-b3a2148364f4",
   "metadata": {},
   "outputs": [],
   "source": [
    "# Keywords(keywords cannot be used as an identifier)"
   ]
  },
  {
   "cell_type": "code",
   "execution_count": 4,
   "id": "6b0ad806-265b-4a3e-a285-98879e16e0d5",
   "metadata": {},
   "outputs": [
    {
     "name": "stdout",
     "output_type": "stream",
     "text": [
      "['False', 'None', 'True', 'and', 'as', 'assert', 'async', 'await', 'break', 'class', 'continue', 'def', 'del', 'elif', 'else', 'except', 'finally', 'for', 'from', 'global', 'if', 'import', 'in', 'is', 'lambda', 'nonlocal', 'not', 'or', 'pass', 'raise', 'return', 'try', 'while', 'with', 'yield']\n"
     ]
    }
   ],
   "source": [
    "print(keyword.kwlist)"
   ]
  },
  {
   "cell_type": "code",
   "execution_count": 5,
   "id": "fe352e79-6838-4376-b391-746be94a1974",
   "metadata": {},
   "outputs": [
    {
     "data": {
      "text/plain": [
       "35"
      ]
     },
     "execution_count": 5,
     "metadata": {},
     "output_type": "execute_result"
    }
   ],
   "source": [
    "len(keyword.kwlist)"
   ]
  },
  {
   "cell_type": "code",
   "execution_count": 6,
   "id": "7c95459d-4a3a-49e8-85d4-7f3e8c84137b",
   "metadata": {},
   "outputs": [],
   "source": [
    "#Identifiers"
   ]
  },
  {
   "cell_type": "code",
   "execution_count": 7,
   "id": "a2731ec2-2b9e-4060-a82c-a5c1f54273de",
   "metadata": {},
   "outputs": [
    {
     "ename": "SyntaxError",
     "evalue": "invalid decimal literal (1521661254.py, line 1)",
     "output_type": "error",
     "traceback": [
      "\u001b[1;36m  Cell \u001b[1;32mIn[7], line 1\u001b[1;36m\u001b[0m\n\u001b[1;33m    1var=10\u001b[0m\n\u001b[1;37m    ^\u001b[0m\n\u001b[1;31mSyntaxError\u001b[0m\u001b[1;31m:\u001b[0m invalid decimal literal\n"
     ]
    }
   ],
   "source": [
    "1var=10  (error bcz identifier cant start with a digit)"
   ]
  },
  {
   "cell_type": "code",
   "execution_count": 8,
   "id": "7dd8d15e-b8c9-4569-8a1b-fb87dbc0995b",
   "metadata": {},
   "outputs": [
    {
     "ename": "NameError",
     "evalue": "name 'val2' is not defined",
     "output_type": "error",
     "traceback": [
      "\u001b[1;31m---------------------------------------------------------------------------\u001b[0m",
      "\u001b[1;31mNameError\u001b[0m                                 Traceback (most recent call last)",
      "Cell \u001b[1;32mIn[8], line 1\u001b[0m\n\u001b[1;32m----> 1\u001b[0m val2\u001b[38;5;241m@\u001b[39m\u001b[38;5;241m=\u001b[39m\u001b[38;5;241m35\u001b[39m\n",
      "\u001b[1;31mNameError\u001b[0m: name 'val2' is not defined"
     ]
    }
   ],
   "source": [
    "val2@=35 (error bcz identifier cannot start use special symbols)"
   ]
  },
  {
   "cell_type": "code",
   "execution_count": 12,
   "id": "1232eeaf-c340-4aeb-be9a-608a1ea06d47",
   "metadata": {},
   "outputs": [
    {
     "ename": "SyntaxError",
     "evalue": "invalid syntax (395232004.py, line 1)",
     "output_type": "error",
     "traceback": [
      "\u001b[1;36m  Cell \u001b[1;32mIn[12], line 1\u001b[1;36m\u001b[0m\n\u001b[1;33m    import=125(error bcz keywords cannot be used as identifiers since import is a keyword)\u001b[0m\n\u001b[1;37m          ^\u001b[0m\n\u001b[1;31mSyntaxError\u001b[0m\u001b[1;31m:\u001b[0m invalid syntax\n"
     ]
    }
   ],
   "source": [
    "import=125(error bcz keywords cannot be used as identifiers since import is a keyword)"
   ]
  },
  {
   "cell_type": "code",
   "execution_count": null,
   "id": "d925fb54-7053-4563-8e26-5d796be75506",
   "metadata": {},
   "outputs": [],
   "source": [
    "\"\"\"\n",
    "Correct way of defining an identifier\n",
    "(Identifiers can be a combination of letters in lowercase (a to z) or uppercase\n",
    "\"\"\""
   ]
  },
  {
   "cell_type": "code",
   "execution_count": 14,
   "id": "ffce0e3f-663a-47f9-ad31-935b4d7efddf",
   "metadata": {},
   "outputs": [],
   "source": [
    "val2=10"
   ]
  },
  {
   "cell_type": "code",
   "execution_count": 15,
   "id": "e6981c04-af98-4f25-b9e6-f7e887eb59b0",
   "metadata": {},
   "outputs": [],
   "source": [
    "val_ = 99"
   ]
  },
  {
   "cell_type": "code",
   "execution_count": 16,
   "id": "903aa0f5-5cad-43a2-aaf4-e3df9f0ca3ed",
   "metadata": {},
   "outputs": [],
   "source": [
    "#Comments in python(used to explain code for more readability)"
   ]
  },
  {
   "cell_type": "code",
   "execution_count": 17,
   "id": "122aa770-0643-41d8-b9a4-79b49788615d",
   "metadata": {},
   "outputs": [],
   "source": [
    "# single line comment\n",
    "val1=10"
   ]
  },
  {
   "cell_type": "code",
   "execution_count": 18,
   "id": "09f619e3-9f4a-4a73-a2c7-9b94fbe10dc6",
   "metadata": {},
   "outputs": [],
   "source": [
    "# multiple\n",
    "#line\n",
    "#comment\n",
    "val1=10"
   ]
  },
  {
   "cell_type": "code",
   "execution_count": 19,
   "id": "cad79fd0-ba72-4f27-8b73-d2859e964b27",
   "metadata": {},
   "outputs": [],
   "source": [
    "'''\n",
    "multiple\n",
    "line\n",
    "comment\n",
    "'''\n",
    "val1=10"
   ]
  },
  {
   "cell_type": "code",
   "execution_count": 20,
   "id": "6341ddd3-3dc1-4380-be03-5cf6cd96c2a3",
   "metadata": {},
   "outputs": [],
   "source": [
    "\"\"\" \n",
    "multiple \n",
    "line\n",
    "comment\n",
    "\"\"\"\n",
    "val1=10"
   ]
  },
  {
   "cell_type": "code",
   "execution_count": 21,
   "id": "5e4aa147-ab6e-47ad-b169-2757649e1cda",
   "metadata": {},
   "outputs": [],
   "source": [
    "#Statements"
   ]
  },
  {
   "cell_type": "code",
   "execution_count": 25,
   "id": "aacf7bf7-bf1b-4c53-ad0a-5c2f53dacad4",
   "metadata": {},
   "outputs": [
    {
     "data": {
      "text/plain": [
       "(20, int, '0x7ffcea652c18')"
      ]
     },
     "execution_count": 25,
     "metadata": {},
     "output_type": "execute_result"
    }
   ],
   "source": [
    "p=20\n",
    "q=20\n",
    "r=q\n",
    "p,type(p),hex(id(p))"
   ]
  },
  {
   "cell_type": "code",
   "execution_count": 28,
   "id": "3c545e70-6777-4a75-9a52-bd3d47ad89a6",
   "metadata": {},
   "outputs": [
    {
     "data": {
      "text/plain": [
       "(20, int, '0x7ffcea652c18')"
      ]
     },
     "execution_count": 28,
     "metadata": {},
     "output_type": "execute_result"
    }
   ],
   "source": [
    "q,type(q),hex(id(q))"
   ]
  },
  {
   "cell_type": "code",
   "execution_count": 29,
   "id": "56a3ddd2-582a-43b9-acc3-6739d2375187",
   "metadata": {},
   "outputs": [
    {
     "data": {
      "text/plain": [
       "(20, int, '0x7ffcea652c18')"
      ]
     },
     "execution_count": 29,
     "metadata": {},
     "output_type": "execute_result"
    }
   ],
   "source": [
    "r,type(r),hex(id(r))"
   ]
  },
  {
   "cell_type": "code",
   "execution_count": 30,
   "id": "eee07ce2-e446-4211-8f70-b1590e527069",
   "metadata": {},
   "outputs": [
    {
     "data": {
      "text/plain": [
       "30"
      ]
     },
     "execution_count": 30,
     "metadata": {},
     "output_type": "execute_result"
    }
   ],
   "source": [
    "p=20  #variable Overwritting\n",
    "p=p+10\n",
    "p"
   ]
  },
  {
   "cell_type": "code",
   "execution_count": 31,
   "id": "060c27dd-ea77-4374-a7be-aa8a7d506743",
   "metadata": {},
   "outputs": [],
   "source": [
    "# Variable assignment"
   ]
  },
  {
   "cell_type": "code",
   "execution_count": 32,
   "id": "f59d828b-7027-4379-9b51-087355da8259",
   "metadata": {},
   "outputs": [
    {
     "name": "stdout",
     "output_type": "stream",
     "text": [
      "10\n",
      "2.57\n",
      "Python Language\n"
     ]
    }
   ],
   "source": [
    "intvar=10\n",
    "floatvar=2.57\n",
    "strvar=\"Python Language\"\n",
    "print(intvar)\n",
    "print(floatvar)\n",
    "print(strvar)"
   ]
  },
  {
   "cell_type": "code",
   "execution_count": 33,
   "id": "e30beb6f-bcbc-40c0-8fc8-aef89422b4a9",
   "metadata": {},
   "outputs": [],
   "source": [
    "#Multiple assignments"
   ]
  },
  {
   "cell_type": "code",
   "execution_count": 34,
   "id": "0c5c01e4-bd41-4f39-b9b0-79a6b2299962",
   "metadata": {},
   "outputs": [
    {
     "name": "stdout",
     "output_type": "stream",
     "text": [
      "10\n",
      "2.57\n",
      "Python Language\n"
     ]
    }
   ],
   "source": [
    "intvar,floatvar,strvar=10,2.57,\"Python Language\"\n",
    "print(intvar)\n",
    "print(floatvar)\n",
    "print(strvar)"
   ]
  },
  {
   "cell_type": "code",
   "execution_count": 35,
   "id": "f1422f07-b83d-486b-8dfe-53372b5e1a97",
   "metadata": {},
   "outputs": [
    {
     "name": "stdout",
     "output_type": "stream",
     "text": [
      "44 44 44 44\n"
     ]
    }
   ],
   "source": [
    "p1=p2=p3=p4=44\n",
    "print(p1,p2,p3,p4)"
   ]
  },
  {
   "cell_type": "code",
   "execution_count": 36,
   "id": "d5c128bb-deb8-460b-916f-c40fc36fe33f",
   "metadata": {},
   "outputs": [],
   "source": [
    "##Data types"
   ]
  },
  {
   "cell_type": "code",
   "execution_count": 37,
   "id": "71a32695-a987-4df7-a923-42cc0749fd41",
   "metadata": {},
   "outputs": [],
   "source": [
    "#Numeric"
   ]
  },
  {
   "cell_type": "code",
   "execution_count": 39,
   "id": "cd99857b-f515-4d2a-878c-792bba41a120",
   "metadata": {},
   "outputs": [
    {
     "name": "stdout",
     "output_type": "stream",
     "text": [
      "10\n",
      "<class 'int'>\n",
      "28\n",
      "10  is Integer? True\n"
     ]
    }
   ],
   "source": [
    "val1=10   #integer datatype\n",
    "print(val1)\n",
    "print(type(val1))    #type of object\n",
    "print(sys.getsizeof(val1))     #gives size of integer object in bytes\n",
    "print(val1, \" is Integer?\",isinstance(val1, int)) #val1 is an insatnce of int"
   ]
  },
  {
   "cell_type": "code",
   "execution_count": 42,
   "id": "454ee381-023e-4fa3-8fed-98274ca2811b",
   "metadata": {},
   "outputs": [
    {
     "name": "stdout",
     "output_type": "stream",
     "text": [
      "92.78\n",
      "<class 'float'>\n",
      "24\n",
      "92.78  is float? True\n"
     ]
    }
   ],
   "source": [
    "val2=92.78    #float datatype\n",
    "print(val2)\n",
    "print(type(val2))     #type of object\n",
    "print(sys.getsizeof(val2))    #gives size of float object in bytes\n",
    "print(val2,\" is float?\",isinstance(val2,float))   #val2 is an instance of float"
   ]
  },
  {
   "cell_type": "code",
   "execution_count": 43,
   "id": "8031f218-467f-4122-84cf-28f0d478f189",
   "metadata": {},
   "outputs": [
    {
     "name": "stdout",
     "output_type": "stream",
     "text": [
      "(25+10j)\n",
      "<class 'complex'>\n",
      "32\n",
      "(25+10j) is complex? True\n"
     ]
    }
   ],
   "source": [
    "val3=25+10j   #complex data type\n",
    "print(val3)\n",
    "print(type(val3))\n",
    "print(sys.getsizeof(val3))\n",
    "print(val3,\"is complex?\",isinstance(val3,complex))"
   ]
  },
  {
   "cell_type": "code",
   "execution_count": 44,
   "id": "a3075d03-a51c-400e-b7e4-a98bf7a55c46",
   "metadata": {},
   "outputs": [
    {
     "data": {
      "text/plain": [
       "28"
      ]
     },
     "execution_count": 44,
     "metadata": {},
     "output_type": "execute_result"
    }
   ],
   "source": [
    "sys.getsizeof(int()) #size of integer in bytes"
   ]
  },
  {
   "cell_type": "code",
   "execution_count": 45,
   "id": "1b01351a-6133-47f3-b082-61d67e45ee66",
   "metadata": {},
   "outputs": [
    {
     "data": {
      "text/plain": [
       "24"
      ]
     },
     "execution_count": 45,
     "metadata": {},
     "output_type": "execute_result"
    }
   ],
   "source": [
    "sys.getsizeof(float()) #size of float object in bytes"
   ]
  },
  {
   "cell_type": "code",
   "execution_count": 46,
   "id": "bce9f626-a62f-428f-8d2d-f6a10998fb69",
   "metadata": {},
   "outputs": [
    {
     "data": {
      "text/plain": [
       "32"
      ]
     },
     "execution_count": 46,
     "metadata": {},
     "output_type": "execute_result"
    }
   ],
   "source": [
    "sys.getsizeof(complex())  #size of complex object in bytes"
   ]
  },
  {
   "cell_type": "code",
   "execution_count": 47,
   "id": "89bb1593-71bb-49a4-9692-c3a075ad03d7",
   "metadata": {},
   "outputs": [],
   "source": [
    "#Boolean (it has only two possible values true or false)"
   ]
  },
  {
   "cell_type": "code",
   "execution_count": 48,
   "id": "ef1bbfd2-1bb0-4248-a768-149ad7f8bb86",
   "metadata": {},
   "outputs": [],
   "source": [
    "bool1=True"
   ]
  },
  {
   "cell_type": "code",
   "execution_count": 49,
   "id": "ec06f910-fea3-4c5e-9ab1-35c35b63d948",
   "metadata": {},
   "outputs": [],
   "source": [
    "bool2=False"
   ]
  },
  {
   "cell_type": "code",
   "execution_count": 50,
   "id": "66739e7e-7d7f-4c1e-8c29-ce35d5138bb8",
   "metadata": {},
   "outputs": [
    {
     "name": "stdout",
     "output_type": "stream",
     "text": [
      "<class 'bool'>\n"
     ]
    }
   ],
   "source": [
    "print(type(bool1))"
   ]
  },
  {
   "cell_type": "code",
   "execution_count": 51,
   "id": "10f205fd-b716-4c8a-b74a-74a26a7c6ff8",
   "metadata": {},
   "outputs": [
    {
     "name": "stdout",
     "output_type": "stream",
     "text": [
      "<class 'bool'>\n"
     ]
    }
   ],
   "source": [
    "print(type(bool2))"
   ]
  },
  {
   "cell_type": "code",
   "execution_count": 53,
   "id": "6bcb2cfc-5f6c-4052-b4f0-dc442bf914d2",
   "metadata": {},
   "outputs": [
    {
     "data": {
      "text/plain": [
       "True"
      ]
     },
     "execution_count": 53,
     "metadata": {},
     "output_type": "execute_result"
    }
   ],
   "source": [
    "isinstance(bool1,bool)"
   ]
  },
  {
   "cell_type": "code",
   "execution_count": 54,
   "id": "450d4977-dbaa-4861-8518-50bbd0b34a93",
   "metadata": {},
   "outputs": [
    {
     "data": {
      "text/plain": [
       "False"
      ]
     },
     "execution_count": 54,
     "metadata": {},
     "output_type": "execute_result"
    }
   ],
   "source": [
    "bool(0)"
   ]
  },
  {
   "cell_type": "code",
   "execution_count": 55,
   "id": "0341c188-3e87-45e9-a90e-c3969438068e",
   "metadata": {},
   "outputs": [
    {
     "data": {
      "text/plain": [
       "True"
      ]
     },
     "execution_count": 55,
     "metadata": {},
     "output_type": "execute_result"
    }
   ],
   "source": [
    "bool(1)"
   ]
  },
  {
   "cell_type": "code",
   "execution_count": 56,
   "id": "306a7622-a5a7-464a-8695-18b9fbf6c8ad",
   "metadata": {},
   "outputs": [
    {
     "data": {
      "text/plain": [
       "False"
      ]
     },
     "execution_count": 56,
     "metadata": {},
     "output_type": "execute_result"
    }
   ],
   "source": [
    "bool(None)"
   ]
  },
  {
   "cell_type": "code",
   "execution_count": 57,
   "id": "93e1294e-f900-4214-bddb-42522ed0f6b8",
   "metadata": {},
   "outputs": [
    {
     "data": {
      "text/plain": [
       "False"
      ]
     },
     "execution_count": 57,
     "metadata": {},
     "output_type": "execute_result"
    }
   ],
   "source": [
    "bool(False)"
   ]
  },
  {
   "cell_type": "code",
   "execution_count": 58,
   "id": "4e5938f1-4058-480f-82dc-b8180b9c238d",
   "metadata": {},
   "outputs": [],
   "source": [
    "##Strings"
   ]
  },
  {
   "cell_type": "code",
   "execution_count": 59,
   "id": "267b501d-00e8-4ecd-affe-2b65f193ac5b",
   "metadata": {},
   "outputs": [],
   "source": [
    "#String Creation"
   ]
  },
  {
   "cell_type": "code",
   "execution_count": 60,
   "id": "1234a8e8-0f83-4822-bff0-ec5c94a50c05",
   "metadata": {},
   "outputs": [
    {
     "name": "stdout",
     "output_type": "stream",
     "text": [
      "HELLO PYTHON\n"
     ]
    }
   ],
   "source": [
    "str1=\"HELLO PYTHON\"\n",
    "print(str1)"
   ]
  },
  {
   "cell_type": "code",
   "execution_count": 61,
   "id": "6fd5671a-fcd7-489d-91e0-8de841dee3fd",
   "metadata": {},
   "outputs": [
    {
     "name": "stdout",
     "output_type": "stream",
     "text": [
      "HELLO WORLD\n"
     ]
    }
   ],
   "source": [
    "mystr='HELLO WORLD'    #defining string using single quotes\n",
    "print(mystr)"
   ]
  },
  {
   "cell_type": "code",
   "execution_count": 64,
   "id": "dc818cc0-45b9-48fa-ae56-a7bbff608a6d",
   "metadata": {},
   "outputs": [
    {
     "name": "stdout",
     "output_type": "stream",
     "text": [
      "Hello World\n"
     ]
    }
   ],
   "source": [
    "mystr=\"Hello World\"       #defining string using double quotes\n",
    "print(mystr)"
   ]
  },
  {
   "cell_type": "code",
   "execution_count": 65,
   "id": "75dc937d-2f5e-4f7f-9d04-2553451e769b",
   "metadata": {},
   "outputs": [
    {
     "name": "stdout",
     "output_type": "stream",
     "text": [
      "Hello\n",
      "        World\n"
     ]
    }
   ],
   "source": [
    "mystr='''Hello\n",
    "        World'''   #defining string using triple quotes\n",
    "print(mystr)"
   ]
  },
  {
   "cell_type": "code",
   "execution_count": 66,
   "id": "43156385-82d8-4772-8ff7-5add63b37296",
   "metadata": {},
   "outputs": [
    {
     "name": "stdout",
     "output_type": "stream",
     "text": [
      "Hello\n",
      "        World\n"
     ]
    }
   ],
   "source": [
    "mystr=\"\"\"Hello\n",
    "        World\"\"\"    #defining string using triple quotes\n",
    "print(mystr)"
   ]
  },
  {
   "cell_type": "code",
   "execution_count": 67,
   "id": "7437ae27-5c33-4269-8e46-ea76c0a53713",
   "metadata": {},
   "outputs": [
    {
     "name": "stdout",
     "output_type": "stream",
     "text": [
      "Happy Monday Everyone\n"
     ]
    }
   ],
   "source": [
    "mystr=('Happy '\n",
    "       'Monday '\n",
    "       'Everyone')\n",
    "print(mystr)"
   ]
  },
  {
   "cell_type": "code",
   "execution_count": 68,
   "id": "ce64ecd6-079e-486c-914e-2cdd3863f12d",
   "metadata": {},
   "outputs": [
    {
     "data": {
      "text/plain": [
       "'Woohoo Woohoo Woohoo Woohoo Woohoo '"
      ]
     },
     "execution_count": 68,
     "metadata": {},
     "output_type": "execute_result"
    }
   ],
   "source": [
    "mystr2='Woohoo '\n",
    "mystr2=mystr2*5\n",
    "mystr2"
   ]
  },
  {
   "cell_type": "code",
   "execution_count": 69,
   "id": "344d623b-7400-48e6-b1f4-de8a559a7f6c",
   "metadata": {},
   "outputs": [
    {
     "data": {
      "text/plain": [
       "35"
      ]
     },
     "execution_count": 69,
     "metadata": {},
     "output_type": "execute_result"
    }
   ],
   "source": [
    "len(mystr2)  #length of string"
   ]
  },
  {
   "cell_type": "code",
   "execution_count": 70,
   "id": "79c250c4-8094-4058-8e1e-0df5efdf2261",
   "metadata": {},
   "outputs": [],
   "source": [
    "##String Indexing(Forward indexing from starting 0 and Backward indexing from last i.e; -1)"
   ]
  },
  {
   "cell_type": "code",
   "execution_count": 71,
   "id": "4ff48c28-edc6-4456-a069-742d86294e07",
   "metadata": {},
   "outputs": [
    {
     "data": {
      "text/plain": [
       "'HELLO PYTHON'"
      ]
     },
     "execution_count": 71,
     "metadata": {},
     "output_type": "execute_result"
    }
   ],
   "source": [
    "str1"
   ]
  },
  {
   "cell_type": "code",
   "execution_count": 72,
   "id": "3518743d-9a07-4bc1-8cdb-16a96a9b6c7b",
   "metadata": {},
   "outputs": [
    {
     "data": {
      "text/plain": [
       "'H'"
      ]
     },
     "execution_count": 72,
     "metadata": {},
     "output_type": "execute_result"
    }
   ],
   "source": [
    "str1[0]   #First character in the string \"str1\""
   ]
  },
  {
   "cell_type": "code",
   "execution_count": 73,
   "id": "76f664f8-5ab8-451a-ba74-9df177a1ea2a",
   "metadata": {},
   "outputs": [
    {
     "data": {
      "text/plain": [
       "'N'"
      ]
     },
     "execution_count": 73,
     "metadata": {},
     "output_type": "execute_result"
    }
   ],
   "source": [
    "str1[len(str1)-1]    #Last character in string using Len function"
   ]
  },
  {
   "cell_type": "code",
   "execution_count": 74,
   "id": "16d707dd-4642-4870-bf85-39abb3e1d947",
   "metadata": {},
   "outputs": [
    {
     "data": {
      "text/plain": [
       "12"
      ]
     },
     "execution_count": 74,
     "metadata": {},
     "output_type": "execute_result"
    }
   ],
   "source": [
    "len(str1)"
   ]
  },
  {
   "cell_type": "code",
   "execution_count": 75,
   "id": "41ba59e1-5b31-4cde-a072-0436eddfb228",
   "metadata": {},
   "outputs": [
    {
     "data": {
      "text/plain": [
       "11"
      ]
     },
     "execution_count": 75,
     "metadata": {},
     "output_type": "execute_result"
    }
   ],
   "source": [
    "len(str1)-1"
   ]
  },
  {
   "cell_type": "code",
   "execution_count": 76,
   "id": "99d29f03-fe37-4aef-a3b5-5d6fd8b99d10",
   "metadata": {},
   "outputs": [
    {
     "data": {
      "text/plain": [
       "'N'"
      ]
     },
     "execution_count": 76,
     "metadata": {},
     "output_type": "execute_result"
    }
   ],
   "source": [
    "str1[-1]     #Last character in string"
   ]
  },
  {
   "cell_type": "code",
   "execution_count": 77,
   "id": "eb89853e-f997-40a7-954c-433421fa6829",
   "metadata": {},
   "outputs": [
    {
     "data": {
      "text/plain": [
       "'P'"
      ]
     },
     "execution_count": 77,
     "metadata": {},
     "output_type": "execute_result"
    }
   ],
   "source": [
    "str1[6]       #Fetch 7th element of the string"
   ]
  },
  {
   "cell_type": "code",
   "execution_count": 78,
   "id": "e28bf208-4b09-44eb-afc3-81e76c6aa2f3",
   "metadata": {},
   "outputs": [
    {
     "data": {
      "text/plain": [
       "' '"
      ]
     },
     "execution_count": 78,
     "metadata": {},
     "output_type": "execute_result"
    }
   ],
   "source": [
    "str1[5]"
   ]
  },
  {
   "cell_type": "code",
   "execution_count": 79,
   "id": "635ba205-710d-4313-b3b7-017ac88095e9",
   "metadata": {},
   "outputs": [],
   "source": [
    "#String Slicing"
   ]
  },
  {
   "cell_type": "code",
   "execution_count": 80,
   "id": "35a68630-ec46-45d2-93e0-87d3befd07e9",
   "metadata": {},
   "outputs": [
    {
     "data": {
      "text/plain": [
       "'HELLO'"
      ]
     },
     "execution_count": 80,
     "metadata": {},
     "output_type": "execute_result"
    }
   ],
   "source": [
    "str1[0:5]    # String slicing - Fetch all characters from 0 to 5 index location"
   ]
  },
  {
   "cell_type": "code",
   "execution_count": 81,
   "id": "437b10ae-2b94-4c75-bbd9-fb2f330b8bde",
   "metadata": {},
   "outputs": [
    {
     "data": {
      "text/plain": [
       "'PYTHON'"
      ]
     },
     "execution_count": 81,
     "metadata": {},
     "output_type": "execute_result"
    }
   ],
   "source": [
    "str1[6:12]   # String slicing - Retreive all characters between 6 - 12 index location"
   ]
  },
  {
   "cell_type": "code",
   "execution_count": 82,
   "id": "c95d6cb2-82d1-4bf3-bb6b-4d1ed6504e57",
   "metadata": {},
   "outputs": [
    {
     "data": {
      "text/plain": [
       "'THON'"
      ]
     },
     "execution_count": 82,
     "metadata": {},
     "output_type": "execute_result"
    }
   ],
   "source": [
    "str1[-4:]  #Retrive last four chsracters from the string"
   ]
  },
  {
   "cell_type": "code",
   "execution_count": 84,
   "id": "92c65390-0266-4cf7-a6d7-d03a3c67a9eb",
   "metadata": {},
   "outputs": [
    {
     "data": {
      "text/plain": [
       "'PYTHON'"
      ]
     },
     "execution_count": 84,
     "metadata": {},
     "output_type": "execute_result"
    }
   ],
   "source": [
    "str1[-6:]    #Retrive last six chsracters from the string"
   ]
  },
  {
   "cell_type": "code",
   "execution_count": 86,
   "id": "96a01763-f50b-40f5-b1e4-a636377d4de6",
   "metadata": {},
   "outputs": [
    {
     "data": {
      "text/plain": [
       "'HELL'"
      ]
     },
     "execution_count": 86,
     "metadata": {},
     "output_type": "execute_result"
    }
   ],
   "source": [
    "str1[:4]   #Retrive first four chsracters from the string"
   ]
  },
  {
   "cell_type": "code",
   "execution_count": 88,
   "id": "20e4cf08-bd2e-4bc2-bedb-5bea4d3b9fbd",
   "metadata": {},
   "outputs": [
    {
     "data": {
      "text/plain": [
       "'HELLO '"
      ]
     },
     "execution_count": 88,
     "metadata": {},
     "output_type": "execute_result"
    }
   ],
   "source": [
    "str1[:6]    #Retrive first six chsracters from the string"
   ]
  },
  {
   "cell_type": "code",
   "execution_count": 89,
   "id": "ff2261cb-0e13-4d41-b76a-5f374304a906",
   "metadata": {},
   "outputs": [],
   "source": [
    "#Update & Delete String"
   ]
  },
  {
   "cell_type": "code",
   "execution_count": 90,
   "id": "1088faf5-8c0d-4edd-bd9a-e71d0858a6ad",
   "metadata": {},
   "outputs": [
    {
     "data": {
      "text/plain": [
       "'HELLO PYTHON'"
      ]
     },
     "execution_count": 90,
     "metadata": {},
     "output_type": "execute_result"
    }
   ],
   "source": [
    "str1"
   ]
  },
  {
   "cell_type": "code",
   "execution_count": 91,
   "id": "1acfbb5c-ffd7-4620-8886-9b66e199e837",
   "metadata": {},
   "outputs": [],
   "source": [
    "#Strings are immutable which means elements of a string cannot be changed once they have been assigned."
   ]
  },
  {
   "cell_type": "code",
   "execution_count": 92,
   "id": "d9184a7b-f7b6-4184-bf59-83208790cfe8",
   "metadata": {},
   "outputs": [
    {
     "ename": "TypeError",
     "evalue": "'str' object does not support item assignment",
     "output_type": "error",
     "traceback": [
      "\u001b[1;31m---------------------------------------------------------------------------\u001b[0m",
      "\u001b[1;31mTypeError\u001b[0m                                 Traceback (most recent call last)",
      "Cell \u001b[1;32mIn[92], line 1\u001b[0m\n\u001b[1;32m----> 1\u001b[0m str1[\u001b[38;5;241m0\u001b[39m:\u001b[38;5;241m5\u001b[39m]\u001b[38;5;241m=\u001b[39m\u001b[38;5;124m'\u001b[39m\u001b[38;5;124mHOLAA\u001b[39m\u001b[38;5;124m'\u001b[39m\n",
      "\u001b[1;31mTypeError\u001b[0m: 'str' object does not support item assignment"
     ]
    }
   ],
   "source": [
    "str1[0:5]='HOLAA'"
   ]
  },
  {
   "cell_type": "code",
   "execution_count": 93,
   "id": "cea8c619-c8d9-481b-b9dc-a36806a1955f",
   "metadata": {},
   "outputs": [
    {
     "ename": "NameError",
     "evalue": "name 'str1' is not defined",
     "output_type": "error",
     "traceback": [
      "\u001b[1;31m---------------------------------------------------------------------------\u001b[0m",
      "\u001b[1;31mNameError\u001b[0m                                 Traceback (most recent call last)",
      "Cell \u001b[1;32mIn[93], line 2\u001b[0m\n\u001b[0;32m      1\u001b[0m \u001b[38;5;28;01mdel\u001b[39;00m str1      \u001b[38;5;66;03m#Delete a string\u001b[39;00m\n\u001b[1;32m----> 2\u001b[0m \u001b[38;5;28mprint\u001b[39m(str1)\n",
      "\u001b[1;31mNameError\u001b[0m: name 'str1' is not defined"
     ]
    }
   ],
   "source": [
    "del str1      #Delete a string\n",
    "print(str1)"
   ]
  },
  {
   "cell_type": "code",
   "execution_count": 94,
   "id": "05264f6e-d273-4806-95a0-d8de5e83ce61",
   "metadata": {},
   "outputs": [],
   "source": [
    "#String Concatenation"
   ]
  },
  {
   "cell_type": "code",
   "execution_count": 96,
   "id": "f312a38f-480f-4704-8862-18940b79365b",
   "metadata": {},
   "outputs": [
    {
     "name": "stdout",
     "output_type": "stream",
     "text": [
      "HelloAsif\n"
     ]
    }
   ],
   "source": [
    "s1=\"Hello\"\n",
    "s2=\"Asif\"\n",
    "s3=s1+s2\n",
    "print(s3)"
   ]
  },
  {
   "cell_type": "markdown",
   "id": "c1195002-cdbc-4179-909a-e58c7e2f9d0d",
   "metadata": {
    "jp-MarkdownHeadingCollapsed": true
   },
   "source": [
    "## 20th June Python datatype interview questions"
   ]
  },
  {
   "cell_type": "code",
   "execution_count": 101,
   "id": "93677b64-499d-49f0-b96f-b4f482e35ff4",
   "metadata": {},
   "outputs": [
    {
     "name": "stdout",
     "output_type": "stream",
     "text": [
      "2\n"
     ]
    }
   ],
   "source": [
    "print(True*2)"
   ]
  },
  {
   "cell_type": "code",
   "execution_count": 104,
   "id": "0fbedf79-6a1d-4b5e-ac38-25cf1766b878",
   "metadata": {},
   "outputs": [
    {
     "name": "stdout",
     "output_type": "stream",
     "text": [
      "<class 'tuple'>\n"
     ]
    }
   ],
   "source": [
    "poll_data=7,\n",
    "print(type(poll_data))"
   ]
  },
  {
   "cell_type": "code",
   "execution_count": 103,
   "id": "dbb4d245-8f63-471c-84b2-4ba318cc2c10",
   "metadata": {},
   "outputs": [
    {
     "name": "stdout",
     "output_type": "stream",
     "text": [
      "<class 'tuple'>\n"
     ]
    }
   ],
   "source": [
    "obj_data=()\n",
    "print(type(obj_data))"
   ]
  },
  {
   "cell_type": "code",
   "execution_count": 105,
   "id": "0a985d1d-778e-4af9-91b6-5029baa30793",
   "metadata": {},
   "outputs": [
    {
     "ename": "TypeError",
     "evalue": "cannot convert dictionary update sequence element #0 to a sequence",
     "output_type": "error",
     "traceback": [
      "\u001b[1;31m---------------------------------------------------------------------------\u001b[0m",
      "\u001b[1;31mTypeError\u001b[0m                                 Traceback (most recent call last)",
      "Cell \u001b[1;32mIn[105], line 1\u001b[0m\n\u001b[1;32m----> 1\u001b[0m \u001b[38;5;28mdict\u001b[39m(\u001b[38;5;28mrange\u001b[39m(\u001b[38;5;241m9\u001b[39m))\n",
      "\u001b[1;31mTypeError\u001b[0m: cannot convert dictionary update sequence element #0 to a sequence"
     ]
    }
   ],
   "source": [
    "dict(range(9))"
   ]
  },
  {
   "cell_type": "code",
   "execution_count": 106,
   "id": "a6e906c9-4911-4f9c-a9a5-107e4885f69f",
   "metadata": {},
   "outputs": [
    {
     "data": {
      "text/plain": [
       "{0, 1, 2, 3, 4, 5, 6, 7, 8}"
      ]
     },
     "execution_count": 106,
     "metadata": {},
     "output_type": "execute_result"
    }
   ],
   "source": [
    "set(range(9))"
   ]
  },
  {
   "cell_type": "code",
   "execution_count": 107,
   "id": "61922482-96c2-4aa1-978e-d882dfd8b207",
   "metadata": {},
   "outputs": [
    {
     "data": {
      "text/plain": [
       "[0, 1, 2, 3, 4, 5, 6, 7, 8]"
      ]
     },
     "execution_count": 107,
     "metadata": {},
     "output_type": "execute_result"
    }
   ],
   "source": [
    "list(range(9))"
   ]
  },
  {
   "cell_type": "code",
   "execution_count": 108,
   "id": "4885de00-087c-4171-9ca0-f9a28326e22a",
   "metadata": {},
   "outputs": [
    {
     "data": {
      "text/plain": [
       "(0, 1, 2, 3, 4, 5, 6, 7, 8)"
      ]
     },
     "execution_count": 108,
     "metadata": {},
     "output_type": "execute_result"
    }
   ],
   "source": [
    "tuple(range(9))"
   ]
  },
  {
   "cell_type": "code",
   "execution_count": 109,
   "id": "1cdba846-cebb-418d-8e83-40120c4447f5",
   "metadata": {},
   "outputs": [
    {
     "name": "stdout",
     "output_type": "stream",
     "text": [
      "<class 'str'>\n"
     ]
    }
   ],
   "source": [
    "poll_data=\"7.1\"\n",
    "print(type(poll_data))"
   ]
  },
  {
   "cell_type": "code",
   "execution_count": 110,
   "id": "75085a47-03ec-4dc6-9a01-6803d2fe8c22",
   "metadata": {},
   "outputs": [
    {
     "data": {
      "text/plain": [
       "12"
      ]
     },
     "execution_count": 110,
     "metadata": {},
     "output_type": "execute_result"
    }
   ],
   "source": [
    "int(12.3)"
   ]
  },
  {
   "cell_type": "code",
   "execution_count": 111,
   "id": "7b9ee6c4-d2ca-4e4b-a28b-413b90ffa314",
   "metadata": {},
   "outputs": [
    {
     "data": {
      "text/plain": [
       "1"
      ]
     },
     "execution_count": 111,
     "metadata": {},
     "output_type": "execute_result"
    }
   ],
   "source": [
    "int(True)"
   ]
  },
  {
   "cell_type": "markdown",
   "id": "8ef3672a-e999-43e9-8bdd-d9abadce05e5",
   "metadata": {
    "jp-MarkdownHeadingCollapsed": true
   },
   "source": [
    "## 20th june(Task 5- complex datatype)"
   ]
  },
  {
   "cell_type": "code",
   "execution_count": 114,
   "id": "8970e34c-e5e4-4915-a786-ba05665e69dd",
   "metadata": {},
   "outputs": [
    {
     "name": "stdout",
     "output_type": "stream",
     "text": [
      "3.0\n",
      "4.0\n"
     ]
    }
   ],
   "source": [
    "z=3+4j        #Accessing the real and imaginary parts\n",
    "print(z.real)\n",
    "print(z.imag)"
   ]
  },
  {
   "cell_type": "code",
   "execution_count": 115,
   "id": "2c1d2526-5016-4c42-b384-44f1892af8cf",
   "metadata": {},
   "outputs": [
    {
     "name": "stdout",
     "output_type": "stream",
     "text": [
      "(4+6j)\n",
      "(2+2j)\n",
      "(-5+10j)\n",
      "(2.2-0.4j)\n"
     ]
    }
   ],
   "source": [
    "a=3+4j        # operations with complex numbers\n",
    "b=1+2j\n",
    "print(a+b)\n",
    "print(a-b)\n",
    "print(a*b)\n",
    "print(a/b)"
   ]
  },
  {
   "cell_type": "code",
   "execution_count": 119,
   "id": "f85b6400-6f03-42f6-b184-d50b7b0b3c0b",
   "metadata": {},
   "outputs": [
    {
     "name": "stdout",
     "output_type": "stream",
     "text": [
      "5.0\n",
      "(3-4j)\n"
     ]
    }
   ],
   "source": [
    "z=3+4j       #using built-in functions\n",
    "print(abs(z))   #5.0 (Magnitude)\n",
    "print(z.conjugate())   #(3-4j)(complex conjugate)"
   ]
  },
  {
   "cell_type": "code",
   "execution_count": 122,
   "id": "c29a23ee-d92a-476c-9972-dbd1981b2d98",
   "metadata": {},
   "outputs": [
    {
     "name": "stdout",
     "output_type": "stream",
     "text": [
      "0.7853981633974483\n",
      "(1.4142135623730951, 0.7853981633974483)\n",
      "(1.09868411346781+0.45508986056222733j)\n"
     ]
    }
   ],
   "source": [
    "import cmath         #complex number in the cmath module\n",
    "z=1+1j\n",
    "print(cmath.phase(z)) #getting the phase(angle) of the complex number (radians)\n",
    "print(cmath.polar(z))  #getting the polar form of a complex number(magnitude,angle)\n",
    "print(cmath.sqrt(z))  #getting the square root of a complex number"
   ]
  },
  {
   "cell_type": "markdown",
   "id": "622445b8-b935-4655-b91f-abb4a4ca347d",
   "metadata": {
    "jp-MarkdownHeadingCollapsed": true
   },
   "source": [
    "## 20th June (Task-5 Basic code)"
   ]
  },
  {
   "cell_type": "code",
   "execution_count": 123,
   "id": "667329f3-8fda-4cdf-98eb-61736749e619",
   "metadata": {},
   "outputs": [
    {
     "name": "stdout",
     "output_type": "stream",
     "text": [
      "5\n",
      "1\n",
      "6\n",
      "1.5\n",
      "9\n",
      "1\n",
      "1\n"
     ]
    }
   ],
   "source": [
    "print(3+2)  #add(+)\n",
    "print(3-2)  #sub(-)\n",
    "print(3*2)  #mul(*)\n",
    "print(3/2)  #div(/)\n",
    "print(3**2) #exponential(**)\n",
    "print(3%2)  #modulus(%)\n",
    "print(3//2) #Floor div operator(//)"
   ]
  },
  {
   "cell_type": "code",
   "execution_count": 124,
   "id": "f6873b71-7809-42a6-a036-5676ba9ac1a9",
   "metadata": {},
   "outputs": [],
   "source": [
    "#checking datatypes"
   ]
  },
  {
   "cell_type": "code",
   "execution_count": 125,
   "id": "863e1c0a-976d-4d7f-84e2-c6c303244b9c",
   "metadata": {},
   "outputs": [
    {
     "name": "stdout",
     "output_type": "stream",
     "text": [
      "<class 'int'>\n",
      "<class 'float'>\n",
      "<class 'complex'>\n",
      "<class 'str'>\n",
      "<class 'list'>\n",
      "<class 'dict'>\n",
      "<class 'set'>\n",
      "<class 'tuple'>\n",
      "<class 'bool'>\n",
      "<class 'bool'>\n"
     ]
    }
   ],
   "source": [
    "print(type(10))\n",
    "print(type(3.14))\n",
    "print(type(1+3j))\n",
    "print(type('Asabeneh'))\n",
    "print(type([1,2,3]))\n",
    "print(type({'name':'asabeneh'}))\n",
    "print(type({9.8, 3.14, 2.7}))\n",
    "print(type((9.8, 3.14, 2.7)))\n",
    "print(type(3 == 3))\n",
    "print(type(3 >= 3))"
   ]
  },
  {
   "cell_type": "markdown",
   "id": "1a869cb7-ad8a-4085-bca9-b642338eccca",
   "metadata": {
    "jp-MarkdownHeadingCollapsed": true
   },
   "source": [
    "## 20th June (Task-5 Operator.py)"
   ]
  },
  {
   "cell_type": "code",
   "execution_count": 127,
   "id": "92001ef2-4619-4afd-81b1-1b1eb17c5192",
   "metadata": {},
   "outputs": [],
   "source": [
    "#Airthematic operations in python"
   ]
  },
  {
   "cell_type": "code",
   "execution_count": null,
   "id": "ffd8ae94-7865-45b2-8908-fce0b578a1e3",
   "metadata": {},
   "outputs": [],
   "source": [
    "#integers"
   ]
  },
  {
   "cell_type": "code",
   "execution_count": 126,
   "id": "3def5e9f-14ad-4b19-956b-23ff7e139de0",
   "metadata": {},
   "outputs": [
    {
     "name": "stdout",
     "output_type": "stream",
     "text": [
      "Addition:  3\n",
      "Subtraction:  1\n",
      "Multiplication:  6\n",
      "Division:  2.0\n",
      "Division:  3.0\n",
      "Division:  3.5\n",
      "Division without the remainder:  3\n",
      "Modulus:  1\n",
      "Division without the remainder:  2\n",
      "Exponential:  9\n"
     ]
    }
   ],
   "source": [
    "print('Addition: ', 1+2)\n",
    "print('Subtraction: ', 2 - 1)\n",
    "print('Multiplication: ', 2 * 3)\n",
    "print ('Division: ', 4 / 2)                         # Division in python gives floating number\n",
    "print('Division: ', 6 / 2)\n",
    "print('Division: ', 7 / 2)\n",
    "print('Division without the remainder: ', 7 // 2)   # gives without the floating number or without the remaining\n",
    "print('Modulus: ', 3 % 2)                           # Gives the remainder\n",
    "print ('Division without the remainder: ', 7 // 3)\n",
    "print('Exponential: ', 3 ** 2)                     # it means 3 square value"
   ]
  },
  {
   "cell_type": "code",
   "execution_count": 128,
   "id": "879a48b9-2ac4-4add-b729-5ad56a236cf0",
   "metadata": {},
   "outputs": [],
   "source": [
    "#Floating numbers"
   ]
  },
  {
   "cell_type": "code",
   "execution_count": 129,
   "id": "88fc9178-63f0-4571-82c6-336c31a3ae6f",
   "metadata": {},
   "outputs": [
    {
     "name": "stdout",
     "output_type": "stream",
     "text": [
      "Floating Number,PI 3.14\n",
      "Floating Number, gravity 9.81\n"
     ]
    }
   ],
   "source": [
    "print('Floating Number,PI', 3.14)\n",
    "print('Floating Number, gravity', 9.81)"
   ]
  },
  {
   "cell_type": "code",
   "execution_count": 130,
   "id": "f29e863b-1997-4678-93f4-486df518b6cd",
   "metadata": {},
   "outputs": [],
   "source": [
    "#complex numbers "
   ]
  },
  {
   "cell_type": "code",
   "execution_count": 131,
   "id": "f6073a4e-dd83-4866-8550-f580911f7624",
   "metadata": {},
   "outputs": [
    {
     "name": "stdout",
     "output_type": "stream",
     "text": [
      "Complex number:  (1+1j)\n",
      "Multiplying complex number:  (2+0j)\n"
     ]
    }
   ],
   "source": [
    "print('Complex number: ', 1 + 1j)\n",
    "print('Multiplying complex number: ',(1 + 1j) * (1-1j))"
   ]
  },
  {
   "cell_type": "code",
   "execution_count": 132,
   "id": "b43e7f70-8936-4d99-8e29-261e130fd2e2",
   "metadata": {},
   "outputs": [],
   "source": [
    " #Declaring the variable at the top first"
   ]
  },
  {
   "cell_type": "code",
   "execution_count": null,
   "id": "df2e5986-1226-45af-9601-91d58284bc08",
   "metadata": {},
   "outputs": [],
   "source": [
    "a = 3 # a is a variable name and 3 is an integer data type\n",
    "b = 2 # b is a variable name and 3 is an integer data type"
   ]
  },
  {
   "cell_type": "code",
   "execution_count": null,
   "id": "ff401f92-e247-42ca-ad8d-0526b4d6ad22",
   "metadata": {},
   "outputs": [],
   "source": [
    "# Arithmetic operations and assigning the result to a variable"
   ]
  },
  {
   "cell_type": "code",
   "execution_count": 141,
   "id": "92abdc76-8327-4386-9678-900258f6e146",
   "metadata": {},
   "outputs": [
    {
     "name": "stdout",
     "output_type": "stream",
     "text": [
      "5\n",
      "a + b =  5\n",
      "a - b =  1\n",
      "a * b =  6\n",
      "a / b =  1.5\n",
      "a % b =  1\n",
      "a // b =  1\n",
      "a ** b =  9\n"
     ]
    }
   ],
   "source": [
    "sum = a + b\n",
    "diff = a - b\n",
    "product = a * b\n",
    "division = a / b\n",
    "remainder = a % b\n",
    "floor_division = a // b\n",
    "exponential = a ** b\n",
    "\n",
    "print(sum)\n",
    "print('a + b = ', sum)\n",
    "print('a - b = ', diff)\n",
    "print('a * b = ', product)\n",
    "print('a / b = ', division)\n",
    "print('a % b = ', remainder)\n",
    "print('a // b = ', floor_division)\n",
    "print('a ** b = ', exponential)"
   ]
  },
  {
   "cell_type": "code",
   "execution_count": 142,
   "id": "3bba4d33-8aa8-4fb4-8e30-1bd260c21b5a",
   "metadata": {},
   "outputs": [],
   "source": [
    "#Declaring values and organizing them together"
   ]
  },
  {
   "cell_type": "code",
   "execution_count": 143,
   "id": "59f81ae8-c443-4496-b6c5-c036c0fa65fe",
   "metadata": {},
   "outputs": [],
   "source": [
    "num_one=3\n",
    "num_two=4"
   ]
  },
  {
   "cell_type": "code",
   "execution_count": 144,
   "id": "b813f3ca-d8cb-4ee6-8302-1356ba0113c6",
   "metadata": {},
   "outputs": [],
   "source": [
    "#Arithematic operations"
   ]
  },
  {
   "cell_type": "code",
   "execution_count": 147,
   "id": "8b17d043-55d2-4646-b1f8-179cf23dc679",
   "metadata": {},
   "outputs": [
    {
     "name": "stdout",
     "output_type": "stream",
     "text": [
      "total:  7\n",
      "difference:  1\n",
      "product:  12\n",
      "division:  1.0\n",
      "remainder:  1\n"
     ]
    }
   ],
   "source": [
    "total=num_one+num_two\n",
    "diff=num_two-num_one\n",
    "product=num_one*num_two\n",
    "div=num_two/num_two\n",
    "remainder=num_two % num_one\n",
    "print('total: ',total)\n",
    "print('difference: ', diff)\n",
    "print('product: ', product)\n",
    "print('division: ', div)\n",
    "print('remainder: ', remainder)"
   ]
  },
  {
   "cell_type": "code",
   "execution_count": null,
   "id": "46438029-1f9c-48a3-b148-321d5824c169",
   "metadata": {},
   "outputs": [],
   "source": [
    "# Calculating area of a circle"
   ]
  },
  {
   "cell_type": "code",
   "execution_count": 148,
   "id": "f6f7d359-96ff-487c-bb0e-4f970a12312f",
   "metadata": {},
   "outputs": [
    {
     "name": "stdout",
     "output_type": "stream",
     "text": [
      "Area of a circle: 314.0\n"
     ]
    }
   ],
   "source": [
    "radius = 10                                 # radius of a circle\n",
    "area_of_circle = 3.14 * radius ** 2         #  **  means exponent or power\n",
    "print('Area of a circle:', area_of_circle)"
   ]
  },
  {
   "cell_type": "code",
   "execution_count": 149,
   "id": "dd433fd2-61be-4688-83a1-7a1fdfec0ea7",
   "metadata": {},
   "outputs": [],
   "source": [
    "#Calculating the area of rectangle"
   ]
  },
  {
   "cell_type": "code",
   "execution_count": 150,
   "id": "1676b6fe-b8fc-49c6-83df-058c95e97feb",
   "metadata": {},
   "outputs": [
    {
     "name": "stdout",
     "output_type": "stream",
     "text": [
      "Area of rectangle: 200\n"
     ]
    }
   ],
   "source": [
    "length = 10\n",
    "width = 20\n",
    "area_of_rectangle = length * width\n",
    "print('Area of rectangle:', area_of_rectangle)"
   ]
  },
  {
   "cell_type": "code",
   "execution_count": 151,
   "id": "be86d0ed-8403-48ab-96ab-400b67dfe8f9",
   "metadata": {},
   "outputs": [],
   "source": [
    "#Calculating the width of an object"
   ]
  },
  {
   "cell_type": "code",
   "execution_count": 152,
   "id": "221ae9c6-dd31-45cc-b361-965144433e3f",
   "metadata": {},
   "outputs": [
    {
     "name": "stdout",
     "output_type": "stream",
     "text": [
      "735.75 N\n"
     ]
    }
   ],
   "source": [
    "mass=75\n",
    "gravity=9.81\n",
    "weight=mass*gravity\n",
    "print(weight, 'N')"
   ]
  },
  {
   "cell_type": "code",
   "execution_count": 153,
   "id": "90927b2b-eec4-43ee-ac9b-7cb9becd5b47",
   "metadata": {},
   "outputs": [
    {
     "name": "stdout",
     "output_type": "stream",
     "text": [
      "True\n",
      "True\n",
      "False\n",
      "True\n",
      "True\n",
      "False\n",
      "True\n"
     ]
    }
   ],
   "source": [
    "print(3>2)\n",
    "print(3>=2)\n",
    "print(3<2)\n",
    "print(2<3)\n",
    "print(2<=3)\n",
    "print(3==2)\n",
    "print(3!=2)"
   ]
  },
  {
   "cell_type": "code",
   "execution_count": 154,
   "id": "42dd932e-f10c-4ce4-89cb-f6df6cbaaba4",
   "metadata": {},
   "outputs": [
    {
     "name": "stdout",
     "output_type": "stream",
     "text": [
      "False\n",
      "True\n",
      "True\n",
      "False\n",
      "True\n",
      "True\n",
      "False\n"
     ]
    }
   ],
   "source": [
    "print(len('mango') == len('avocado'))\n",
    "print(len('mango') != len('avocado'))\n",
    "print(len('mango') < len('avocado')) \n",
    "print(len('milk') != len('meat'))\n",
    "print(len('milk') == len('meat'))\n",
    "print(len('tomato') == len('potato'))\n",
    "print(len('python') > len('dragon'))"
   ]
  },
  {
   "cell_type": "code",
   "execution_count": 155,
   "id": "ea859b43-578c-4dbb-96ea-378d565c359e",
   "metadata": {},
   "outputs": [],
   "source": [
    "#Boolean comparision"
   ]
  },
  {
   "cell_type": "code",
   "execution_count": 156,
   "id": "cb7ecf61-fb4a-4e5a-839b-999211a97d70",
   "metadata": {},
   "outputs": [
    {
     "name": "stdout",
     "output_type": "stream",
     "text": [
      "True == True:  True\n",
      "True == False:  False\n",
      "False == False: True\n",
      "True and True:  True\n",
      "True or False: True\n"
     ]
    }
   ],
   "source": [
    "print('True == True: ', True == True)\n",
    "print('True == False: ', True == False)\n",
    "print('False == False:', False == False)\n",
    "print('True and True: ', True and True)\n",
    "print('True or False:', True or False)"
   ]
  },
  {
   "cell_type": "code",
   "execution_count": 157,
   "id": "2f2008da-b36a-425e-9c8f-9f7300438f32",
   "metadata": {},
   "outputs": [],
   "source": [
    "# Another way of boolean comparision"
   ]
  },
  {
   "cell_type": "code",
   "execution_count": 158,
   "id": "6ea79958-8ccd-4b53-aa8f-7e20b71949cf",
   "metadata": {},
   "outputs": [
    {
     "name": "stdout",
     "output_type": "stream",
     "text": [
      "1 is 1 True\n",
      "1 is not 2 True\n",
      "A in Asabeneh True\n",
      "B in Asabeneh False\n",
      "True\n",
      "a in an: True\n",
      "4 is 2 ** 2: True\n"
     ]
    },
    {
     "name": "stderr",
     "output_type": "stream",
     "text": [
      "<>:1: SyntaxWarning: \"is\" with 'int' literal. Did you mean \"==\"?\n",
      "<>:2: SyntaxWarning: \"is not\" with 'int' literal. Did you mean \"!=\"?\n",
      "<>:7: SyntaxWarning: \"is\" with 'int' literal. Did you mean \"==\"?\n",
      "<>:1: SyntaxWarning: \"is\" with 'int' literal. Did you mean \"==\"?\n",
      "<>:2: SyntaxWarning: \"is not\" with 'int' literal. Did you mean \"!=\"?\n",
      "<>:7: SyntaxWarning: \"is\" with 'int' literal. Did you mean \"==\"?\n",
      "C:\\Users\\Admin\\AppData\\Local\\Temp\\ipykernel_41296\\3718229826.py:1: SyntaxWarning: \"is\" with 'int' literal. Did you mean \"==\"?\n",
      "  print('1 is 1', 1 is 1)                   # True( bcz the data values are the same)\n",
      "C:\\Users\\Admin\\AppData\\Local\\Temp\\ipykernel_41296\\3718229826.py:2: SyntaxWarning: \"is not\" with 'int' literal. Did you mean \"!=\"?\n",
      "  print('1 is not 2', 1 is not 2)           # True (bcz 1 is not 2)\n",
      "C:\\Users\\Admin\\AppData\\Local\\Temp\\ipykernel_41296\\3718229826.py:7: SyntaxWarning: \"is\" with 'int' literal. Did you mean \"==\"?\n",
      "  print('4 is 2 ** 2:', 4 is 2 ** 2)   # True\n"
     ]
    }
   ],
   "source": [
    "print('1 is 1', 1 is 1)                   # True( bcz the data values are the same)\n",
    "print('1 is not 2', 1 is not 2)           # True (bcz 1 is not 2)\n",
    "print('A in Asabeneh', 'A' in 'Asabeneh') # True ( A found in the string)\n",
    "print('B in Asabeneh', 'B' in 'Asabeneh') # False (there is no uppercase B)\n",
    "print('coding' in 'coding for all') # True ( bcz coding for all has the word coding)\n",
    "print('a in an:', 'a' in 'an')      # True\n",
    "print('4 is 2 ** 2:', 4 is 2 ** 2)   # True"
   ]
  },
  {
   "cell_type": "code",
   "execution_count": 159,
   "id": "c280cf3d-f200-4db9-bafc-7ea06a7f9ba6",
   "metadata": {},
   "outputs": [
    {
     "name": "stdout",
     "output_type": "stream",
     "text": [
      "True\n",
      "False\n",
      "False\n",
      "True\n",
      "True\n",
      "False\n",
      "False\n",
      "False\n",
      "True\n",
      "True\n",
      "False\n"
     ]
    }
   ],
   "source": [
    "print(3 > 2 and 4 > 3) # True (bcz both statements are true)\n",
    "print(3 > 2 and 4 < 3) # False (bcz the second statement is false)\n",
    "print(3 < 2 and 4 < 3) # False (bcz both statements are false)\n",
    "print(3 > 2 or 4 > 3)  # True (bcz both statements are true)\n",
    "print(3 > 2 or 4 < 3)  # True (bcz one of the statement is true)\n",
    "print(3 < 2 or 4 < 3)  # False (bcz both statements are false)\n",
    "print(not 3 > 2)     # False (bcz3 > 2 is true, then not True gives False)\n",
    "print(not True)      # False (Negation, the not operator turns true to false)\n",
    "print(not False)     # True\n",
    "print(not not True)  # True\n",
    "print(not not False) # False"
   ]
  },
  {
   "cell_type": "markdown",
   "id": "8e56e6d8-3fed-4de3-924f-79a0212e85f1",
   "metadata": {
    "jp-MarkdownHeadingCollapsed": true
   },
   "source": [
    "## 20th June(Task-5 variables.py)"
   ]
  },
  {
   "cell_type": "code",
   "execution_count": 160,
   "id": "1c50dab5-99a8-42e9-b163-c9662db45b44",
   "metadata": {},
   "outputs": [],
   "source": [
    "#Variables in python"
   ]
  },
  {
   "cell_type": "code",
   "execution_count": 163,
   "id": "7b245a19-90c7-4cbd-a1ce-8a93f3ba98ef",
   "metadata": {},
   "outputs": [
    {
     "name": "stdout",
     "output_type": "stream",
     "text": [
      "First name: SHABEROONESA\n",
      "First name length: 12\n",
      "Last name:  SHAIK\n",
      "Last name length:  5\n",
      "Country:  INDIA\n",
      "City:  GUNTUR\n",
      "Age:  22\n",
      "Married:  False\n",
      "Skills:  ['HTML', 'C', 'Python']\n",
      "Person information:  {'firstname': 'SHABEROONESA', 'lastname': 'SHAIK', 'country': 'INDIA', 'city': 'GUNTUR'}\n"
     ]
    }
   ],
   "source": [
    "first_name = 'SHABEROONESA'\n",
    "last_name = 'SHAIK'\n",
    "country = 'INDIA'\n",
    "city = 'GUNTUR'\n",
    "age = 22\n",
    "is_married = False\n",
    "skills = ['HTML', 'C','Python']\n",
    "person_info = {\n",
    "    'firstname':'SHABEROONESA', \n",
    "    'lastname':'SHAIK', \n",
    "    'country':'INDIA',\n",
    "    'city':'GUNTUR'\n",
    "    }                                  #printing the values stored in the variables\n",
    "print('First name:', first_name)\n",
    "print('First name length:', len(first_name))\n",
    "print('Last name: ', last_name)\n",
    "print('Last name length: ', len(last_name))\n",
    "print('Country: ', country)\n",
    "print('City: ', city)\n",
    "print('Age: ', age)\n",
    "print('Married: ', is_married)\n",
    "print('Skills: ', skills)\n",
    "print('Person information: ', person_info)"
   ]
  },
  {
   "cell_type": "code",
   "execution_count": 164,
   "id": "654d7a53-af31-4c7d-aaf8-f3898579f0a6",
   "metadata": {},
   "outputs": [],
   "source": [
    "#declaring multiple variables in one line"
   ]
  },
  {
   "cell_type": "code",
   "execution_count": 165,
   "id": "99ea538d-5d17-4a30-8be4-b88c57939fff",
   "metadata": {},
   "outputs": [
    {
     "name": "stdout",
     "output_type": "stream",
     "text": [
      "SHABEROONESA SHAIK INDIA 22 False\n",
      "First name: SHABEROONESA\n",
      "Last name:  SHAIK\n",
      "Country:  INDIA\n",
      "Age:  22\n",
      "Married:  False\n"
     ]
    }
   ],
   "source": [
    "first_name, last_name, country, age, is_married = 'SHABEROONESA', 'SHAIK', 'INDIA', 22, False\n",
    "\n",
    "print(first_name, last_name, country, age, is_married)\n",
    "print('First name:', first_name)\n",
    "print('Last name: ', last_name)\n",
    "print('Country: ', country)\n",
    "print('Age: ', age)\n",
    "print('Married: ', is_married)"
   ]
  },
  {
   "cell_type": "markdown",
   "id": "03a80413-d558-4965-a758-cec964a1b52b",
   "metadata": {
    "jp-MarkdownHeadingCollapsed": true
   },
   "source": [
    "## 20th June (Task-5 String.py)"
   ]
  },
  {
   "cell_type": "code",
   "execution_count": 166,
   "id": "2d18c5ae-a463-4ba1-88c6-57b689c970ec",
   "metadata": {},
   "outputs": [],
   "source": [
    "#Single line comment"
   ]
  },
  {
   "cell_type": "code",
   "execution_count": 168,
   "id": "f6c092a4-422f-4d51-93b1-83abeb903a89",
   "metadata": {},
   "outputs": [
    {
     "name": "stdout",
     "output_type": "stream",
     "text": [
      "P\n",
      "1\n",
      "Hello, World!\n",
      "13\n",
      "I hope you are enjoying 30 days of python challenge\n"
     ]
    }
   ],
   "source": [
    "letter = 'P'                # A string could be a single character or a bunch of texts\n",
    "print(letter)              \n",
    "print(len(letter))          \n",
    "greeting = 'Hello, World!'  # String could be  a single or double quote,\"Hello, World!\"\n",
    "print(greeting)             # Hello, World!\n",
    "print(len(greeting))        \n",
    "sentence = \"I hope you are enjoying 30 days of python challenge\"\n",
    "print(sentence)"
   ]
  },
  {
   "cell_type": "code",
   "execution_count": 169,
   "id": "3effe998-cbfe-4c9b-af37-7c9757f55ef2",
   "metadata": {},
   "outputs": [],
   "source": [
    "#Multiline string"
   ]
  },
  {
   "cell_type": "code",
   "execution_count": 171,
   "id": "daff4cd5-fa4f-43ab-aa46-82b45643b05e",
   "metadata": {},
   "outputs": [
    {
     "name": "stdout",
     "output_type": "stream",
     "text": [
      "I am a student and enjoys learning.\n",
      "That is why Im learning 6months of datascience.\n"
     ]
    }
   ],
   "source": [
    "multiline_string = '''I am a student and enjoys learning.\n",
    "That is why Im learning 6months of datascience.'''\n",
    "print(multiline_string)"
   ]
  },
  {
   "cell_type": "code",
   "execution_count": 172,
   "id": "37804224-8d15-42c3-a222-d9aaf589b141",
   "metadata": {},
   "outputs": [],
   "source": [
    "# Another way of doing the same thing"
   ]
  },
  {
   "cell_type": "code",
   "execution_count": 173,
   "id": "c5eb4ee1-dc69-4c2d-a7a6-d5ad4d2f9e1e",
   "metadata": {},
   "outputs": [
    {
     "name": "stdout",
     "output_type": "stream",
     "text": [
      "I am a student and enjoys learning.\n",
      "That is why Im learning 6months of datascience.\n"
     ]
    }
   ],
   "source": [
    "multiline_string = \"\"\"I am a student and enjoys learning.\n",
    "That is why Im learning 6months of datascience.\"\"\"\n",
    "print(multiline_string)"
   ]
  },
  {
   "cell_type": "code",
   "execution_count": 174,
   "id": "4912d4a2-964d-463d-8fff-5f3b3aab999a",
   "metadata": {},
   "outputs": [],
   "source": [
    "#string concatenation"
   ]
  },
  {
   "cell_type": "code",
   "execution_count": 175,
   "id": "d1208064-e460-4bb8-8a2a-fad5e91d6e81",
   "metadata": {},
   "outputs": [
    {
     "name": "stdout",
     "output_type": "stream",
     "text": [
      "Shaberoonesa Shaik\n"
     ]
    }
   ],
   "source": [
    "first_name = 'Shaberoonesa'\n",
    "last_name = 'Shaik'\n",
    "space = ' '\n",
    "full_name = first_name  +  space + last_name\n",
    "print(full_name) "
   ]
  },
  {
   "cell_type": "code",
   "execution_count": 176,
   "id": "15eceb12-8b19-45f2-814d-a4a1ac939fac",
   "metadata": {},
   "outputs": [],
   "source": [
    "# Checking length of a string using len() builtin function"
   ]
  },
  {
   "cell_type": "code",
   "execution_count": 177,
   "id": "f0457a78-f8e8-4a97-9521-fa34a340d0ee",
   "metadata": {},
   "outputs": [
    {
     "name": "stdout",
     "output_type": "stream",
     "text": [
      "12\n",
      "5\n",
      "True\n",
      "18\n"
     ]
    }
   ],
   "source": [
    "print(len(first_name))  \n",
    "print(len(last_name))   \n",
    "print(len(first_name) > len(last_name)) \n",
    "print(len(full_name)) "
   ]
  },
  {
   "cell_type": "code",
   "execution_count": 178,
   "id": "105e7b94-300e-4b51-b2a7-36103d12b085",
   "metadata": {},
   "outputs": [],
   "source": [
    "#Unpacking characters"
   ]
  },
  {
   "cell_type": "code",
   "execution_count": 179,
   "id": "34e61cba-1f12-4114-a9ec-09c5d344c158",
   "metadata": {},
   "outputs": [
    {
     "name": "stdout",
     "output_type": "stream",
     "text": [
      "P\n",
      "y\n",
      "t\n",
      "h\n",
      "o\n",
      "n\n"
     ]
    }
   ],
   "source": [
    "language = 'Python'\n",
    "a,b,c,d,e,f = language #unpacking sequence characters into variables\n",
    "print(a) \n",
    "print(b) \n",
    "print(c)  \n",
    "print(d) \n",
    "print(e) \n",
    "print(f)"
   ]
  },
  {
   "cell_type": "code",
   "execution_count": 180,
   "id": "1e9d19df-d31f-413f-a622-a0faf844487f",
   "metadata": {},
   "outputs": [],
   "source": [
    "#Accessing characters in string by index"
   ]
  },
  {
   "cell_type": "code",
   "execution_count": 181,
   "id": "531723d5-7550-4ec7-b040-6519886991d6",
   "metadata": {},
   "outputs": [
    {
     "name": "stdout",
     "output_type": "stream",
     "text": [
      "P\n",
      "y\n",
      "n\n"
     ]
    }
   ],
   "source": [
    "language = 'Python'\n",
    "first_letter = language[0]\n",
    "print(first_letter)\n",
    "second_letter = language[1]\n",
    "print(second_letter)\n",
    "last_index = len(language) - 1\n",
    "last_letter = language[last_index]\n",
    "print(last_letter)"
   ]
  },
  {
   "cell_type": "code",
   "execution_count": null,
   "id": "90570eed-7c80-498a-9139-0c52b9c3f842",
   "metadata": {},
   "outputs": [],
   "source": [
    "# If we want to start from right end we can use negative indexing. -1 is the last index"
   ]
  },
  {
   "cell_type": "code",
   "execution_count": 182,
   "id": "f1ea6c40-662a-4958-ad99-ee44ccdbb831",
   "metadata": {},
   "outputs": [
    {
     "name": "stdout",
     "output_type": "stream",
     "text": [
      "n\n",
      "o\n"
     ]
    }
   ],
   "source": [
    "language = 'Python'\n",
    "last_letter = language[-1]\n",
    "print(last_letter) \n",
    "second_last = language[-2]\n",
    "print(second_last) "
   ]
  },
  {
   "cell_type": "code",
   "execution_count": 183,
   "id": "e75b7f8f-0210-4f92-acae-ca06a4605370",
   "metadata": {},
   "outputs": [],
   "source": [
    "#Slicing"
   ]
  },
  {
   "cell_type": "code",
   "execution_count": 185,
   "id": "68e89cfe-8a74-4b55-be0c-d74c3b279a27",
   "metadata": {},
   "outputs": [
    {
     "name": "stdout",
     "output_type": "stream",
     "text": [
      "hon\n",
      "Pyt\n"
     ]
    }
   ],
   "source": [
    "language = 'Python'\n",
    "first_three = language[0:3] # starts at zero index and up to 3 but not include 3\n",
    "last_three = language[3:6]\n",
    "print(last_three) \n",
    "print(first_three)"
   ]
  },
  {
   "cell_type": "code",
   "execution_count": 186,
   "id": "01c32535-711b-4d16-85b9-aab23a660e39",
   "metadata": {},
   "outputs": [],
   "source": [
    "#Another way of slicing"
   ]
  },
  {
   "cell_type": "code",
   "execution_count": 187,
   "id": "eb3cdd64-60d5-4ddb-992d-3483634d1d93",
   "metadata": {},
   "outputs": [
    {
     "name": "stdout",
     "output_type": "stream",
     "text": [
      "hon\n",
      "hon\n"
     ]
    }
   ],
   "source": [
    "last_three = language[-3:]\n",
    "print(last_three)   \n",
    "last_three = language[3:]\n",
    "print(last_three)  "
   ]
  },
  {
   "cell_type": "code",
   "execution_count": 188,
   "id": "fd47a62b-6d31-449d-bf6d-cbd36fb5d4f5",
   "metadata": {},
   "outputs": [],
   "source": [
    "# Skipping character while splitting Python strings"
   ]
  },
  {
   "cell_type": "code",
   "execution_count": 189,
   "id": "aa31e631-e3aa-4bcc-9f50-cfccf5b42cfc",
   "metadata": {},
   "outputs": [
    {
     "name": "stdout",
     "output_type": "stream",
     "text": [
      "Pto\n"
     ]
    }
   ],
   "source": [
    "language = 'Python'\n",
    "pto = language[0:6:2] \n",
    "print(pto) "
   ]
  },
  {
   "cell_type": "code",
   "execution_count": 190,
   "id": "8dfc8c19-893e-49e9-87c7-34a46dd4f2f1",
   "metadata": {},
   "outputs": [],
   "source": [
    "#Escape sequence"
   ]
  },
  {
   "cell_type": "code",
   "execution_count": 193,
   "id": "a84b157c-25b4-4c76-8668-bd9b4b7d17c0",
   "metadata": {},
   "outputs": [
    {
     "name": "stdout",
     "output_type": "stream",
     "text": [
      "I hope every one enjoying the Data Science.\n",
      "Do you ?\n",
      "Days\tTopics\tExercises\n",
      "Day 1\t3\t5\n",
      "Day 2\t3\t5\n",
      "Day 3\t3\t5\n",
      "Day 4\t3\t5\n",
      "This is a back slash  symbol (\\)\n",
      "In every programming language it starts with \"Hello, World!\"\n"
     ]
    }
   ],
   "source": [
    "print('I hope every one enjoying the Data Science.\\nDo you ?') # line break\n",
    "print('Days\\tTopics\\tExercises')\n",
    "print('Day 1\\t3\\t5')\n",
    "print('Day 2\\t3\\t5')\n",
    "print('Day 3\\t3\\t5')\n",
    "print('Day 4\\t3\\t5')\n",
    "print('This is a back slash  symbol (\\\\)') # To write a back slash\n",
    "print('In every programming language it starts with \\\"Hello, World!\\\"')"
   ]
  },
  {
   "cell_type": "markdown",
   "id": "a4b329c8-e716-4112-8a00-985a4def1ee9",
   "metadata": {
    "jp-MarkdownHeadingCollapsed": true
   },
   "source": [
    "## python type casting or type conversion(June 21st) class"
   ]
  },
  {
   "cell_type": "code",
   "execution_count": 1,
   "id": "3183b703-ecb3-4717-9e45-7b9e4a94d970",
   "metadata": {},
   "outputs": [
    {
     "data": {
      "text/plain": [
       "2"
      ]
     },
     "execution_count": 1,
     "metadata": {},
     "output_type": "execute_result"
    }
   ],
   "source": [
    "int(2.3)"
   ]
  },
  {
   "cell_type": "code",
   "execution_count": 1,
   "id": "b49e5cd8-358c-4c6c-b3e4-fc9a703088f5",
   "metadata": {},
   "outputs": [
    {
     "ename": "TypeError",
     "evalue": "'float' object cannot be interpreted as an integer",
     "output_type": "error",
     "traceback": [
      "\u001b[1;31m---------------------------------------------------------------------------\u001b[0m",
      "\u001b[1;31mTypeError\u001b[0m                                 Traceback (most recent call last)",
      "Cell \u001b[1;32mIn[1], line 1\u001b[0m\n\u001b[1;32m----> 1\u001b[0m \u001b[38;5;28mint\u001b[39m(\u001b[38;5;241m2.3\u001b[39m, \u001b[38;5;241m4.5\u001b[39m)\n",
      "\u001b[1;31mTypeError\u001b[0m: 'float' object cannot be interpreted as an integer"
     ]
    }
   ],
   "source": [
    "int(2.3, 4.5)"
   ]
  },
  {
   "cell_type": "code",
   "execution_count": 2,
   "id": "a587b361-c75a-456c-93f5-7113115f5822",
   "metadata": {},
   "outputs": [
    {
     "data": {
      "text/plain": [
       "1"
      ]
     },
     "execution_count": 2,
     "metadata": {},
     "output_type": "execute_result"
    }
   ],
   "source": [
    "int(True)"
   ]
  },
  {
   "cell_type": "code",
   "execution_count": 3,
   "id": "86d63e96-a270-48ce-a1a1-770319c451e6",
   "metadata": {},
   "outputs": [
    {
     "data": {
      "text/plain": [
       "0"
      ]
     },
     "execution_count": 3,
     "metadata": {},
     "output_type": "execute_result"
    }
   ],
   "source": [
    "int(False)"
   ]
  },
  {
   "cell_type": "code",
   "execution_count": 4,
   "id": "05de1020-6e32-48e5-974a-eb1e773fa869",
   "metadata": {},
   "outputs": [
    {
     "ename": "TypeError",
     "evalue": "int() can't convert non-string with explicit base",
     "output_type": "error",
     "traceback": [
      "\u001b[1;31m---------------------------------------------------------------------------\u001b[0m",
      "\u001b[1;31mTypeError\u001b[0m                                 Traceback (most recent call last)",
      "Cell \u001b[1;32mIn[4], line 1\u001b[0m\n\u001b[1;32m----> 1\u001b[0m \u001b[38;5;28mint\u001b[39m(\u001b[38;5;28;01mTrue\u001b[39;00m,\u001b[38;5;28;01mFalse\u001b[39;00m)\n",
      "\u001b[1;31mTypeError\u001b[0m: int() can't convert non-string with explicit base"
     ]
    }
   ],
   "source": [
    "int(True,False)"
   ]
  },
  {
   "cell_type": "code",
   "execution_count": 5,
   "id": "dd9adf16-cb7e-47a5-9890-3605e8382ed8",
   "metadata": {},
   "outputs": [
    {
     "ename": "NameError",
     "evalue": "name 'true' is not defined",
     "output_type": "error",
     "traceback": [
      "\u001b[1;31m---------------------------------------------------------------------------\u001b[0m",
      "\u001b[1;31mNameError\u001b[0m                                 Traceback (most recent call last)",
      "Cell \u001b[1;32mIn[5], line 1\u001b[0m\n\u001b[1;32m----> 1\u001b[0m \u001b[38;5;28mint\u001b[39m(true)\n",
      "\u001b[1;31mNameError\u001b[0m: name 'true' is not defined"
     ]
    }
   ],
   "source": [
    "int(true)"
   ]
  },
  {
   "cell_type": "code",
   "execution_count": 6,
   "id": "7fa9bd1e-2dac-499a-a2ea-50836580438c",
   "metadata": {},
   "outputs": [
    {
     "name": "stdout",
     "output_type": "stream",
     "text": [
      "2\n"
     ]
    }
   ],
   "source": [
    "print(int(2.3))"
   ]
  },
  {
   "cell_type": "code",
   "execution_count": 9,
   "id": "48071bcd-6d5f-4467-bb95-60b23b8bfc88",
   "metadata": {},
   "outputs": [
    {
     "name": "stdout",
     "output_type": "stream",
     "text": [
      "1\n"
     ]
    }
   ],
   "source": [
    "print(int(True))"
   ]
  },
  {
   "cell_type": "code",
   "execution_count": 2,
   "id": "78e27899-6ac6-4816-ad47-41e7db380ec3",
   "metadata": {},
   "outputs": [
    {
     "name": "stdout",
     "output_type": "stream",
     "text": [
      "10\n"
     ]
    }
   ],
   "source": [
    "print(int('10'))"
   ]
  },
  {
   "cell_type": "code",
   "execution_count": 11,
   "id": "71f5a8d3-ec1b-4f35-a397-d43e8f3ded80",
   "metadata": {},
   "outputs": [
    {
     "ename": "TypeError",
     "evalue": "int() argument must be a string, a bytes-like object or a real number, not 'complex'",
     "output_type": "error",
     "traceback": [
      "\u001b[1;31m---------------------------------------------------------------------------\u001b[0m",
      "\u001b[1;31mTypeError\u001b[0m                                 Traceback (most recent call last)",
      "Cell \u001b[1;32mIn[11], line 1\u001b[0m\n\u001b[1;32m----> 1\u001b[0m \u001b[38;5;28mprint\u001b[39m(\u001b[38;5;28mint\u001b[39m(\u001b[38;5;241m1\u001b[39m\u001b[38;5;241m+\u001b[39m\u001b[38;5;241m2\u001b[39mj))\n",
      "\u001b[1;31mTypeError\u001b[0m: int() argument must be a string, a bytes-like object or a real number, not 'complex'"
     ]
    }
   ],
   "source": [
    "print(int(1+2j))"
   ]
  },
  {
   "cell_type": "code",
   "execution_count": 3,
   "id": "488ab230-f360-4ae2-96ae-d0c1c7d08ec3",
   "metadata": {},
   "outputs": [
    {
     "data": {
      "text/plain": [
       "1"
      ]
     },
     "execution_count": 3,
     "metadata": {},
     "output_type": "execute_result"
    }
   ],
   "source": [
    "int('1')"
   ]
  },
  {
   "cell_type": "code",
   "execution_count": 4,
   "id": "57d8c3d6-4c79-4006-95d5-0565afdbfb42",
   "metadata": {},
   "outputs": [
    {
     "name": "stdout",
     "output_type": "stream",
     "text": [
      "2.0\n"
     ]
    }
   ],
   "source": [
    "print(float(2))"
   ]
  },
  {
   "cell_type": "code",
   "execution_count": 5,
   "id": "b66e2f28-c203-4ac9-b7ee-32b3e710035d",
   "metadata": {},
   "outputs": [
    {
     "name": "stdout",
     "output_type": "stream",
     "text": [
      "0.0\n"
     ]
    }
   ],
   "source": [
    "print(float(False))"
   ]
  },
  {
   "cell_type": "code",
   "execution_count": 6,
   "id": "38557d15-b2d4-4498-bd51-f38a5a50abdb",
   "metadata": {},
   "outputs": [
    {
     "ename": "TypeError",
     "evalue": "float() argument must be a string or a real number, not 'complex'",
     "output_type": "error",
     "traceback": [
      "\u001b[1;31m---------------------------------------------------------------------------\u001b[0m",
      "\u001b[1;31mTypeError\u001b[0m                                 Traceback (most recent call last)",
      "Cell \u001b[1;32mIn[6], line 1\u001b[0m\n\u001b[1;32m----> 1\u001b[0m \u001b[38;5;28mprint\u001b[39m(\u001b[38;5;28mfloat\u001b[39m(\u001b[38;5;241m2\u001b[39m\u001b[38;5;241m+\u001b[39m\u001b[38;5;241m3\u001b[39mj))\n",
      "\u001b[1;31mTypeError\u001b[0m: float() argument must be a string or a real number, not 'complex'"
     ]
    }
   ],
   "source": [
    "print(float(2+3j))"
   ]
  },
  {
   "cell_type": "code",
   "execution_count": 12,
   "id": "eef6f983-dd0d-4901-9bd0-016f8dff865e",
   "metadata": {},
   "outputs": [
    {
     "name": "stdout",
     "output_type": "stream",
     "text": [
      "2.0\n"
     ]
    }
   ],
   "source": [
    "print(float('2'))"
   ]
  },
  {
   "cell_type": "code",
   "execution_count": 30,
   "id": "5aae5bee-307a-42a9-a19e-32e87e2da213",
   "metadata": {},
   "outputs": [],
   "source": [
    "#complex"
   ]
  },
  {
   "cell_type": "code",
   "execution_count": 14,
   "id": "2d0e9820-3456-41b9-8f27-50145aaa2d40",
   "metadata": {},
   "outputs": [
    {
     "data": {
      "text/plain": [
       "(10+0j)"
      ]
     },
     "execution_count": 14,
     "metadata": {},
     "output_type": "execute_result"
    }
   ],
   "source": [
    "complex(10)"
   ]
  },
  {
   "cell_type": "code",
   "execution_count": 15,
   "id": "b5bec2b3-72ef-40e4-9476-c9dd69ed3f8a",
   "metadata": {},
   "outputs": [
    {
     "data": {
      "text/plain": [
       "(10+20j)"
      ]
     },
     "execution_count": 15,
     "metadata": {},
     "output_type": "execute_result"
    }
   ],
   "source": [
    "complex(10,20)"
   ]
  },
  {
   "cell_type": "code",
   "execution_count": 16,
   "id": "d67a62bb-cb97-4bb4-9575-331a3c90093f",
   "metadata": {},
   "outputs": [
    {
     "ename": "TypeError",
     "evalue": "complex() takes at most 2 arguments (3 given)",
     "output_type": "error",
     "traceback": [
      "\u001b[1;31m---------------------------------------------------------------------------\u001b[0m",
      "\u001b[1;31mTypeError\u001b[0m                                 Traceback (most recent call last)",
      "Cell \u001b[1;32mIn[16], line 1\u001b[0m\n\u001b[1;32m----> 1\u001b[0m \u001b[38;5;28mcomplex\u001b[39m(\u001b[38;5;241m10\u001b[39m,\u001b[38;5;241m20\u001b[39m,\u001b[38;5;241m30\u001b[39m)\n",
      "\u001b[1;31mTypeError\u001b[0m: complex() takes at most 2 arguments (3 given)"
     ]
    }
   ],
   "source": [
    "complex(10,20,30)"
   ]
  },
  {
   "cell_type": "code",
   "execution_count": 19,
   "id": "21356e67-ec16-4ba3-ac77-601b645a8571",
   "metadata": {},
   "outputs": [
    {
     "data": {
      "text/plain": [
       "(2.3+5.6j)"
      ]
     },
     "execution_count": 19,
     "metadata": {},
     "output_type": "execute_result"
    }
   ],
   "source": [
    "complex(2.3,5.6)"
   ]
  },
  {
   "cell_type": "code",
   "execution_count": 20,
   "id": "a9a83a91-4f69-4f36-8862-bb621ef0cdab",
   "metadata": {},
   "outputs": [
    {
     "data": {
      "text/plain": [
       "(2.3+5j)"
      ]
     },
     "execution_count": 20,
     "metadata": {},
     "output_type": "execute_result"
    }
   ],
   "source": [
    "complex(2.3,5)"
   ]
  },
  {
   "cell_type": "code",
   "execution_count": 21,
   "id": "81da5168-63a9-4053-910c-c429534a043f",
   "metadata": {},
   "outputs": [
    {
     "data": {
      "text/plain": [
       "(5+2.3j)"
      ]
     },
     "execution_count": 21,
     "metadata": {},
     "output_type": "execute_result"
    }
   ],
   "source": [
    "complex(5,2.3)"
   ]
  },
  {
   "cell_type": "code",
   "execution_count": 22,
   "id": "a97b98c2-a5a8-4fb0-b95f-117fdefdbdae",
   "metadata": {},
   "outputs": [
    {
     "data": {
      "text/plain": [
       "0j"
      ]
     },
     "execution_count": 22,
     "metadata": {},
     "output_type": "execute_result"
    }
   ],
   "source": [
    "complex(False,False)"
   ]
  },
  {
   "cell_type": "code",
   "execution_count": 26,
   "id": "553f7a16-0ede-472a-b56a-7450e4455ffc",
   "metadata": {},
   "outputs": [
    {
     "ename": "TypeError",
     "evalue": "complex() second arg can't be a string",
     "output_type": "error",
     "traceback": [
      "\u001b[1;31m---------------------------------------------------------------------------\u001b[0m",
      "\u001b[1;31mTypeError\u001b[0m                                 Traceback (most recent call last)",
      "Cell \u001b[1;32mIn[26], line 1\u001b[0m\n\u001b[1;32m----> 1\u001b[0m \u001b[38;5;28mcomplex\u001b[39m(\u001b[38;5;241m1\u001b[39m,\u001b[38;5;124m'\u001b[39m\u001b[38;5;124m23\u001b[39m\u001b[38;5;124m'\u001b[39m)\n",
      "\u001b[1;31mTypeError\u001b[0m: complex() second arg can't be a string"
     ]
    }
   ],
   "source": [
    "complex(1,'23')"
   ]
  },
  {
   "cell_type": "code",
   "execution_count": 27,
   "id": "5a5b5bb2-3cdd-4ad3-87cd-de1716ef531b",
   "metadata": {},
   "outputs": [
    {
     "ename": "TypeError",
     "evalue": "complex() can't take second arg if first is a string",
     "output_type": "error",
     "traceback": [
      "\u001b[1;31m---------------------------------------------------------------------------\u001b[0m",
      "\u001b[1;31mTypeError\u001b[0m                                 Traceback (most recent call last)",
      "Cell \u001b[1;32mIn[27], line 1\u001b[0m\n\u001b[1;32m----> 1\u001b[0m \u001b[38;5;28mcomplex\u001b[39m(\u001b[38;5;124m'\u001b[39m\u001b[38;5;124m23\u001b[39m\u001b[38;5;124m'\u001b[39m,\u001b[38;5;241m1\u001b[39m)\n",
      "\u001b[1;31mTypeError\u001b[0m: complex() can't take second arg if first is a string"
     ]
    }
   ],
   "source": [
    "complex('23',1)"
   ]
  },
  {
   "cell_type": "code",
   "execution_count": 29,
   "id": "13124f63-558b-465a-a6b4-f3d83f66e288",
   "metadata": {},
   "outputs": [
    {
     "data": {
      "text/plain": [
       "(1+0j)"
      ]
     },
     "execution_count": 29,
     "metadata": {},
     "output_type": "execute_result"
    }
   ],
   "source": [
    "complex('1')"
   ]
  },
  {
   "cell_type": "code",
   "execution_count": 31,
   "id": "9e538ed8-e0c4-4885-8517-2e671b3ea69a",
   "metadata": {},
   "outputs": [],
   "source": [
    "#Boolean"
   ]
  },
  {
   "cell_type": "code",
   "execution_count": 32,
   "id": "1d2417fe-2eb2-49ce-9907-df9847e45313",
   "metadata": {},
   "outputs": [
    {
     "name": "stdout",
     "output_type": "stream",
     "text": [
      "True\n"
     ]
    }
   ],
   "source": [
    "print(bool(1))"
   ]
  },
  {
   "cell_type": "code",
   "execution_count": 7,
   "id": "c5b12af3-a753-4556-bbed-21ac741d1547",
   "metadata": {},
   "outputs": [
    {
     "name": "stdout",
     "output_type": "stream",
     "text": [
      "True\n",
      "True\n",
      "True\n",
      "True\n"
     ]
    }
   ],
   "source": [
    "print(bool(1))\n",
    "print(bool(1.1))\n",
    "print(bool(1+2j))\n",
    "print(bool('nit'))"
   ]
  },
  {
   "cell_type": "code",
   "execution_count": 8,
   "id": "07c8cd6c-37b1-4ed2-ab3c-b85c5fff3221",
   "metadata": {},
   "outputs": [
    {
     "data": {
      "text/plain": [
       "False"
      ]
     },
     "execution_count": 8,
     "metadata": {},
     "output_type": "execute_result"
    }
   ],
   "source": [
    "bool()"
   ]
  },
  {
   "cell_type": "code",
   "execution_count": 35,
   "id": "0740e748-e616-4451-bad4-3eac38c30f3a",
   "metadata": {},
   "outputs": [
    {
     "data": {
      "text/plain": [
       "True"
      ]
     },
     "execution_count": 35,
     "metadata": {},
     "output_type": "execute_result"
    }
   ],
   "source": [
    "bool(' ')"
   ]
  },
  {
   "cell_type": "code",
   "execution_count": 36,
   "id": "67f93c13-bb60-4346-888f-c1f81851efcf",
   "metadata": {},
   "outputs": [
    {
     "data": {
      "text/plain": [
       "False"
      ]
     },
     "execution_count": 36,
     "metadata": {},
     "output_type": "execute_result"
    }
   ],
   "source": [
    "bool()"
   ]
  },
  {
   "cell_type": "code",
   "execution_count": 37,
   "id": "8f4ec86a-7535-45dc-86a8-e2b9d7112895",
   "metadata": {},
   "outputs": [],
   "source": [
    "#String"
   ]
  },
  {
   "cell_type": "code",
   "execution_count": 38,
   "id": "aec91a19-08b2-41d9-8a20-656c94294885",
   "metadata": {},
   "outputs": [
    {
     "data": {
      "text/plain": [
       "'2'"
      ]
     },
     "execution_count": 38,
     "metadata": {},
     "output_type": "execute_result"
    }
   ],
   "source": [
    "str(2)"
   ]
  },
  {
   "cell_type": "code",
   "execution_count": 40,
   "id": "dbb88856-3f43-4f57-981b-c7e8ce66d4f9",
   "metadata": {},
   "outputs": [
    {
     "data": {
      "text/plain": [
       "'2.2'"
      ]
     },
     "execution_count": 40,
     "metadata": {},
     "output_type": "execute_result"
    }
   ],
   "source": [
    "str(2.2)"
   ]
  },
  {
   "cell_type": "code",
   "execution_count": 41,
   "id": "5c7d104a-eb51-4316-9765-0cad16dd8f9c",
   "metadata": {},
   "outputs": [
    {
     "data": {
      "text/plain": [
       "'True'"
      ]
     },
     "execution_count": 41,
     "metadata": {},
     "output_type": "execute_result"
    }
   ],
   "source": [
    "str(True)"
   ]
  },
  {
   "cell_type": "code",
   "execution_count": 42,
   "id": "864ac82d-19f7-4006-ab66-088a33ebcc87",
   "metadata": {},
   "outputs": [
    {
     "data": {
      "text/plain": [
       "'(1+2j)'"
      ]
     },
     "execution_count": 42,
     "metadata": {},
     "output_type": "execute_result"
    }
   ],
   "source": [
    "str(1+2j)"
   ]
  },
  {
   "cell_type": "markdown",
   "id": "c969eb6a-0475-4723-bd8f-d5ced7b8e776",
   "metadata": {
    "jp-MarkdownHeadingCollapsed": true
   },
   "source": [
    "## python type casting(21st & 23rd June) class"
   ]
  },
  {
   "cell_type": "code",
   "execution_count": 9,
   "id": "4314e478-b2fb-4182-930b-6f6b7cc91ed4",
   "metadata": {},
   "outputs": [
    {
     "name": "stdout",
     "output_type": "stream",
     "text": [
      "7.7\n"
     ]
    }
   ],
   "source": [
    "a=7.7\n",
    "print(a)"
   ]
  },
  {
   "cell_type": "code",
   "execution_count": 1,
   "id": "0dee962f-eb3e-4897-b023-efd84f1134d3",
   "metadata": {},
   "outputs": [
    {
     "data": {
      "text/plain": [
       "'3.12.7 | packaged by Anaconda, Inc. | (main, Oct  4 2024, 13:17:27) [MSC v.1929 64 bit (AMD64)]'"
      ]
     },
     "execution_count": 1,
     "metadata": {},
     "output_type": "execute_result"
    }
   ],
   "source": [
    "import sys\n",
    "sys.version"
   ]
  },
  {
   "cell_type": "code",
   "execution_count": 2,
   "id": "396e70b4-5aa6-4a77-bba8-257b91107c7f",
   "metadata": {},
   "outputs": [],
   "source": [
    "#list datastructure"
   ]
  },
  {
   "cell_type": "code",
   "execution_count": 22,
   "id": "6f57dae7-59de-4ce9-a2c7-40bdb529ec0b",
   "metadata": {},
   "outputs": [
    {
     "data": {
      "text/plain": [
       "[]"
      ]
     },
     "execution_count": 22,
     "metadata": {},
     "output_type": "execute_result"
    }
   ],
   "source": [
    "l=[]\n",
    "l"
   ]
  },
  {
   "cell_type": "code",
   "execution_count": 23,
   "id": "ec1b0727-a7e5-4b73-90a6-bd6de19ba6ca",
   "metadata": {},
   "outputs": [
    {
     "data": {
      "text/plain": [
       "list"
      ]
     },
     "execution_count": 23,
     "metadata": {},
     "output_type": "execute_result"
    }
   ],
   "source": [
    "type(l)"
   ]
  },
  {
   "cell_type": "code",
   "execution_count": 24,
   "id": "b988c7f2-caf9-4bf1-9789-53903c4d0c4b",
   "metadata": {},
   "outputs": [
    {
     "name": "stdout",
     "output_type": "stream",
     "text": [
      "<class 'list'>\n"
     ]
    }
   ],
   "source": [
    "print(type(l))"
   ]
  },
  {
   "cell_type": "code",
   "execution_count": 25,
   "id": "e2aeaabb-87f5-41a0-9bce-722414cf9d1d",
   "metadata": {},
   "outputs": [
    {
     "data": {
      "text/plain": [
       "0"
      ]
     },
     "execution_count": 25,
     "metadata": {},
     "output_type": "execute_result"
    }
   ],
   "source": [
    "len(l)"
   ]
  },
  {
   "cell_type": "code",
   "execution_count": 26,
   "id": "1defc108-e6f7-4478-a51c-d6627ddfa4fd",
   "metadata": {},
   "outputs": [],
   "source": [
    "l.append(10)\n",
    "l.append(20)\n",
    "l.append(30)\n",
    "l.append(40)\n",
    "l.append(50)"
   ]
  },
  {
   "cell_type": "code",
   "execution_count": 27,
   "id": "20efda22-95be-421e-b7d0-05c5d0e8918c",
   "metadata": {},
   "outputs": [
    {
     "data": {
      "text/plain": [
       "[10, 20, 30, 40, 50]"
      ]
     },
     "execution_count": 27,
     "metadata": {},
     "output_type": "execute_result"
    }
   ],
   "source": [
    "l"
   ]
  },
  {
   "cell_type": "code",
   "execution_count": 28,
   "id": "bd0b4c30-4dda-45ea-90e7-12c52452e353",
   "metadata": {},
   "outputs": [],
   "source": [
    "l.append(10)"
   ]
  },
  {
   "cell_type": "code",
   "execution_count": 29,
   "id": "3c36587e-f581-4570-84c9-9bd6fa88bab4",
   "metadata": {},
   "outputs": [
    {
     "data": {
      "text/plain": [
       "[10, 20, 30, 40, 50, 10]"
      ]
     },
     "execution_count": 29,
     "metadata": {},
     "output_type": "execute_result"
    }
   ],
   "source": [
    "l"
   ]
  },
  {
   "cell_type": "markdown",
   "id": "152fa2df-4522-4b7a-a3b6-d3c4a8da941c",
   "metadata": {
    "jp-MarkdownHeadingCollapsed": true
   },
   "source": [
    "## 24th class (LIST)"
   ]
  },
  {
   "cell_type": "code",
   "execution_count": 30,
   "id": "2602c4c9-bf15-455d-a3fe-381f86706273",
   "metadata": {},
   "outputs": [],
   "source": [
    "l[-1]=-50"
   ]
  },
  {
   "cell_type": "code",
   "execution_count": 31,
   "id": "98b370be-4b92-40e7-a750-f5a8f828df8d",
   "metadata": {},
   "outputs": [
    {
     "data": {
      "text/plain": [
       "[10, 20, 30, 40, 50, -50]"
      ]
     },
     "execution_count": 31,
     "metadata": {},
     "output_type": "execute_result"
    }
   ],
   "source": [
    "l"
   ]
  },
  {
   "cell_type": "code",
   "execution_count": 32,
   "id": "a0070f19-9155-41b6-9c80-42fabf18723d",
   "metadata": {},
   "outputs": [],
   "source": [
    "l1=l.copy()"
   ]
  },
  {
   "cell_type": "code",
   "execution_count": 33,
   "id": "a2b350b0-0070-4d7b-8163-14e51cb87c82",
   "metadata": {},
   "outputs": [
    {
     "data": {
      "text/plain": [
       "[10, 20, 30, 40, 50, -50]"
      ]
     },
     "execution_count": 33,
     "metadata": {},
     "output_type": "execute_result"
    }
   ],
   "source": [
    "l1"
   ]
  },
  {
   "cell_type": "code",
   "execution_count": 35,
   "id": "b5bf03d0-275b-497f-8e61-a4336fc11a7a",
   "metadata": {},
   "outputs": [
    {
     "name": "stdout",
     "output_type": "stream",
     "text": [
      "[10, 20, 30, 40, 50, -50]\n",
      "[10, 20, 30, 40, 50, -50]\n"
     ]
    }
   ],
   "source": [
    "print(l)\n",
    "print(l1)"
   ]
  },
  {
   "cell_type": "code",
   "execution_count": 36,
   "id": "f62a9b9c-9950-4a91-bc00-0cad88ace8de",
   "metadata": {},
   "outputs": [
    {
     "data": {
      "text/plain": [
       "True"
      ]
     },
     "execution_count": 36,
     "metadata": {},
     "output_type": "execute_result"
    }
   ],
   "source": [
    "l==l1"
   ]
  },
  {
   "cell_type": "code",
   "execution_count": 37,
   "id": "984c58e4-82fc-4dff-ac78-978cd17a4c3d",
   "metadata": {},
   "outputs": [
    {
     "data": {
      "text/plain": [
       "False"
      ]
     },
     "execution_count": 37,
     "metadata": {},
     "output_type": "execute_result"
    }
   ],
   "source": [
    "id(l)== id(l1)"
   ]
  },
  {
   "cell_type": "code",
   "execution_count": 39,
   "id": "b1185220-4b91-4686-b12b-20d43e773fb2",
   "metadata": {},
   "outputs": [
    {
     "data": {
      "text/plain": [
       "True"
      ]
     },
     "execution_count": 39,
     "metadata": {},
     "output_type": "execute_result"
    }
   ],
   "source": [
    "id(l) != id(l1)"
   ]
  },
  {
   "cell_type": "code",
   "execution_count": 40,
   "id": "8c7d11c4-3b5c-44a5-98be-55e95e5951e7",
   "metadata": {},
   "outputs": [
    {
     "data": {
      "text/plain": [
       "1"
      ]
     },
     "execution_count": 40,
     "metadata": {},
     "output_type": "execute_result"
    }
   ],
   "source": [
    "l.count(20)"
   ]
  },
  {
   "cell_type": "code",
   "execution_count": 41,
   "id": "88a2409e-1e7e-4c6c-b9b1-3e29cfe78e2a",
   "metadata": {},
   "outputs": [],
   "source": [
    "l.append(20)"
   ]
  },
  {
   "cell_type": "code",
   "execution_count": 42,
   "id": "12d2f47e-c4bb-43b0-a025-61c9c1805768",
   "metadata": {},
   "outputs": [
    {
     "data": {
      "text/plain": [
       "[10, 20, 30, 40, 50, -50, 20]"
      ]
     },
     "execution_count": 42,
     "metadata": {},
     "output_type": "execute_result"
    }
   ],
   "source": [
    "l"
   ]
  },
  {
   "cell_type": "code",
   "execution_count": 43,
   "id": "c39a397f-b3f1-4ee7-8290-15df672b8acc",
   "metadata": {},
   "outputs": [
    {
     "data": {
      "text/plain": [
       "2"
      ]
     },
     "execution_count": 43,
     "metadata": {},
     "output_type": "execute_result"
    }
   ],
   "source": [
    "l.count(20)"
   ]
  },
  {
   "cell_type": "code",
   "execution_count": 44,
   "id": "46f74fd5-b136-4fa0-a01b-7ecb00f0d82c",
   "metadata": {},
   "outputs": [
    {
     "data": {
      "text/plain": [
       "[10, 20, 30, 40, 50, -50]"
      ]
     },
     "execution_count": 44,
     "metadata": {},
     "output_type": "execute_result"
    }
   ],
   "source": [
    "l1"
   ]
  },
  {
   "cell_type": "code",
   "execution_count": 45,
   "id": "969800ae-462a-4fff-8711-f28df2a5ffe6",
   "metadata": {},
   "outputs": [],
   "source": [
    "l1.clear()"
   ]
  },
  {
   "cell_type": "code",
   "execution_count": 46,
   "id": "d699e71d-7b3d-46c9-8ea7-4c720beb056d",
   "metadata": {},
   "outputs": [
    {
     "data": {
      "text/plain": [
       "[]"
      ]
     },
     "execution_count": 46,
     "metadata": {},
     "output_type": "execute_result"
    }
   ],
   "source": [
    "l1"
   ]
  },
  {
   "cell_type": "code",
   "execution_count": 47,
   "id": "ff94ad8a-a42b-4e64-ae4a-375c1dd01127",
   "metadata": {},
   "outputs": [],
   "source": [
    "l2=[]"
   ]
  },
  {
   "cell_type": "code",
   "execution_count": 48,
   "id": "99438209-df3d-48d2-ae19-6fbb7a0029b8",
   "metadata": {},
   "outputs": [],
   "source": [
    "l2.append(9)\n",
    "l2.append('nit')\n",
    "l2.append(True)\n",
    "l2.append(1+2j)\n",
    "l2.append(9.3)"
   ]
  },
  {
   "cell_type": "code",
   "execution_count": 49,
   "id": "99b02fff-9c49-4664-8785-a4357ff2fb70",
   "metadata": {},
   "outputs": [
    {
     "name": "stdout",
     "output_type": "stream",
     "text": [
      "[10, 20, 30, 40, 50, -50, 20]\n",
      "[9, 'nit', True, (1+2j), 9.3]\n"
     ]
    }
   ],
   "source": [
    "print(l)\n",
    "print(l2)"
   ]
  },
  {
   "cell_type": "code",
   "execution_count": 50,
   "id": "b8dbfa34-5407-4d4e-bb20-6cc033191db4",
   "metadata": {},
   "outputs": [
    {
     "data": {
      "text/plain": [
       "[10, 20, 30, 40, 50, -50, 20]"
      ]
     },
     "execution_count": 50,
     "metadata": {},
     "output_type": "execute_result"
    }
   ],
   "source": [
    "l"
   ]
  },
  {
   "cell_type": "code",
   "execution_count": 51,
   "id": "863e86af-897b-42c1-a0f2-06cc63227d24",
   "metadata": {},
   "outputs": [
    {
     "data": {
      "text/plain": [
       "1"
      ]
     },
     "execution_count": 51,
     "metadata": {},
     "output_type": "execute_result"
    }
   ],
   "source": [
    "l.index(20)"
   ]
  },
  {
   "cell_type": "code",
   "execution_count": 52,
   "id": "e464c951-e25c-4f92-ad31-e9220f06ca00",
   "metadata": {},
   "outputs": [
    {
     "data": {
      "text/plain": [
       "3"
      ]
     },
     "execution_count": 52,
     "metadata": {},
     "output_type": "execute_result"
    }
   ],
   "source": [
    "l.index(40)"
   ]
  },
  {
   "cell_type": "code",
   "execution_count": 53,
   "id": "2fdc3ad7-6072-44a4-b0df-c5eef5bf5e2b",
   "metadata": {},
   "outputs": [
    {
     "data": {
      "text/plain": [
       "'nit'"
      ]
     },
     "execution_count": 53,
     "metadata": {},
     "output_type": "execute_result"
    }
   ],
   "source": [
    "l2[1]"
   ]
  },
  {
   "cell_type": "code",
   "execution_count": 54,
   "id": "f7aac33a-35d0-4996-a08c-549bd444d64f",
   "metadata": {},
   "outputs": [
    {
     "data": {
      "text/plain": [
       "[9, 'nit', True, (1+2j), 9.3]"
      ]
     },
     "execution_count": 54,
     "metadata": {},
     "output_type": "execute_result"
    }
   ],
   "source": [
    "l2"
   ]
  },
  {
   "cell_type": "code",
   "execution_count": 55,
   "id": "2e46ee19-c88b-45ec-80fd-3d94215d5804",
   "metadata": {},
   "outputs": [
    {
     "data": {
      "text/plain": [
       "'n'"
      ]
     },
     "execution_count": 55,
     "metadata": {},
     "output_type": "execute_result"
    }
   ],
   "source": [
    "l2[1][0]"
   ]
  },
  {
   "cell_type": "code",
   "execution_count": 57,
   "id": "ff37a5be-cd7c-473a-b76b-bd0bed986ef3",
   "metadata": {},
   "outputs": [
    {
     "name": "stdout",
     "output_type": "stream",
     "text": [
      "n\n",
      "i\n",
      "t\n"
     ]
    }
   ],
   "source": [
    "print(l2[1][0])\n",
    "print(l2[1][1])\n",
    "print(l2[1][2])"
   ]
  },
  {
   "cell_type": "code",
   "execution_count": 58,
   "id": "25075b15-b8de-482d-b2c1-13e9dfddf197",
   "metadata": {},
   "outputs": [
    {
     "data": {
      "text/plain": [
       "[10, 20, 30, 40, 50, -50, 20]"
      ]
     },
     "execution_count": 58,
     "metadata": {},
     "output_type": "execute_result"
    }
   ],
   "source": [
    "l"
   ]
  },
  {
   "cell_type": "code",
   "execution_count": 59,
   "id": "3ec98a98-5b45-4349-8e43-55a75bf4ca24",
   "metadata": {},
   "outputs": [
    {
     "data": {
      "text/plain": [
       "[10, 20, 30, 40, 50, -50, 20]"
      ]
     },
     "execution_count": 59,
     "metadata": {},
     "output_type": "execute_result"
    }
   ],
   "source": [
    "l[:]"
   ]
  },
  {
   "cell_type": "code",
   "execution_count": 60,
   "id": "1525d71d-b5e9-46ba-bed0-8bb1c5c9c45b",
   "metadata": {},
   "outputs": [
    {
     "data": {
      "text/plain": [
       "[40, 50, -50, 20]"
      ]
     },
     "execution_count": 60,
     "metadata": {},
     "output_type": "execute_result"
    }
   ],
   "source": [
    "l[3:]"
   ]
  },
  {
   "cell_type": "code",
   "execution_count": 61,
   "id": "88001464-53ca-4ede-899a-751950989e3b",
   "metadata": {},
   "outputs": [
    {
     "data": {
      "text/plain": [
       "[10, 20, 30, 40, 50, -50, 20]"
      ]
     },
     "execution_count": 61,
     "metadata": {},
     "output_type": "execute_result"
    }
   ],
   "source": [
    "l"
   ]
  },
  {
   "cell_type": "code",
   "execution_count": 62,
   "id": "6c3d6cf4-c70c-4390-8f9a-6aafd9c06fc5",
   "metadata": {},
   "outputs": [
    {
     "data": {
      "text/plain": [
       "[10, 20, 30, 40, 50, -50, 20]"
      ]
     },
     "execution_count": 62,
     "metadata": {},
     "output_type": "execute_result"
    }
   ],
   "source": [
    "l[:10]"
   ]
  },
  {
   "cell_type": "code",
   "execution_count": 63,
   "id": "787e7442-d7fc-4f88-a379-71d7d632d873",
   "metadata": {},
   "outputs": [
    {
     "data": {
      "text/plain": [
       "[10, 20, 30, 40, 50, -50, 20]"
      ]
     },
     "execution_count": 63,
     "metadata": {},
     "output_type": "execute_result"
    }
   ],
   "source": [
    "l"
   ]
  },
  {
   "cell_type": "code",
   "execution_count": 64,
   "id": "f3f8593d-aa85-4d28-a56c-b787b28a95d2",
   "metadata": {},
   "outputs": [
    {
     "data": {
      "text/plain": [
       "[10, 40, 20]"
      ]
     },
     "execution_count": 64,
     "metadata": {},
     "output_type": "execute_result"
    }
   ],
   "source": [
    "l[0:8:3] #step slicing"
   ]
  },
  {
   "cell_type": "code",
   "execution_count": 65,
   "id": "1d9b7e18-b0dc-4675-88c4-0769043d9435",
   "metadata": {},
   "outputs": [
    {
     "data": {
      "text/plain": [
       "[9, 'nit', True, (1+2j), 9.3]"
      ]
     },
     "execution_count": 65,
     "metadata": {},
     "output_type": "execute_result"
    }
   ],
   "source": [
    "l2"
   ]
  },
  {
   "cell_type": "code",
   "execution_count": 66,
   "id": "53749fc7-9e55-4052-ba98-945c94a45c1b",
   "metadata": {},
   "outputs": [
    {
     "data": {
      "text/plain": [
       "['nit', (1+2j)]"
      ]
     },
     "execution_count": 66,
     "metadata": {},
     "output_type": "execute_result"
    }
   ],
   "source": [
    "l2[1:6:2]"
   ]
  },
  {
   "cell_type": "code",
   "execution_count": 67,
   "id": "6947c450-50bc-4d69-bba9-7a1528304a71",
   "metadata": {},
   "outputs": [
    {
     "data": {
      "text/plain": [
       "[10, 20, 30, 40, 50, -50, 20]"
      ]
     },
     "execution_count": 67,
     "metadata": {},
     "output_type": "execute_result"
    }
   ],
   "source": [
    "l"
   ]
  },
  {
   "cell_type": "code",
   "execution_count": 68,
   "id": "1710df2c-9821-430e-9742-90e628cd0a89",
   "metadata": {},
   "outputs": [],
   "source": [
    "l.insert(2,15)   #2 insert position and 15 is called value"
   ]
  },
  {
   "cell_type": "code",
   "execution_count": 69,
   "id": "dc0c9424-aa17-43b7-a9b2-675b7cdcb1ba",
   "metadata": {},
   "outputs": [
    {
     "data": {
      "text/plain": [
       "[10, 20, 15, 30, 40, 50, -50, 20]"
      ]
     },
     "execution_count": 69,
     "metadata": {},
     "output_type": "execute_result"
    }
   ],
   "source": [
    "l"
   ]
  },
  {
   "cell_type": "code",
   "execution_count": 70,
   "id": "18037ccb-5351-417d-b4a4-0d47c22418de",
   "metadata": {},
   "outputs": [
    {
     "data": {
      "text/plain": [
       "20"
      ]
     },
     "execution_count": 70,
     "metadata": {},
     "output_type": "execute_result"
    }
   ],
   "source": [
    "l.pop()"
   ]
  },
  {
   "cell_type": "code",
   "execution_count": 71,
   "id": "26473757-5ffa-453a-87fa-e0f12ea3a48a",
   "metadata": {},
   "outputs": [
    {
     "data": {
      "text/plain": [
       "[10, 20, 15, 30, 40, 50, -50]"
      ]
     },
     "execution_count": 71,
     "metadata": {},
     "output_type": "execute_result"
    }
   ],
   "source": [
    "l"
   ]
  },
  {
   "cell_type": "code",
   "execution_count": 72,
   "id": "ed6c508b-a338-4256-a223-c18ce916d0f8",
   "metadata": {},
   "outputs": [
    {
     "data": {
      "text/plain": [
       "-50"
      ]
     },
     "execution_count": 72,
     "metadata": {},
     "output_type": "execute_result"
    }
   ],
   "source": [
    "l.pop()"
   ]
  },
  {
   "cell_type": "code",
   "execution_count": 73,
   "id": "3ca08d2d-6794-4573-a331-8c6c1ce232b7",
   "metadata": {},
   "outputs": [
    {
     "data": {
      "text/plain": [
       "[10, 20, 15, 30, 40, 50]"
      ]
     },
     "execution_count": 73,
     "metadata": {},
     "output_type": "execute_result"
    }
   ],
   "source": [
    "l"
   ]
  },
  {
   "cell_type": "code",
   "execution_count": 74,
   "id": "9cac0ea0-3647-4431-b125-72e8d42eb738",
   "metadata": {},
   "outputs": [
    {
     "data": {
      "text/plain": [
       "50"
      ]
     },
     "execution_count": 74,
     "metadata": {},
     "output_type": "execute_result"
    }
   ],
   "source": [
    "l.pop()"
   ]
  },
  {
   "cell_type": "code",
   "execution_count": 75,
   "id": "04abd2f9-855f-4ff9-a82a-1a08dff6ec54",
   "metadata": {},
   "outputs": [
    {
     "data": {
      "text/plain": [
       "[9, 'nit', True, (1+2j), 9.3]"
      ]
     },
     "execution_count": 75,
     "metadata": {},
     "output_type": "execute_result"
    }
   ],
   "source": [
    "l2"
   ]
  },
  {
   "cell_type": "code",
   "execution_count": 76,
   "id": "1d77df4e-0432-47b4-b282-8ab3dc7ae50b",
   "metadata": {},
   "outputs": [
    {
     "data": {
      "text/plain": [
       "(1+2j)"
      ]
     },
     "execution_count": 76,
     "metadata": {},
     "output_type": "execute_result"
    }
   ],
   "source": [
    "l2.pop(3)"
   ]
  },
  {
   "cell_type": "code",
   "execution_count": 77,
   "id": "a2f53ea3-67d1-4c60-9b92-760632a22fde",
   "metadata": {},
   "outputs": [
    {
     "data": {
      "text/plain": [
       "[9, 'nit', True, 9.3]"
      ]
     },
     "execution_count": 77,
     "metadata": {},
     "output_type": "execute_result"
    }
   ],
   "source": [
    "l2"
   ]
  },
  {
   "cell_type": "code",
   "execution_count": 78,
   "id": "3744f85a-f6cd-4227-98d7-3e8cf95888f1",
   "metadata": {},
   "outputs": [
    {
     "data": {
      "text/plain": [
       "[9, 'nit', True, 9.3]"
      ]
     },
     "execution_count": 78,
     "metadata": {},
     "output_type": "execute_result"
    }
   ],
   "source": [
    "l2"
   ]
  },
  {
   "cell_type": "code",
   "execution_count": 79,
   "id": "064bc325-81ca-4ce9-95b0-522e97c53669",
   "metadata": {},
   "outputs": [],
   "source": [
    "l2.remove('nit')"
   ]
  },
  {
   "cell_type": "code",
   "execution_count": 80,
   "id": "b7862af7-b54b-49aa-93f6-3a9178da1c97",
   "metadata": {},
   "outputs": [
    {
     "data": {
      "text/plain": [
       "[9, True, 9.3]"
      ]
     },
     "execution_count": 80,
     "metadata": {},
     "output_type": "execute_result"
    }
   ],
   "source": [
    "l2"
   ]
  },
  {
   "cell_type": "markdown",
   "id": "c45ae3cd-2e29-41ae-a84b-29a4a8e7a674",
   "metadata": {
    "jp-MarkdownHeadingCollapsed": true
   },
   "source": [
    "## 24th task(LSIT CODE)"
   ]
  },
  {
   "cell_type": "code",
   "execution_count": 1,
   "id": "5cefc9bb-d314-428b-9213-bf4d82dac5f4",
   "metadata": {},
   "outputs": [
    {
     "data": {
      "text/plain": [
       "'abc def ghi '"
      ]
     },
     "execution_count": 1,
     "metadata": {},
     "output_type": "execute_result"
    }
   ],
   "source": [
    "txt=\"  abc def ghi \"   #lstrip removes left side space\n",
    "txt.lstrip()"
   ]
  },
  {
   "cell_type": "code",
   "execution_count": 4,
   "id": "1eebd185-2f5d-4856-aaf9-73d00da94ee5",
   "metadata": {},
   "outputs": [
    {
     "data": {
      "text/plain": [
       "'  abc def ghi'"
      ]
     },
     "execution_count": 4,
     "metadata": {},
     "output_type": "execute_result"
    }
   ],
   "source": [
    "txt=\"  abc def ghi \"   #rstrip removes right side space\n",
    "txt.rstrip()"
   ]
  },
  {
   "cell_type": "code",
   "execution_count": 6,
   "id": "36a53d81-7b23-4272-9d12-9b853fd3100c",
   "metadata": {},
   "outputs": [
    {
     "data": {
      "text/plain": [
       "'abc def ghi'"
      ]
     },
     "execution_count": 6,
     "metadata": {},
     "output_type": "execute_result"
    }
   ],
   "source": [
    "txt=\" abc def ghi \"     #removes both side spaces of a string\n",
    "txt.strip()"
   ]
  },
  {
   "cell_type": "code",
   "execution_count": 7,
   "id": "3e155ebd-1601-44cf-9e4e-30984646ec22",
   "metadata": {},
   "outputs": [],
   "source": [
    "# Using Escape Character"
   ]
  },
  {
   "cell_type": "code",
   "execution_count": 8,
   "id": "577f56cd-cef3-4882-9af7-7f0e9b8fdfbf",
   "metadata": {},
   "outputs": [
    {
     "ename": "SyntaxError",
     "evalue": "invalid syntax (3647420416.py, line 1)",
     "output_type": "error",
     "traceback": [
      "\u001b[1;36m  Cell \u001b[1;32mIn[8], line 1\u001b[1;36m\u001b[0m\n\u001b[1;33m    mystr=\"My favourite TV Series is \"Doremon\"\"\u001b[0m\n\u001b[1;37m                                      ^\u001b[0m\n\u001b[1;31mSyntaxError\u001b[0m\u001b[1;31m:\u001b[0m invalid syntax\n"
     ]
    }
   ],
   "source": [
    "mystr=\"My favourite TV Series is \"Doremon\"\"  #got error due to double quotes in the string\n",
    "   #Using double quotes in the string is not allowed"
   ]
  },
  {
   "cell_type": "code",
   "execution_count": 9,
   "id": "41e542a5-aca7-436e-97d3-4d5bd4d4cb7d",
   "metadata": {},
   "outputs": [],
   "source": [
    "mystr=\"My favourite TV Series is Doremon\""
   ]
  },
  {
   "cell_type": "code",
   "execution_count": 10,
   "id": "2ba491b0-79af-4dcd-95d6-7a988c86c2cf",
   "metadata": {},
   "outputs": [
    {
     "data": {
      "text/plain": [
       "'My favourite TV Series is Doremon'"
      ]
     },
     "execution_count": 10,
     "metadata": {},
     "output_type": "execute_result"
    }
   ],
   "source": [
    "mystr"
   ]
  },
  {
   "cell_type": "code",
   "execution_count": 13,
   "id": "22c15371-5f8d-4b3c-b5b6-115c11e8ba5e",
   "metadata": {},
   "outputs": [],
   "source": [
    "mystr=\"My favourite TV Series is \\\"Doremon\\\"\" \n",
    "  # Using escape(\\) character to allow illegal characters"
   ]
  },
  {
   "cell_type": "code",
   "execution_count": 14,
   "id": "a6e62537-078d-441d-8ffb-5db061fa6220",
   "metadata": {},
   "outputs": [
    {
     "data": {
      "text/plain": [
       "'My favourite TV Series is \"Doremon\"'"
      ]
     },
     "execution_count": 14,
     "metadata": {},
     "output_type": "execute_result"
    }
   ],
   "source": [
    "mystr"
   ]
  },
  {
   "cell_type": "code",
   "execution_count": 16,
   "id": "75bf264a-bc0d-45c3-9ccd-a2f41399bc31",
   "metadata": {},
   "outputs": [],
   "source": [
    "##List is an ordered sequence of items\n",
    "##under a list wee can have different datatypes\n",
    "##for example we can have integer,string,float items in the same list"
   ]
  },
  {
   "cell_type": "code",
   "execution_count": 17,
   "id": "51f0d930-cd79-4c95-9d0d-863331954666",
   "metadata": {},
   "outputs": [],
   "source": [
    "## List creation"
   ]
  },
  {
   "cell_type": "code",
   "execution_count": 20,
   "id": "3117bccb-138c-4ecb-9bec-b44ed204f243",
   "metadata": {},
   "outputs": [],
   "source": [
    "list1=[]  #empty list"
   ]
  },
  {
   "cell_type": "code",
   "execution_count": 21,
   "id": "420a4460-1299-4831-a7e4-a0925a71feeb",
   "metadata": {},
   "outputs": [
    {
     "name": "stdout",
     "output_type": "stream",
     "text": [
      "<class 'list'>\n"
     ]
    }
   ],
   "source": [
    "print(type(list1))"
   ]
  },
  {
   "cell_type": "code",
   "execution_count": 1,
   "id": "16d642d3-3e20-446b-aade-c780d8d289b9",
   "metadata": {},
   "outputs": [],
   "source": [
    "list2=[10,30,60]  #list of integers"
   ]
  },
  {
   "cell_type": "code",
   "execution_count": 2,
   "id": "a52707c8-89f7-479f-aca2-958d04485e9d",
   "metadata": {},
   "outputs": [],
   "source": [
    "list3=[10.77,30.66,60.89]   #list of float numbers"
   ]
  },
  {
   "cell_type": "code",
   "execution_count": 4,
   "id": "258e15db-d4bc-459c-bbae-2415d554cd73",
   "metadata": {},
   "outputs": [],
   "source": [
    "list4=['one','two',\"three\"]   #list of strings"
   ]
  },
  {
   "cell_type": "code",
   "execution_count": 5,
   "id": "1561f863-76ff-4b50-b93b-1d1cdcc3cdb8",
   "metadata": {},
   "outputs": [],
   "source": [
    "list5=['Asif',25,[50,100],[150,90]]  #Nested lists"
   ]
  },
  {
   "cell_type": "code",
   "execution_count": 6,
   "id": "dd96f563-ed15-46aa-875d-c032c1a1996f",
   "metadata": {},
   "outputs": [],
   "source": [
    "list6=[100,'Asif',17.765]   #list of mixed data types"
   ]
  },
  {
   "cell_type": "code",
   "execution_count": 7,
   "id": "8d3cd1de-b194-4cf1-84e9-a2c503918a63",
   "metadata": {},
   "outputs": [],
   "source": [
    "list7=['Asif',25,[50,100],[150,90],{'John','David'}]"
   ]
  },
  {
   "cell_type": "code",
   "execution_count": 8,
   "id": "1ed26eb3-0025-4009-a6e5-f93d5cb9d67a",
   "metadata": {},
   "outputs": [
    {
     "data": {
      "text/plain": [
       "3"
      ]
     },
     "execution_count": 8,
     "metadata": {},
     "output_type": "execute_result"
    }
   ],
   "source": [
    "len(list6)   #length of list"
   ]
  },
  {
   "cell_type": "code",
   "execution_count": 9,
   "id": "5e934ac8-9c07-4428-baad-311cb4a5e1d8",
   "metadata": {},
   "outputs": [],
   "source": [
    "##List indexing (Forward nd backward indexing)"
   ]
  },
  {
   "cell_type": "code",
   "execution_count": 10,
   "id": "a2c4b207-f3bb-4058-ac66-82bd45efc41e",
   "metadata": {},
   "outputs": [
    {
     "data": {
      "text/plain": [
       "10"
      ]
     },
     "execution_count": 10,
     "metadata": {},
     "output_type": "execute_result"
    }
   ],
   "source": [
    "list2[0]   # Retreive first element of the list"
   ]
  },
  {
   "cell_type": "code",
   "execution_count": 11,
   "id": "1ec5347b-30c1-4ac4-86f1-0d3edb811f4d",
   "metadata": {},
   "outputs": [
    {
     "data": {
      "text/plain": [
       "'one'"
      ]
     },
     "execution_count": 11,
     "metadata": {},
     "output_type": "execute_result"
    }
   ],
   "source": [
    "list4[0]    # Retreive first element of the list"
   ]
  },
  {
   "cell_type": "code",
   "execution_count": 12,
   "id": "2dde905c-e281-42ae-9ee0-25fa82a15bb9",
   "metadata": {},
   "outputs": [
    {
     "data": {
      "text/plain": [
       "'o'"
      ]
     },
     "execution_count": 12,
     "metadata": {},
     "output_type": "execute_result"
    }
   ],
   "source": [
    "list4[0][0]   # Nested indexing - Access the first character of the first list element"
   ]
  },
  {
   "cell_type": "code",
   "execution_count": 13,
   "id": "a7b3ffaa-b8ee-4e72-8143-8b778fabf5a1",
   "metadata": {},
   "outputs": [
    {
     "data": {
      "text/plain": [
       "'three'"
      ]
     },
     "execution_count": 13,
     "metadata": {},
     "output_type": "execute_result"
    }
   ],
   "source": [
    "list4[-1]   # Last item of the list"
   ]
  },
  {
   "cell_type": "code",
   "execution_count": 14,
   "id": "66a57096-33fc-45d3-8895-ae097c738c89",
   "metadata": {},
   "outputs": [
    {
     "data": {
      "text/plain": [
       "[150, 90]"
      ]
     },
     "execution_count": 14,
     "metadata": {},
     "output_type": "execute_result"
    }
   ],
   "source": [
    "list5[-1]    # Last item of the list"
   ]
  },
  {
   "cell_type": "code",
   "execution_count": 15,
   "id": "c710854b-2f8c-4ead-9a9f-218c4b29a710",
   "metadata": {},
   "outputs": [],
   "source": [
    "## List Slicing"
   ]
  },
  {
   "cell_type": "code",
   "execution_count": 32,
   "id": "098a656a-30c0-4aeb-aa9f-66694f24c7be",
   "metadata": {},
   "outputs": [],
   "source": [
    "mylist=['one','two','three','four','five','six','seven','eight']"
   ]
  },
  {
   "cell_type": "code",
   "execution_count": 33,
   "id": "7085a2ea-0026-47e0-a83a-6338e398bd34",
   "metadata": {},
   "outputs": [
    {
     "data": {
      "text/plain": [
       "['one', 'two', 'three']"
      ]
     },
     "execution_count": 33,
     "metadata": {},
     "output_type": "execute_result"
    }
   ],
   "source": [
    "mylist[0:3]   # Return all items from 0th to 3rd index location excluding the item"
   ]
  },
  {
   "cell_type": "code",
   "execution_count": 34,
   "id": "5771c9fc-0df7-4318-bb23-479195f3e61b",
   "metadata": {},
   "outputs": [
    {
     "data": {
      "text/plain": [
       "['three', 'four', 'five']"
      ]
     },
     "execution_count": 34,
     "metadata": {},
     "output_type": "execute_result"
    }
   ],
   "source": [
    "mylist[2:5] # List all items from 2nd to 5th index location excluding the item a"
   ]
  },
  {
   "cell_type": "code",
   "execution_count": 35,
   "id": "ac426f15-c146-45a9-a634-9dbbf682f2e0",
   "metadata": {},
   "outputs": [
    {
     "data": {
      "text/plain": [
       "['one', 'two', 'three']"
      ]
     },
     "execution_count": 35,
     "metadata": {},
     "output_type": "execute_result"
    }
   ],
   "source": [
    "mylist[:3]  #return first three items"
   ]
  },
  {
   "cell_type": "code",
   "execution_count": 37,
   "id": "9f0de1b3-8191-4542-8b65-49b8f9c2c644",
   "metadata": {},
   "outputs": [
    {
     "data": {
      "text/plain": [
       "['one', 'two']"
      ]
     },
     "execution_count": 37,
     "metadata": {},
     "output_type": "execute_result"
    }
   ],
   "source": [
    "mylist[:2]  #return first two items"
   ]
  },
  {
   "cell_type": "code",
   "execution_count": 38,
   "id": "18efcae2-3d04-4130-ba3b-adb1b0c2e34b",
   "metadata": {},
   "outputs": [
    {
     "data": {
      "text/plain": [
       "['one', 'two', 'three', 'four', 'five']"
      ]
     },
     "execution_count": 38,
     "metadata": {},
     "output_type": "execute_result"
    }
   ],
   "source": [
    "mylist[:-3]  #return last three items"
   ]
  },
  {
   "cell_type": "code",
   "execution_count": 39,
   "id": "23b935b0-7962-44a2-b136-ef7d493bac85",
   "metadata": {},
   "outputs": [
    {
     "data": {
      "text/plain": [
       "['one', 'two', 'three', 'four', 'five', 'six']"
      ]
     },
     "execution_count": 39,
     "metadata": {},
     "output_type": "execute_result"
    }
   ],
   "source": [
    "mylist[:-2]  #return last two items"
   ]
  },
  {
   "cell_type": "code",
   "execution_count": 40,
   "id": "7cb074c7-7caa-4d48-98c3-83af846afe2d",
   "metadata": {},
   "outputs": [
    {
     "data": {
      "text/plain": [
       "'eight'"
      ]
     },
     "execution_count": 40,
     "metadata": {},
     "output_type": "execute_result"
    }
   ],
   "source": [
    "mylist[-1]  #return last item of the list"
   ]
  },
  {
   "cell_type": "code",
   "execution_count": 41,
   "id": "72fae3f7-65b4-4edd-a05a-1302e99c5201",
   "metadata": {},
   "outputs": [
    {
     "data": {
      "text/plain": [
       "['one', 'two', 'three', 'four', 'five', 'six', 'seven', 'eight']"
      ]
     },
     "execution_count": 41,
     "metadata": {},
     "output_type": "execute_result"
    }
   ],
   "source": [
    "mylist[:]  #return whole list"
   ]
  },
  {
   "cell_type": "code",
   "execution_count": 42,
   "id": "2c5aa2ad-4b52-47ad-b445-16e136a99b54",
   "metadata": {},
   "outputs": [],
   "source": [
    "## Add Remove & Change items"
   ]
  },
  {
   "cell_type": "code",
   "execution_count": 43,
   "id": "b8a99bcb-2ab5-40c0-a6ef-17692741f498",
   "metadata": {},
   "outputs": [
    {
     "data": {
      "text/plain": [
       "['one', 'two', 'three', 'four', 'five', 'six', 'seven', 'eight']"
      ]
     },
     "execution_count": 43,
     "metadata": {},
     "output_type": "execute_result"
    }
   ],
   "source": [
    "mylist"
   ]
  },
  {
   "cell_type": "code",
   "execution_count": 44,
   "id": "76a6efad-0833-49c0-9896-652500a17456",
   "metadata": {},
   "outputs": [
    {
     "data": {
      "text/plain": [
       "['one', 'two', 'three', 'four', 'five', 'six', 'seven', 'eight', 'nine']"
      ]
     },
     "execution_count": 44,
     "metadata": {},
     "output_type": "execute_result"
    }
   ],
   "source": [
    "mylist.append('nine')   #add an item to the end of the list\n",
    "mylist"
   ]
  },
  {
   "cell_type": "code",
   "execution_count": 45,
   "id": "fc03ed91-13c5-43bd-8427-c2a4348ce7cf",
   "metadata": {},
   "outputs": [
    {
     "data": {
      "text/plain": [
       "['one', 'two', 'three', 'four', 'five', 'six', 'seven', 'eight', 'nine', 'ten']"
      ]
     },
     "execution_count": 45,
     "metadata": {},
     "output_type": "execute_result"
    }
   ],
   "source": [
    "mylist.insert(9,'ten')  #add item at index location 9\n",
    "mylist"
   ]
  },
  {
   "cell_type": "code",
   "execution_count": 46,
   "id": "c62c07fc-29ec-453f-a881-7fbc2f6d9cef",
   "metadata": {},
   "outputs": [
    {
     "data": {
      "text/plain": [
       "['one',\n",
       " 'ONE',\n",
       " 'two',\n",
       " 'three',\n",
       " 'four',\n",
       " 'five',\n",
       " 'six',\n",
       " 'seven',\n",
       " 'eight',\n",
       " 'nine',\n",
       " 'ten']"
      ]
     },
     "execution_count": 46,
     "metadata": {},
     "output_type": "execute_result"
    }
   ],
   "source": [
    "mylist.insert(1,'ONE')  #add item at index location 1\n",
    "mylist"
   ]
  },
  {
   "cell_type": "code",
   "execution_count": 47,
   "id": "1db9604c-911e-41a8-9341-cb5130c18d15",
   "metadata": {},
   "outputs": [
    {
     "data": {
      "text/plain": [
       "['one', 'two', 'three', 'four', 'five', 'six', 'seven', 'eight', 'nine', 'ten']"
      ]
     },
     "execution_count": 47,
     "metadata": {},
     "output_type": "execute_result"
    }
   ],
   "source": [
    "mylist.remove('ONE')  #Remove item \"ONE\"\n",
    "mylist"
   ]
  },
  {
   "cell_type": "code",
   "execution_count": 48,
   "id": "b6450e5a-0e70-4a24-a02d-08ea7cec3b26",
   "metadata": {},
   "outputs": [
    {
     "data": {
      "text/plain": [
       "['one', 'two', 'three', 'four', 'five', 'six', 'seven', 'eight', 'nine']"
      ]
     },
     "execution_count": 48,
     "metadata": {},
     "output_type": "execute_result"
    }
   ],
   "source": [
    "mylist.pop() #remove last item of the list\n",
    "mylist"
   ]
  },
  {
   "cell_type": "code",
   "execution_count": 49,
   "id": "0269690e-d449-4d64-a978-d9f369df1189",
   "metadata": {},
   "outputs": [
    {
     "data": {
      "text/plain": [
       "['one', 'two', 'three', 'four', 'five', 'six', 'seven', 'eight']"
      ]
     },
     "execution_count": 49,
     "metadata": {},
     "output_type": "execute_result"
    }
   ],
   "source": [
    "mylist.pop(8)   #Remove item at index location 8\n",
    "mylist"
   ]
  },
  {
   "cell_type": "code",
   "execution_count": 50,
   "id": "d71abc2b-a1b6-4e0c-b0e4-953e20273736",
   "metadata": {},
   "outputs": [
    {
     "data": {
      "text/plain": [
       "['one', 'two', 'three', 'four', 'five', 'six', 'seven']"
      ]
     },
     "execution_count": 50,
     "metadata": {},
     "output_type": "execute_result"
    }
   ],
   "source": [
    "del mylist[7]  #Remove item at index location 7\n",
    "mylist"
   ]
  },
  {
   "cell_type": "code",
   "execution_count": 51,
   "id": "5be74ba0-c820-4693-b64f-90a77b2c3d0e",
   "metadata": {},
   "outputs": [
    {
     "data": {
      "text/plain": [
       "[1, 2, 3, 'four', 'five', 'six', 'seven']"
      ]
     },
     "execution_count": 51,
     "metadata": {},
     "output_type": "execute_result"
    }
   ],
   "source": [
    "#change value of the string\n",
    "mylist[0]=1\n",
    "mylist[1]=2\n",
    "mylist[2]=3\n",
    "mylist"
   ]
  },
  {
   "cell_type": "code",
   "execution_count": 52,
   "id": "02e1653a-7a2e-45de-886c-43e835432067",
   "metadata": {},
   "outputs": [
    {
     "data": {
      "text/plain": [
       "[]"
      ]
     },
     "execution_count": 52,
     "metadata": {},
     "output_type": "execute_result"
    }
   ],
   "source": [
    "mylist.clear()  #empty list/ delete all items in the lsit\n",
    "mylist"
   ]
  },
  {
   "cell_type": "code",
   "execution_count": 53,
   "id": "2bc4d87c-40c7-434c-b395-c7b526690553",
   "metadata": {},
   "outputs": [
    {
     "ename": "NameError",
     "evalue": "name 'mylist' is not defined",
     "output_type": "error",
     "traceback": [
      "\u001b[1;31m---------------------------------------------------------------------------\u001b[0m",
      "\u001b[1;31mNameError\u001b[0m                                 Traceback (most recent call last)",
      "Cell \u001b[1;32mIn[53], line 2\u001b[0m\n\u001b[0;32m      1\u001b[0m \u001b[38;5;28;01mdel\u001b[39;00m mylist \u001b[38;5;66;03m#Delete the whole list\u001b[39;00m\n\u001b[1;32m----> 2\u001b[0m mylist\n",
      "\u001b[1;31mNameError\u001b[0m: name 'mylist' is not defined"
     ]
    }
   ],
   "source": [
    "del mylist #Delete the whole list\n",
    "mylist"
   ]
  },
  {
   "cell_type": "code",
   "execution_count": 54,
   "id": "4cff44a0-0a25-4629-af1d-8b905577b9e8",
   "metadata": {},
   "outputs": [],
   "source": [
    "## Copy list"
   ]
  },
  {
   "cell_type": "code",
   "execution_count": 4,
   "id": "306e6b15-cf31-4abc-a553-1e12e29616b8",
   "metadata": {},
   "outputs": [],
   "source": [
    "mylist=['one','two','three','four','five','six','seven','eight','nine']"
   ]
  },
  {
   "cell_type": "code",
   "execution_count": 5,
   "id": "5a4c64cb-10d9-4d63-82b9-47d6a60076c8",
   "metadata": {},
   "outputs": [],
   "source": [
    "mylist1=mylist #Create a new refernce \"myList1\""
   ]
  },
  {
   "cell_type": "code",
   "execution_count": 6,
   "id": "2fdfdc74-8678-419c-904a-e3df6257e846",
   "metadata": {},
   "outputs": [
    {
     "data": {
      "text/plain": [
       "(1755331838336, 1755331838336)"
      ]
     },
     "execution_count": 6,
     "metadata": {},
     "output_type": "execute_result"
    }
   ],
   "source": [
    "id(mylist),id(mylist1)  #the address of both mylist and mylist1 will be same"
   ]
  },
  {
   "cell_type": "code",
   "execution_count": 7,
   "id": "bcb9072d-7e83-4978-9622-9b454393e098",
   "metadata": {},
   "outputs": [],
   "source": [
    "mylist2=mylist.copy() #create a copy of the list"
   ]
  },
  {
   "cell_type": "code",
   "execution_count": 8,
   "id": "932a3d64-c7e6-4dd9-8aa5-5376a948ac92",
   "metadata": {},
   "outputs": [
    {
     "data": {
      "text/plain": [
       "1755331831424"
      ]
     },
     "execution_count": 8,
     "metadata": {},
     "output_type": "execute_result"
    }
   ],
   "source": [
    "id(mylist2) #the address of mylist2 will be different from mylist "
   ]
  },
  {
   "cell_type": "code",
   "execution_count": 9,
   "id": "a3597c8f-3144-480a-9e57-dfcb59fd0fdb",
   "metadata": {},
   "outputs": [
    {
     "data": {
      "text/plain": [
       "[1, 'two', 'three', 'four', 'five', 'six', 'seven', 'eight', 'nine']"
      ]
     },
     "execution_count": 9,
     "metadata": {},
     "output_type": "execute_result"
    }
   ],
   "source": [
    "mylist[0]=1\n",
    "mylist"
   ]
  },
  {
   "cell_type": "code",
   "execution_count": 10,
   "id": "02f71dc1-0d55-4d62-9f66-0874fe251995",
   "metadata": {},
   "outputs": [
    {
     "data": {
      "text/plain": [
       "[1, 'two', 'three', 'four', 'five', 'six', 'seven', 'eight', 'nine']"
      ]
     },
     "execution_count": 10,
     "metadata": {},
     "output_type": "execute_result"
    }
   ],
   "source": [
    "mylist1  #mylist will be also impacted as it is pointing to the same list"
   ]
  },
  {
   "cell_type": "code",
   "execution_count": 11,
   "id": "95a9bdbc-1f97-4392-b4f9-b76e822289e1",
   "metadata": {},
   "outputs": [
    {
     "data": {
      "text/plain": [
       "['one', 'two', 'three', 'four', 'five', 'six', 'seven', 'eight', 'nine']"
      ]
     },
     "execution_count": 11,
     "metadata": {},
     "output_type": "execute_result"
    }
   ],
   "source": [
    "mylist2  #Copy of list won't be impacted due to changes made on the original list"
   ]
  },
  {
   "cell_type": "code",
   "execution_count": 12,
   "id": "59d12c2f-fa2e-4e3a-a2fb-1e08c242ee0a",
   "metadata": {},
   "outputs": [],
   "source": [
    " ## Join Lists"
   ]
  },
  {
   "cell_type": "code",
   "execution_count": 13,
   "id": "6666a9c7-d8db-4744-b6ae-2ffc0d56983a",
   "metadata": {},
   "outputs": [],
   "source": [
    "list1=['one','two','three','four']\n",
    "list2=['five','six','seven','eight']"
   ]
  },
  {
   "cell_type": "code",
   "execution_count": 14,
   "id": "a9679263-d2a9-4dba-adc4-68d4877af344",
   "metadata": {},
   "outputs": [
    {
     "data": {
      "text/plain": [
       "['one', 'two', 'three', 'four', 'five', 'six', 'seven', 'eight']"
      ]
     },
     "execution_count": 14,
     "metadata": {},
     "output_type": "execute_result"
    }
   ],
   "source": [
    "list3=list1+list2 #join two lists by '+' operator\n",
    "list3"
   ]
  },
  {
   "cell_type": "code",
   "execution_count": 15,
   "id": "026bfcc2-d898-4127-b3d4-1f4cbff3f4ee",
   "metadata": {},
   "outputs": [
    {
     "data": {
      "text/plain": [
       "['one', 'two', 'three', 'four', 'five', 'six', 'seven', 'eight']"
      ]
     },
     "execution_count": 15,
     "metadata": {},
     "output_type": "execute_result"
    }
   ],
   "source": [
    "list1.extend(list2) #Append list2 with list1\n",
    "list1"
   ]
  },
  {
   "cell_type": "code",
   "execution_count": 16,
   "id": "4d2c3c41-7c13-4b6e-af50-d25bfb5ea66b",
   "metadata": {},
   "outputs": [],
   "source": [
    "## List membership"
   ]
  },
  {
   "cell_type": "code",
   "execution_count": 17,
   "id": "34df7f6c-5cdf-4d90-837e-2f1ec2e0b93b",
   "metadata": {},
   "outputs": [
    {
     "data": {
      "text/plain": [
       "['one', 'two', 'three', 'four', 'five', 'six', 'seven', 'eight']"
      ]
     },
     "execution_count": 17,
     "metadata": {},
     "output_type": "execute_result"
    }
   ],
   "source": [
    "list1"
   ]
  },
  {
   "cell_type": "code",
   "execution_count": 18,
   "id": "8a416f0a-0cd9-4a93-88e6-5212300c6a36",
   "metadata": {},
   "outputs": [
    {
     "data": {
      "text/plain": [
       "True"
      ]
     },
     "execution_count": 18,
     "metadata": {},
     "output_type": "execute_result"
    }
   ],
   "source": [
    "'one' in list1 #check if 'one' exist in the list"
   ]
  },
  {
   "cell_type": "code",
   "execution_count": 19,
   "id": "f449c000-d9ae-40df-a065-cd0ec366ee6e",
   "metadata": {},
   "outputs": [
    {
     "data": {
      "text/plain": [
       "False"
      ]
     },
     "execution_count": 19,
     "metadata": {},
     "output_type": "execute_result"
    }
   ],
   "source": [
    "'tem' in list1 #check if 'ten' exist in the list"
   ]
  },
  {
   "cell_type": "code",
   "execution_count": 20,
   "id": "8b3acaeb-f7d6-4a67-9fce-3d3a47791007",
   "metadata": {},
   "outputs": [
    {
     "name": "stdout",
     "output_type": "stream",
     "text": [
      "Three is present in the list\n"
     ]
    }
   ],
   "source": [
    "if 'three' in list1: ## check if 'three' exist in the list\n",
    "    print('Three is present in the list')\n",
    "else:\n",
    "    print('three is not present in the list')"
   ]
  },
  {
   "cell_type": "code",
   "execution_count": 21,
   "id": "3d8ca920-67dd-4f3a-babf-2c206efcbb20",
   "metadata": {},
   "outputs": [
    {
     "name": "stdout",
     "output_type": "stream",
     "text": [
      "eleven is not present in the list\n"
     ]
    }
   ],
   "source": [
    "if 'eleven' in list1: ## check if 'three' exist in the list\n",
    "    print('eleven is present in the list')\n",
    "else:\n",
    "    print('eleven is not present in the list')"
   ]
  },
  {
   "cell_type": "code",
   "execution_count": 22,
   "id": "181480cb-c67b-4c7b-aba0-f727ea41cf9c",
   "metadata": {},
   "outputs": [],
   "source": [
    "##Reverse & Sort List"
   ]
  },
  {
   "cell_type": "code",
   "execution_count": 23,
   "id": "4d0732ad-e553-4700-95d5-bd26bab53ad6",
   "metadata": {},
   "outputs": [
    {
     "data": {
      "text/plain": [
       "['one', 'two', 'three', 'four', 'five', 'six', 'seven', 'eight']"
      ]
     },
     "execution_count": 23,
     "metadata": {},
     "output_type": "execute_result"
    }
   ],
   "source": [
    "list1"
   ]
  },
  {
   "cell_type": "code",
   "execution_count": 24,
   "id": "134bfd29-d0e5-4282-9707-d75f8cfdbd70",
   "metadata": {},
   "outputs": [
    {
     "data": {
      "text/plain": [
       "['eight', 'seven', 'six', 'five', 'four', 'three', 'two', 'one']"
      ]
     },
     "execution_count": 24,
     "metadata": {},
     "output_type": "execute_result"
    }
   ],
   "source": [
    "list1.reverse() #Reverse the list\n",
    "list1"
   ]
  },
  {
   "cell_type": "code",
   "execution_count": 25,
   "id": "68477090-6f1f-4b2b-8765-0fac86f40b17",
   "metadata": {},
   "outputs": [
    {
     "data": {
      "text/plain": [
       "['one', 'two', 'three', 'four', 'five', 'six', 'seven', 'eight']"
      ]
     },
     "execution_count": 25,
     "metadata": {},
     "output_type": "execute_result"
    }
   ],
   "source": [
    "list1=list1[::-1] #Reverse the list\n",
    "list1"
   ]
  },
  {
   "cell_type": "code",
   "execution_count": 26,
   "id": "8ddc6b4f-6e1f-427d-881e-f63256442c99",
   "metadata": {},
   "outputs": [
    {
     "data": {
      "text/plain": [
       "[2, 5, 9, 12, 34, 88, 99]"
      ]
     },
     "execution_count": 26,
     "metadata": {},
     "output_type": "execute_result"
    }
   ],
   "source": [
    "mylist3=[9,5,2,99,12,88,34]\n",
    "mylist3.sort()     #Sort list in ascending order\n",
    "mylist3"
   ]
  },
  {
   "cell_type": "code",
   "execution_count": 27,
   "id": "4781167d-9a2d-4a2e-b7cb-4577a8b5592f",
   "metadata": {},
   "outputs": [
    {
     "data": {
      "text/plain": [
       "[99, 88, 34, 12, 9, 5, 2]"
      ]
     },
     "execution_count": 27,
     "metadata": {},
     "output_type": "execute_result"
    }
   ],
   "source": [
    "mylist3=[9,5,2,99,12,88,34]\n",
    "mylist3.sort(reverse=True)     #Sort list in descending order\n",
    "mylist3"
   ]
  },
  {
   "cell_type": "code",
   "execution_count": 28,
   "id": "1a16f5e8-612c-4b2e-ad16-6d6290165dbe",
   "metadata": {},
   "outputs": [
    {
     "data": {
      "text/plain": [
       "[11, 21, 33, 65, 88, 98]"
      ]
     },
     "execution_count": 28,
     "metadata": {},
     "output_type": "execute_result"
    }
   ],
   "source": [
    "mylist4=[88,65,33,21,11,98]\n",
    "sorted(mylist4)   #returns a new sorted list and doesnt change original list"
   ]
  },
  {
   "cell_type": "code",
   "execution_count": 29,
   "id": "7e8a9cb1-9b1c-4d45-a2e3-a1617cee0031",
   "metadata": {},
   "outputs": [
    {
     "data": {
      "text/plain": [
       "[88, 65, 33, 21, 11, 98]"
      ]
     },
     "execution_count": 29,
     "metadata": {},
     "output_type": "execute_result"
    }
   ],
   "source": [
    "mylist4"
   ]
  },
  {
   "cell_type": "code",
   "execution_count": 30,
   "id": "2e934e69-f63f-49f7-81ff-507181a91abe",
   "metadata": {},
   "outputs": [],
   "source": [
    "## Loop through a list"
   ]
  },
  {
   "cell_type": "code",
   "execution_count": 31,
   "id": "829dc396-3aa3-4ebf-8259-6d32994b37b8",
   "metadata": {},
   "outputs": [
    {
     "data": {
      "text/plain": [
       "['one', 'two', 'three', 'four', 'five', 'six', 'seven', 'eight']"
      ]
     },
     "execution_count": 31,
     "metadata": {},
     "output_type": "execute_result"
    }
   ],
   "source": [
    "list1"
   ]
  },
  {
   "cell_type": "code",
   "execution_count": 33,
   "id": "7d0275de-77e4-487d-aa11-5d3c93052dc4",
   "metadata": {},
   "outputs": [
    {
     "name": "stdout",
     "output_type": "stream",
     "text": [
      "one\n",
      "two\n",
      "three\n",
      "four\n",
      "five\n",
      "six\n",
      "seven\n",
      "eight\n"
     ]
    }
   ],
   "source": [
    "for i in list1:\n",
    "    print(i)"
   ]
  },
  {
   "cell_type": "code",
   "execution_count": 34,
   "id": "3cae1337-f1d0-4332-83a8-f2064bdc4247",
   "metadata": {},
   "outputs": [
    {
     "name": "stdout",
     "output_type": "stream",
     "text": [
      "(0, 'one')\n",
      "(1, 'two')\n",
      "(2, 'three')\n",
      "(3, 'four')\n",
      "(4, 'five')\n",
      "(5, 'six')\n",
      "(6, 'seven')\n",
      "(7, 'eight')\n"
     ]
    }
   ],
   "source": [
    "for i in enumerate(list1):\n",
    "    print(i)"
   ]
  },
  {
   "cell_type": "code",
   "execution_count": 35,
   "id": "c0fe3839-3179-4700-aed8-5d514c356a01",
   "metadata": {},
   "outputs": [],
   "source": [
    "#Count"
   ]
  },
  {
   "cell_type": "code",
   "execution_count": 36,
   "id": "dbf631f0-8890-46f7-a2c9-9104ada0cf24",
   "metadata": {},
   "outputs": [],
   "source": [
    "list10=['one','two','three','four','one','one','two','three']"
   ]
  },
  {
   "cell_type": "code",
   "execution_count": 37,
   "id": "e530cf6f-87f7-46fa-9106-3f4da3ea7e9b",
   "metadata": {},
   "outputs": [
    {
     "data": {
      "text/plain": [
       "3"
      ]
     },
     "execution_count": 37,
     "metadata": {},
     "output_type": "execute_result"
    }
   ],
   "source": [
    "list10.count('one') #Number of times item \"one\" occured in the list."
   ]
  },
  {
   "cell_type": "code",
   "execution_count": 39,
   "id": "d2d0b566-e6d1-40cc-aeaa-3ac5779577ab",
   "metadata": {},
   "outputs": [
    {
     "data": {
      "text/plain": [
       "2"
      ]
     },
     "execution_count": 39,
     "metadata": {},
     "output_type": "execute_result"
    }
   ],
   "source": [
    "list10.count('two') #Occurence of the item 'two' in the list"
   ]
  },
  {
   "cell_type": "code",
   "execution_count": 40,
   "id": "36a5a6a9-e585-4aee-a818-185f6268fbc7",
   "metadata": {},
   "outputs": [
    {
     "data": {
      "text/plain": [
       "1"
      ]
     },
     "execution_count": 40,
     "metadata": {},
     "output_type": "execute_result"
    }
   ],
   "source": [
    "list10.count('four')  #Occurence of item 'four' in the list"
   ]
  },
  {
   "cell_type": "code",
   "execution_count": 41,
   "id": "f5cfdbf3-b3b3-4abb-9f2b-95fd9d5fc55f",
   "metadata": {},
   "outputs": [],
   "source": [
    "##All /Any  [ all -true(if all elements in the list are true)\n",
    "##                -false(if any eelement in a list is false)\n",
    "##          [ any -true(if any element in the list is true)\n",
    "##                -false(if not returns false)"
   ]
  },
  {
   "cell_type": "code",
   "execution_count": 42,
   "id": "01f34c7e-9b1c-4287-98cb-8559cc09cc89",
   "metadata": {},
   "outputs": [
    {
     "data": {
      "text/plain": [
       "False"
      ]
     },
     "execution_count": 42,
     "metadata": {},
     "output_type": "execute_result"
    }
   ],
   "source": [
    "L1=[1,2,3,4,0]\n",
    "all(L1)    #Will return false as one value is false (value0)"
   ]
  },
  {
   "cell_type": "code",
   "execution_count": 43,
   "id": "94c00776-6335-4211-9d0d-3873889e5c16",
   "metadata": {},
   "outputs": [
    {
     "data": {
      "text/plain": [
       "True"
      ]
     },
     "execution_count": 43,
     "metadata": {},
     "output_type": "execute_result"
    }
   ],
   "source": [
    "any(L1) # will return true as we have items in the lsit with true value"
   ]
  },
  {
   "cell_type": "code",
   "execution_count": 44,
   "id": "b30fe72e-5b0c-49f9-bd7c-658b25afb07a",
   "metadata": {},
   "outputs": [],
   "source": [
    "L2=[1,2,3,4,True,False]"
   ]
  },
  {
   "cell_type": "code",
   "execution_count": 45,
   "id": "ed5f6267-c4ec-4862-8d4a-828f95bb2bde",
   "metadata": {},
   "outputs": [
    {
     "data": {
      "text/plain": [
       "False"
      ]
     },
     "execution_count": 45,
     "metadata": {},
     "output_type": "execute_result"
    }
   ],
   "source": [
    "all(L2) #returns false as one value is false"
   ]
  },
  {
   "cell_type": "code",
   "execution_count": 46,
   "id": "639e35a6-b84f-4de7-a1e1-79e014dae63d",
   "metadata": {},
   "outputs": [
    {
     "data": {
      "text/plain": [
       "True"
      ]
     },
     "execution_count": 46,
     "metadata": {},
     "output_type": "execute_result"
    }
   ],
   "source": [
    "any(L2)  #will return true as we have items in the list with true value"
   ]
  },
  {
   "cell_type": "code",
   "execution_count": 47,
   "id": "562bc020-b1bd-4e16-af4c-89ae87b59287",
   "metadata": {},
   "outputs": [],
   "source": [
    "L3=[1,2,3,True]"
   ]
  },
  {
   "cell_type": "code",
   "execution_count": 48,
   "id": "88ee9090-358b-4679-b0ff-4b8ef0fea771",
   "metadata": {},
   "outputs": [
    {
     "data": {
      "text/plain": [
       "True"
      ]
     },
     "execution_count": 48,
     "metadata": {},
     "output_type": "execute_result"
    }
   ],
   "source": [
    "all(L3)"
   ]
  },
  {
   "cell_type": "code",
   "execution_count": 49,
   "id": "b637d028-f9c6-4a77-86ca-89579b9197ab",
   "metadata": {},
   "outputs": [
    {
     "data": {
      "text/plain": [
       "True"
      ]
     },
     "execution_count": 49,
     "metadata": {},
     "output_type": "execute_result"
    }
   ],
   "source": [
    "any(L3)"
   ]
  },
  {
   "cell_type": "markdown",
   "id": "948bb3b9-7bd1-469e-a256-c96be3831a9b",
   "metadata": {
    "jp-MarkdownHeadingCollapsed": true
   },
   "source": [
    "## 25th class(Tuple)"
   ]
  },
  {
   "cell_type": "code",
   "execution_count": 50,
   "id": "afdccd5e-5b33-4e27-83f7-c70eb862923b",
   "metadata": {},
   "outputs": [
    {
     "data": {
      "text/plain": [
       "[1, 2.3, 'nit', True]"
      ]
     },
     "execution_count": 50,
     "metadata": {},
     "output_type": "execute_result"
    }
   ],
   "source": [
    "l3=[1,2.3,'nit',True]\n",
    "l3"
   ]
  },
  {
   "cell_type": "code",
   "execution_count": 51,
   "id": "04378604-aff4-4ace-b8db-c1de3812bf1c",
   "metadata": {},
   "outputs": [
    {
     "ename": "TypeError",
     "evalue": "'<' not supported between instances of 'str' and 'float'",
     "output_type": "error",
     "traceback": [
      "\u001b[1;31m---------------------------------------------------------------------------\u001b[0m",
      "\u001b[1;31mTypeError\u001b[0m                                 Traceback (most recent call last)",
      "Cell \u001b[1;32mIn[51], line 1\u001b[0m\n\u001b[1;32m----> 1\u001b[0m l3\u001b[38;5;241m.\u001b[39msort()\n",
      "\u001b[1;31mTypeError\u001b[0m: '<' not supported between instances of 'str' and 'float'"
     ]
    }
   ],
   "source": [
    "l3.sort()"
   ]
  },
  {
   "cell_type": "code",
   "execution_count": 3,
   "id": "f334e761-06d4-42d5-8705-4cd4fa94edff",
   "metadata": {},
   "outputs": [],
   "source": [
    "l4=['a','z','n','m']"
   ]
  },
  {
   "cell_type": "code",
   "execution_count": 7,
   "id": "37a6fd7f-df27-442d-89a5-a652f1770128",
   "metadata": {},
   "outputs": [],
   "source": [
    "l4.sort()"
   ]
  },
  {
   "cell_type": "code",
   "execution_count": 8,
   "id": "d2322d49-e09b-4f82-92b4-7c9b2326a0d6",
   "metadata": {},
   "outputs": [
    {
     "data": {
      "text/plain": [
       "['a', 'm', 'n', 'z']"
      ]
     },
     "execution_count": 8,
     "metadata": {},
     "output_type": "execute_result"
    }
   ],
   "source": [
    "l4"
   ]
  },
  {
   "cell_type": "code",
   "execution_count": 9,
   "id": "73875898-0e5e-4f95-bc0c-ee8c8b0bd70c",
   "metadata": {},
   "outputs": [],
   "source": [
    "## sort() function works when we have similar datatype"
   ]
  },
  {
   "cell_type": "code",
   "execution_count": 11,
   "id": "847888c7-9fa1-432a-95e3-7dc589cafc81",
   "metadata": {},
   "outputs": [
    {
     "data": {
      "text/plain": [
       "['z', 'n', 'm', 'a']"
      ]
     },
     "execution_count": 11,
     "metadata": {},
     "output_type": "execute_result"
    }
   ],
   "source": [
    "l4.reverse()\n",
    "l4"
   ]
  },
  {
   "cell_type": "code",
   "execution_count": 12,
   "id": "ac8bd5c2-8650-432c-8990-8ef1311ca963",
   "metadata": {},
   "outputs": [],
   "source": [
    "#List data structure has completed"
   ]
  },
  {
   "cell_type": "code",
   "execution_count": 13,
   "id": "a3d93388-41af-42c1-bb25-4948d49f2437",
   "metadata": {},
   "outputs": [],
   "source": [
    "#All & Any"
   ]
  },
  {
   "cell_type": "code",
   "execution_count": 15,
   "id": "d7594f9f-6860-44c3-83c8-debcafe02e36",
   "metadata": {},
   "outputs": [
    {
     "data": {
      "text/plain": [
       "[100, 40, 30, 20, 15, 10]"
      ]
     },
     "execution_count": 15,
     "metadata": {},
     "output_type": "execute_result"
    }
   ],
   "source": [
    "l=[100,40,30,20,15,10]\n",
    "l"
   ]
  },
  {
   "cell_type": "code",
   "execution_count": 16,
   "id": "08582839-3a7a-43e2-b893-8af69c01c0ec",
   "metadata": {},
   "outputs": [
    {
     "data": {
      "text/plain": [
       "True"
      ]
     },
     "execution_count": 16,
     "metadata": {},
     "output_type": "execute_result"
    }
   ],
   "source": [
    "all(l)    #all-if list has 0(False) all True"
   ]
  },
  {
   "cell_type": "code",
   "execution_count": 17,
   "id": "e60f7264-aac7-4bba-9ad1-b93b9f864a8e",
   "metadata": {},
   "outputs": [
    {
     "data": {
      "text/plain": [
       "True"
      ]
     },
     "execution_count": 17,
     "metadata": {},
     "output_type": "execute_result"
    }
   ],
   "source": [
    "any(l)     #any - by default gives you true"
   ]
  },
  {
   "cell_type": "markdown",
   "id": "147c579f-40b0-4126-846a-0e3fc97f4c23",
   "metadata": {
    "jp-MarkdownHeadingCollapsed": true
   },
   "source": [
    "##Tuple"
   ]
  },
  {
   "cell_type": "code",
   "execution_count": 55,
   "id": "a7fd6db7-fdf5-48bf-bff3-f9a064323121",
   "metadata": {},
   "outputs": [
    {
     "data": {
      "text/plain": [
       "()"
      ]
     },
     "execution_count": 55,
     "metadata": {},
     "output_type": "execute_result"
    }
   ],
   "source": [
    "t=()\n",
    "t"
   ]
  },
  {
   "cell_type": "code",
   "execution_count": 56,
   "id": "917ad2bf-5075-4b44-af31-298412a164dd",
   "metadata": {},
   "outputs": [
    {
     "data": {
      "text/plain": [
       "tuple"
      ]
     },
     "execution_count": 56,
     "metadata": {},
     "output_type": "execute_result"
    }
   ],
   "source": [
    "type(t)"
   ]
  },
  {
   "cell_type": "code",
   "execution_count": 57,
   "id": "375a28d1-ff8c-4a59-8f8b-a7cab57c670b",
   "metadata": {},
   "outputs": [
    {
     "data": {
      "text/plain": [
       "(10, 20, 30)"
      ]
     },
     "execution_count": 57,
     "metadata": {},
     "output_type": "execute_result"
    }
   ],
   "source": [
    "t1=(10,20,30)\n",
    "t1"
   ]
  },
  {
   "cell_type": "code",
   "execution_count": 58,
   "id": "70f0424b-20d5-49e1-87a2-6f2ddf3b5885",
   "metadata": {},
   "outputs": [
    {
     "data": {
      "text/plain": [
       "1"
      ]
     },
     "execution_count": 58,
     "metadata": {},
     "output_type": "execute_result"
    }
   ],
   "source": [
    "t1.count(10)"
   ]
  },
  {
   "cell_type": "code",
   "execution_count": 59,
   "id": "8fb0ba24-ce85-4092-935f-ee751df18753",
   "metadata": {},
   "outputs": [
    {
     "data": {
      "text/plain": [
       "1"
      ]
     },
     "execution_count": 59,
     "metadata": {},
     "output_type": "execute_result"
    }
   ],
   "source": [
    "t1.index(20)"
   ]
  },
  {
   "cell_type": "code",
   "execution_count": 60,
   "id": "742373d7-f58e-4440-bb03-fd70d80e1c24",
   "metadata": {},
   "outputs": [
    {
     "data": {
      "text/plain": [
       "(10, 20, 30)"
      ]
     },
     "execution_count": 60,
     "metadata": {},
     "output_type": "execute_result"
    }
   ],
   "source": [
    "t1"
   ]
  },
  {
   "cell_type": "code",
   "execution_count": 61,
   "id": "bc3f3239-9048-44d4-b4e3-11a8f3ce561e",
   "metadata": {},
   "outputs": [
    {
     "name": "stdout",
     "output_type": "stream",
     "text": [
      "10\n",
      "20\n",
      "30\n"
     ]
    }
   ],
   "source": [
    "for i in t1:\n",
    "    print(i)"
   ]
  },
  {
   "cell_type": "code",
   "execution_count": 62,
   "id": "eea36297-4404-4e97-bffb-03345443d451",
   "metadata": {},
   "outputs": [
    {
     "name": "stdout",
     "output_type": "stream",
     "text": [
      "(0, 10)\n",
      "(1, 20)\n",
      "(2, 30)\n"
     ]
    }
   ],
   "source": [
    "for i in enumerate(t1):\n",
    "    print(i)"
   ]
  },
  {
   "cell_type": "code",
   "execution_count": 63,
   "id": "d3cd4d00-43df-4824-8a2b-1cde98b9c1f5",
   "metadata": {},
   "outputs": [
    {
     "data": {
      "text/plain": [
       "(234, 'czip786', 4567)"
      ]
     },
     "execution_count": 63,
     "metadata": {},
     "output_type": "execute_result"
    }
   ],
   "source": [
    "8sbi=(234, 'czip786' ,4567)\n",
    "sbi"
   ]
  },
  {
   "cell_type": "code",
   "execution_count": 64,
   "id": "d80230fd-6c54-4d88-82f0-f1feaa98d7ed",
   "metadata": {},
   "outputs": [
    {
     "ename": "TypeError",
     "evalue": "'tuple' object does not support item assignment",
     "output_type": "error",
     "traceback": [
      "\u001b[1;31m---------------------------------------------------------------------------\u001b[0m",
      "\u001b[1;31mTypeError\u001b[0m                                 Traceback (most recent call last)",
      "Cell \u001b[1;32mIn[64], line 1\u001b[0m\n\u001b[1;32m----> 1\u001b[0m sbi[\u001b[38;5;241m0\u001b[39m]\u001b[38;5;241m=\u001b[39m\u001b[38;5;241m432\u001b[39m\n",
      "\u001b[1;31mTypeError\u001b[0m: 'tuple' object does not support item assignment"
     ]
    }
   ],
   "source": [
    "sbi[0]=432"
   ]
  },
  {
   "cell_type": "code",
   "execution_count": 69,
   "id": "3f4e9a73-7391-4c53-b729-e3b7d117fb40",
   "metadata": {},
   "outputs": [
    {
     "data": {
      "text/plain": [
       "(10, 20, 30)"
      ]
     },
     "execution_count": 69,
     "metadata": {},
     "output_type": "execute_result"
    }
   ],
   "source": [
    "t1"
   ]
  },
  {
   "cell_type": "code",
   "execution_count": 70,
   "id": "3f68c59b-c72b-492b-961e-792b09f7c5e0",
   "metadata": {},
   "outputs": [
    {
     "data": {
      "text/plain": [
       "(10, 20, 30, 10, 20, 30, 10, 20, 30)"
      ]
     },
     "execution_count": 70,
     "metadata": {},
     "output_type": "execute_result"
    }
   ],
   "source": [
    "t1*3"
   ]
  },
  {
   "cell_type": "code",
   "execution_count": 72,
   "id": "14780016-15a5-4e8d-baef-e4a4d9d846d7",
   "metadata": {},
   "outputs": [
    {
     "data": {
      "text/plain": [
       "(10, 20, 30)"
      ]
     },
     "execution_count": 72,
     "metadata": {},
     "output_type": "execute_result"
    }
   ],
   "source": [
    "t1[:]"
   ]
  },
  {
   "cell_type": "code",
   "execution_count": 73,
   "id": "c55b3531-cbd9-4d65-ba1f-5d7e8928b417",
   "metadata": {},
   "outputs": [
    {
     "data": {
      "text/plain": [
       "(10, 20, 30)"
      ]
     },
     "execution_count": 73,
     "metadata": {},
     "output_type": "execute_result"
    }
   ],
   "source": [
    "t1"
   ]
  },
  {
   "cell_type": "code",
   "execution_count": 74,
   "id": "4edcc3f6-f78e-48cc-bf86-294788e35694",
   "metadata": {},
   "outputs": [
    {
     "data": {
      "text/plain": [
       "(30,)"
      ]
     },
     "execution_count": 74,
     "metadata": {},
     "output_type": "execute_result"
    }
   ],
   "source": [
    "t1[2:]"
   ]
  },
  {
   "cell_type": "code",
   "execution_count": 75,
   "id": "689eb851-9852-4e55-aea1-6aee5babad5c",
   "metadata": {},
   "outputs": [
    {
     "data": {
      "text/plain": [
       "(10, 20, 30)"
      ]
     },
     "execution_count": 75,
     "metadata": {},
     "output_type": "execute_result"
    }
   ],
   "source": [
    "t1[:10]"
   ]
  },
  {
   "cell_type": "code",
   "execution_count": 76,
   "id": "04b237b6-cdeb-4ae8-84c4-977673b3bd0d",
   "metadata": {},
   "outputs": [
    {
     "name": "stdout",
     "output_type": "stream",
     "text": [
      "10\n",
      "20\n",
      "30\n"
     ]
    }
   ],
   "source": [
    "for i in t1:\n",
    "    print(i)"
   ]
  },
  {
   "cell_type": "code",
   "execution_count": 79,
   "id": "dd40f002-43ed-46e3-869a-183ba2470137",
   "metadata": {},
   "outputs": [
    {
     "name": "stdout",
     "output_type": "stream",
     "text": [
      "(0, 10)\n",
      "(1, 20)\n",
      "(2, 30)\n"
     ]
    }
   ],
   "source": [
    "for i in enumerate(t1):\n",
    "    print(i)"
   ]
  },
  {
   "cell_type": "code",
   "execution_count": 81,
   "id": "cba60f42-bf2b-42a6-9476-82c3eb22d942",
   "metadata": {},
   "outputs": [
    {
     "data": {
      "text/plain": [
       "(10, 10)"
      ]
     },
     "execution_count": 81,
     "metadata": {},
     "output_type": "execute_result"
    }
   ],
   "source": [
    "t2=(10,10)\n",
    "t2"
   ]
  },
  {
   "cell_type": "code",
   "execution_count": 82,
   "id": "6cf3f98f-a961-4488-a728-7dfb93774abf",
   "metadata": {},
   "outputs": [
    {
     "data": {
      "text/plain": [
       "tuple"
      ]
     },
     "execution_count": 82,
     "metadata": {},
     "output_type": "execute_result"
    }
   ],
   "source": [
    "t5=('nit',45)\n",
    "type(t5)"
   ]
  },
  {
   "cell_type": "code",
   "execution_count": 83,
   "id": "7168d6d8-c6ef-4444-914c-8467bbbf92e9",
   "metadata": {},
   "outputs": [
    {
     "data": {
      "text/plain": [
       "'nit'"
      ]
     },
     "execution_count": 83,
     "metadata": {},
     "output_type": "execute_result"
    }
   ],
   "source": [
    "t5[0]"
   ]
  },
  {
   "cell_type": "code",
   "execution_count": 88,
   "id": "5101c892-0969-4fdf-9351-93caef945ffd",
   "metadata": {},
   "outputs": [
    {
     "name": "stdout",
     "output_type": "stream",
     "text": [
      "n\n",
      "i\n",
      "t\n"
     ]
    }
   ],
   "source": [
    "print(t5[0][0])\n",
    "print(t5[0][1])\n",
    "print(t5[0][2])"
   ]
  },
  {
   "cell_type": "markdown",
   "id": "6c150fbc-e483-40c7-97ed-d747ff2ba8b0",
   "metadata": {
    "jp-MarkdownHeadingCollapsed": true
   },
   "source": [
    "## 25th Task"
   ]
  },
  {
   "cell_type": "markdown",
   "id": "958a2bb2-258a-4c6b-a060-b1e9032eddab",
   "metadata": {},
   "source": [
    "##Tuple creation"
   ]
  },
  {
   "cell_type": "code",
   "execution_count": 156,
   "id": "decfabe7-82ad-4317-9cca-92441d425b84",
   "metadata": {},
   "outputs": [],
   "source": [
    "tup1=() #empty tuple"
   ]
  },
  {
   "cell_type": "code",
   "execution_count": 157,
   "id": "87523c0d-9962-4b38-9908-2223737ecaff",
   "metadata": {},
   "outputs": [],
   "source": [
    "tup2=(10,30,60)  # tuple of integers numbers"
   ]
  },
  {
   "cell_type": "code",
   "execution_count": 158,
   "id": "84759894-d7e0-4b07-a761-78620eb9c198",
   "metadata": {},
   "outputs": [],
   "source": [
    "tup3=(10.77,30.66,60.89)   # tuple of float numbers"
   ]
  },
  {
   "cell_type": "code",
   "execution_count": 159,
   "id": "ff4b2fc9-f135-495f-8277-6a40be1f2d63",
   "metadata": {},
   "outputs": [],
   "source": [
    "tup4=('one','two','three')  # tuple of strings"
   ]
  },
  {
   "cell_type": "code",
   "execution_count": 160,
   "id": "1604799e-4e7c-4aa0-9fad-d66fddf308b5",
   "metadata": {},
   "outputs": [],
   "source": [
    "tup5=('Asif',25,(50,100),(150,90)) # Nested tuples"
   ]
  },
  {
   "cell_type": "code",
   "execution_count": 161,
   "id": "3c5ac3ec-f97d-4e55-af44-42910f4d5b64",
   "metadata": {},
   "outputs": [],
   "source": [
    "tup6=(100,'Asif',17.765) # Tuple of mixed data types"
   ]
  },
  {
   "cell_type": "code",
   "execution_count": 162,
   "id": "124b0401-af4f-4b32-ae92-24506e707d45",
   "metadata": {},
   "outputs": [],
   "source": [
    "tup7=('Asif',25,[50,100],[150,90],{'John','David'},(99,22,33))"
   ]
  },
  {
   "cell_type": "code",
   "execution_count": 163,
   "id": "bcc2dc58-c353-468d-a374-044948e12ace",
   "metadata": {},
   "outputs": [
    {
     "data": {
      "text/plain": [
       "6"
      ]
     },
     "execution_count": 163,
     "metadata": {},
     "output_type": "execute_result"
    }
   ],
   "source": [
    "len(tup7) # Length of list"
   ]
  },
  {
   "cell_type": "markdown",
   "id": "a20bfa50-ec69-4923-8f87-3cc20cd37c5b",
   "metadata": {},
   "source": [
    "##Tuple indexing"
   ]
  },
  {
   "cell_type": "code",
   "execution_count": 164,
   "id": "106875ff-db9f-4e40-8d7f-1250b2ec9dc8",
   "metadata": {},
   "outputs": [
    {
     "data": {
      "text/plain": [
       "10"
      ]
     },
     "execution_count": 164,
     "metadata": {},
     "output_type": "execute_result"
    }
   ],
   "source": [
    "tup2[0]  # Retrive first element of the tuple"
   ]
  },
  {
   "cell_type": "code",
   "execution_count": 165,
   "id": "09bfb080-34a2-4677-af07-60de1a69d319",
   "metadata": {},
   "outputs": [
    {
     "data": {
      "text/plain": [
       "'one'"
      ]
     },
     "execution_count": 165,
     "metadata": {},
     "output_type": "execute_result"
    }
   ],
   "source": [
    "tup4[0]  # Retrive first element of the tuple"
   ]
  },
  {
   "cell_type": "code",
   "execution_count": 166,
   "id": "b49a6001-0c65-42a3-940f-32116a5eb6d9",
   "metadata": {},
   "outputs": [
    {
     "data": {
      "text/plain": [
       "'o'"
      ]
     },
     "execution_count": 166,
     "metadata": {},
     "output_type": "execute_result"
    }
   ],
   "source": [
    "tup4[0][0]  # Nested indexing"
   ]
  },
  {
   "cell_type": "code",
   "execution_count": 167,
   "id": "a0bcce2e-eb7d-4460-8987-566988b2aad0",
   "metadata": {},
   "outputs": [
    {
     "data": {
      "text/plain": [
       "'three'"
      ]
     },
     "execution_count": 167,
     "metadata": {},
     "output_type": "execute_result"
    }
   ],
   "source": [
    "tup4[-1] # Last item of the tuple"
   ]
  },
  {
   "cell_type": "code",
   "execution_count": 168,
   "id": "eaf7759b-f923-44dd-bc7d-266ba572287e",
   "metadata": {},
   "outputs": [
    {
     "data": {
      "text/plain": [
       "(150, 90)"
      ]
     },
     "execution_count": 168,
     "metadata": {},
     "output_type": "execute_result"
    }
   ],
   "source": [
    "tup5[-1]  # Last item of the tuple"
   ]
  },
  {
   "cell_type": "markdown",
   "id": "0b6849e5-031d-41d5-b542-6c56da038135",
   "metadata": {},
   "source": [
    "##Tuple Slicing"
   ]
  },
  {
   "cell_type": "code",
   "execution_count": 170,
   "id": "2342097c-5d53-4600-8166-5a0ed3f6f59f",
   "metadata": {},
   "outputs": [],
   "source": [
    "mytuple=('one','two','three','four','five','six','seven','eight')"
   ]
  },
  {
   "cell_type": "code",
   "execution_count": 171,
   "id": "9a3c225b-4539-4533-a44a-acdfa64daede",
   "metadata": {},
   "outputs": [
    {
     "data": {
      "text/plain": [
       "('one', 'two', 'three')"
      ]
     },
     "execution_count": 171,
     "metadata": {},
     "output_type": "execute_result"
    }
   ],
   "source": [
    "mytuple[0:3]  # Return all items from 0th to 3rd index location excluding the item"
   ]
  },
  {
   "cell_type": "code",
   "execution_count": 172,
   "id": "71c0366c-abfd-474d-9bf5-46dc4f10e64a",
   "metadata": {},
   "outputs": [
    {
     "data": {
      "text/plain": [
       "('three', 'four', 'five')"
      ]
     },
     "execution_count": 172,
     "metadata": {},
     "output_type": "execute_result"
    }
   ],
   "source": [
    "mytuple[2:5]  # List all items from 2nd to 5th index location excluding the item"
   ]
  },
  {
   "cell_type": "code",
   "execution_count": 173,
   "id": "654990fe-fbf9-41cb-8a66-75e2bc5b8bba",
   "metadata": {},
   "outputs": [
    {
     "data": {
      "text/plain": [
       "('one', 'two', 'three')"
      ]
     },
     "execution_count": 173,
     "metadata": {},
     "output_type": "execute_result"
    }
   ],
   "source": [
    "mytuple[:3]   # Return first three items"
   ]
  },
  {
   "cell_type": "code",
   "execution_count": 174,
   "id": "c2ad201c-bcb1-4a10-84ab-03a2357ddd8b",
   "metadata": {},
   "outputs": [
    {
     "data": {
      "text/plain": [
       "('one', 'two')"
      ]
     },
     "execution_count": 174,
     "metadata": {},
     "output_type": "execute_result"
    }
   ],
   "source": [
    "mytuple[:2]  # Return first two items"
   ]
  },
  {
   "cell_type": "code",
   "execution_count": 175,
   "id": "4c04bfd5-e122-4bd2-b2a7-3d7c8d3c4fa6",
   "metadata": {},
   "outputs": [
    {
     "data": {
      "text/plain": [
       "('six', 'seven', 'eight')"
      ]
     },
     "execution_count": 175,
     "metadata": {},
     "output_type": "execute_result"
    }
   ],
   "source": [
    "mytuple[-3:]  # Return last three items"
   ]
  },
  {
   "cell_type": "code",
   "execution_count": 176,
   "id": "49e3d2de-8b08-4d19-97e6-d3212f1ae1c1",
   "metadata": {},
   "outputs": [
    {
     "data": {
      "text/plain": [
       "('seven', 'eight')"
      ]
     },
     "execution_count": 176,
     "metadata": {},
     "output_type": "execute_result"
    }
   ],
   "source": [
    "mytuple[-2:]  # Return last two items"
   ]
  },
  {
   "cell_type": "code",
   "execution_count": 177,
   "id": "359fa5dc-24e3-4afc-93bb-cfa5ca64e3f8",
   "metadata": {},
   "outputs": [
    {
     "data": {
      "text/plain": [
       "'eight'"
      ]
     },
     "execution_count": 177,
     "metadata": {},
     "output_type": "execute_result"
    }
   ],
   "source": [
    "mytuple[-1]   # Return last element of the tupple"
   ]
  },
  {
   "cell_type": "code",
   "execution_count": 178,
   "id": "55f73e5d-67cb-4f45-af5c-60851f876cfc",
   "metadata": {},
   "outputs": [
    {
     "data": {
      "text/plain": [
       "('one', 'two', 'three', 'four', 'five', 'six', 'seven', 'eight')"
      ]
     },
     "execution_count": 178,
     "metadata": {},
     "output_type": "execute_result"
    }
   ],
   "source": [
    "mytuple[:]  # Return whole tuple"
   ]
  },
  {
   "cell_type": "markdown",
   "id": "fd33c286-5d22-4757-8b90-742102616b48",
   "metadata": {},
   "source": [
    "##Remove & Change items"
   ]
  },
  {
   "cell_type": "code",
   "execution_count": 179,
   "id": "22b6e7ea-c149-4272-afdd-fb5c569016d1",
   "metadata": {},
   "outputs": [],
   "source": [
    "mytuple=('one','two','three','four','five','six','seven','eight')"
   ]
  },
  {
   "cell_type": "code",
   "execution_count": 180,
   "id": "3012662d-ff18-4c39-a293-8361938f7ea7",
   "metadata": {},
   "outputs": [
    {
     "data": {
      "text/plain": [
       "('one', 'two', 'three', 'four', 'five', 'six', 'seven', 'eight')"
      ]
     },
     "execution_count": 180,
     "metadata": {},
     "output_type": "execute_result"
    }
   ],
   "source": [
    "mytuple"
   ]
  },
  {
   "cell_type": "code",
   "execution_count": 181,
   "id": "9b932da5-b6d2-42e0-a638-390db1091a62",
   "metadata": {},
   "outputs": [
    {
     "ename": "TypeError",
     "evalue": "'tuple' object doesn't support item deletion",
     "output_type": "error",
     "traceback": [
      "\u001b[1;31m---------------------------------------------------------------------------\u001b[0m",
      "\u001b[1;31mTypeError\u001b[0m                                 Traceback (most recent call last)",
      "Cell \u001b[1;32mIn[181], line 1\u001b[0m\n\u001b[1;32m----> 1\u001b[0m \u001b[38;5;28;01mdel\u001b[39;00m mytuple[\u001b[38;5;241m0\u001b[39m]\n",
      "\u001b[1;31mTypeError\u001b[0m: 'tuple' object doesn't support item deletion"
     ]
    }
   ],
   "source": [
    "del mytuple[0]  # Tuples are immutable which means we can't delete tuple items"
   ]
  },
  {
   "cell_type": "code",
   "execution_count": 182,
   "id": "c71ced7b-4c5a-4feb-a8f6-ce09873d6d63",
   "metadata": {},
   "outputs": [
    {
     "ename": "TypeError",
     "evalue": "'tuple' object does not support item assignment",
     "output_type": "error",
     "traceback": [
      "\u001b[1;31m---------------------------------------------------------------------------\u001b[0m",
      "\u001b[1;31mTypeError\u001b[0m                                 Traceback (most recent call last)",
      "Cell \u001b[1;32mIn[182], line 1\u001b[0m\n\u001b[1;32m----> 1\u001b[0m mytuple[\u001b[38;5;241m0\u001b[39m]\u001b[38;5;241m=\u001b[39m\u001b[38;5;241m1\u001b[39m\n",
      "\u001b[1;31mTypeError\u001b[0m: 'tuple' object does not support item assignment"
     ]
    }
   ],
   "source": [
    "mytuple[0]=1   # Tuples are immutable which means we can't change tuple items"
   ]
  },
  {
   "cell_type": "code",
   "execution_count": 183,
   "id": "4ef773d1-b3c8-42f7-a570-518c12bbda8f",
   "metadata": {},
   "outputs": [],
   "source": [
    "del mytuple  # Deleting entire tuple object is possible"
   ]
  },
  {
   "cell_type": "markdown",
   "id": "2477074c-a243-4a23-b612-70c34585e07f",
   "metadata": {},
   "source": [
    "##Loop through a tuple"
   ]
  },
  {
   "cell_type": "code",
   "execution_count": 185,
   "id": "b592fa2c-456e-4abd-a19f-849c9d79554a",
   "metadata": {},
   "outputs": [],
   "source": [
    "mytuple=('one','two','three','four','five','six','seven','eight')"
   ]
  },
  {
   "cell_type": "code",
   "execution_count": 186,
   "id": "ff8e7cd0-4c7b-4dad-8543-9f4ec3c5571c",
   "metadata": {},
   "outputs": [
    {
     "name": "stdout",
     "output_type": "stream",
     "text": [
      "one\n",
      "two\n",
      "three\n",
      "four\n",
      "five\n",
      "six\n",
      "seven\n",
      "eight\n"
     ]
    }
   ],
   "source": [
    "for i in mytuple:\n",
    "    print(i)"
   ]
  },
  {
   "cell_type": "code",
   "execution_count": 187,
   "id": "8f34a96d-ad97-401c-82be-c460e1476c70",
   "metadata": {},
   "outputs": [
    {
     "name": "stdout",
     "output_type": "stream",
     "text": [
      "(0, 'one')\n",
      "(1, 'two')\n",
      "(2, 'three')\n",
      "(3, 'four')\n",
      "(4, 'five')\n",
      "(5, 'six')\n",
      "(6, 'seven')\n",
      "(7, 'eight')\n"
     ]
    }
   ],
   "source": [
    "for i in enumerate(mytuple):\n",
    "    print(i)"
   ]
  },
  {
   "cell_type": "markdown",
   "id": "5cc255f5-dbb0-4ee7-9bc9-a5b5313fa5b6",
   "metadata": {},
   "source": [
    "##Tuple Membership"
   ]
  },
  {
   "cell_type": "code",
   "execution_count": 138,
   "id": "ea1a5fdc-7ebb-4841-9566-a5e0ea3d678a",
   "metadata": {},
   "outputs": [
    {
     "data": {
      "text/plain": [
       "('one', 'two', 'three', 'four', 'five', 'six', 'seven', 'eight')"
      ]
     },
     "execution_count": 138,
     "metadata": {},
     "output_type": "execute_result"
    }
   ],
   "source": [
    "mytuple"
   ]
  },
  {
   "cell_type": "code",
   "execution_count": 139,
   "id": "83ff255d-9a82-4d9e-83fd-b0a6e6abb9d2",
   "metadata": {},
   "outputs": [
    {
     "data": {
      "text/plain": [
       "True"
      ]
     },
     "execution_count": 139,
     "metadata": {},
     "output_type": "execute_result"
    }
   ],
   "source": [
    "'one' in mytuple  # Check if 'one' exist in the list"
   ]
  },
  {
   "cell_type": "code",
   "execution_count": 140,
   "id": "97f27556-c608-4f2b-902f-190f7d66d968",
   "metadata": {},
   "outputs": [
    {
     "data": {
      "text/plain": [
       "False"
      ]
     },
     "execution_count": 140,
     "metadata": {},
     "output_type": "execute_result"
    }
   ],
   "source": [
    "'ten' in mylist # Check if 'ten' exist in the list"
   ]
  },
  {
   "cell_type": "code",
   "execution_count": 141,
   "id": "f9d68ec8-7695-41e5-893f-b7ea718c1f6e",
   "metadata": {},
   "outputs": [
    {
     "name": "stdout",
     "output_type": "stream",
     "text": [
      "Three is present in tuple\n"
     ]
    }
   ],
   "source": [
    "if 'three' in mytuple:    # check if three exists in the list\n",
    "    print('Three is present in tuple')\n",
    "else:\n",
    "    print('Three is not present in tuple')"
   ]
  },
  {
   "cell_type": "code",
   "execution_count": 142,
   "id": "3fd907f0-ec45-4dfc-8318-e5cebeb0f80d",
   "metadata": {},
   "outputs": [
    {
     "name": "stdout",
     "output_type": "stream",
     "text": [
      "eleven is not present in tuple\n"
     ]
    }
   ],
   "source": [
    "if 'eleven' in mytuple:    # check if eleven exists in the list\n",
    "    print('eleven is present in tuple')\n",
    "else:\n",
    "    print('eleven is not present in tuple')"
   ]
  },
  {
   "cell_type": "markdown",
   "id": "4a43409b-efab-4f2c-a242-bac04ca79b5e",
   "metadata": {},
   "source": [
    "##Index Position"
   ]
  },
  {
   "cell_type": "code",
   "execution_count": 188,
   "id": "7e064ad4-8321-4fa0-a13f-685d9d530794",
   "metadata": {},
   "outputs": [],
   "source": [
    "mytuple=('one','two','three','four','five','six','seven','eight')"
   ]
  },
  {
   "cell_type": "code",
   "execution_count": 144,
   "id": "704d4b2b-6c8d-468f-a90c-e3c7c1f949c7",
   "metadata": {},
   "outputs": [
    {
     "data": {
      "text/plain": [
       "0"
      ]
     },
     "execution_count": 144,
     "metadata": {},
     "output_type": "execute_result"
    }
   ],
   "source": [
    "mytuple.index('one')  # Index of first element equal to 'one'"
   ]
  },
  {
   "cell_type": "code",
   "execution_count": 145,
   "id": "080ead1a-0c54-4842-94a4-bebb2202fa4c",
   "metadata": {},
   "outputs": [
    {
     "data": {
      "text/plain": [
       "4"
      ]
     },
     "execution_count": 145,
     "metadata": {},
     "output_type": "execute_result"
    }
   ],
   "source": [
    "mytuple.index('five')  # Index of first element equal to 'five'"
   ]
  },
  {
   "cell_type": "markdown",
   "id": "f658367b-8397-4b1b-b11c-39701fdbb18c",
   "metadata": {},
   "source": [
    "##Sorting"
   ]
  },
  {
   "cell_type": "code",
   "execution_count": 190,
   "id": "633f8c46-29f9-4ce6-a91c-41574a629e8a",
   "metadata": {},
   "outputs": [],
   "source": [
    "mytuple2=(43,67,99,12,6,90,67)"
   ]
  },
  {
   "cell_type": "code",
   "execution_count": 191,
   "id": "d43b767e-1087-4712-b3e6-4c6085e36eef",
   "metadata": {},
   "outputs": [
    {
     "data": {
      "text/plain": [
       "[6, 12, 43, 67, 67, 90, 99]"
      ]
     },
     "execution_count": 191,
     "metadata": {},
     "output_type": "execute_result"
    }
   ],
   "source": [
    "sorted(mytuple2) # Returns a new sorted list and doesn't change original tuple"
   ]
  },
  {
   "cell_type": "code",
   "execution_count": 192,
   "id": "bc5d9a84-6bf4-40e0-9728-fb9c002f6966",
   "metadata": {},
   "outputs": [
    {
     "data": {
      "text/plain": [
       "[99, 90, 67, 67, 43, 12, 6]"
      ]
     },
     "execution_count": 192,
     "metadata": {},
     "output_type": "execute_result"
    }
   ],
   "source": [
    "sorted(mytuple2, reverse=True) # Sorted in descending order"
   ]
  },
  {
   "cell_type": "markdown",
   "id": "5df6f3cc-92f0-4b58-bd43-ac391d0df5f2",
   "metadata": {
    "jp-MarkdownHeadingCollapsed": true
   },
   "source": [
    "## 26th (Set)"
   ]
  },
  {
   "cell_type": "code",
   "execution_count": 75,
   "id": "2c678bc3-ed78-4e59-8c1d-b7a608f06d02",
   "metadata": {},
   "outputs": [
    {
     "data": {
      "text/plain": [
       "{}"
      ]
     },
     "execution_count": 75,
     "metadata": {},
     "output_type": "execute_result"
    }
   ],
   "source": [
    "s={}\n",
    "s"
   ]
  },
  {
   "cell_type": "code",
   "execution_count": 76,
   "id": "19d783c1-cee8-459c-8736-43ab8f41a6eb",
   "metadata": {},
   "outputs": [
    {
     "data": {
      "text/plain": [
       "dict"
      ]
     },
     "execution_count": 76,
     "metadata": {},
     "output_type": "execute_result"
    }
   ],
   "source": [
    "type(s)"
   ]
  },
  {
   "cell_type": "code",
   "execution_count": 77,
   "id": "b4814ffc-8a0c-48e3-aeb1-091e11dbe52e",
   "metadata": {},
   "outputs": [
    {
     "data": {
      "text/plain": [
       "set()"
      ]
     },
     "execution_count": 77,
     "metadata": {},
     "output_type": "execute_result"
    }
   ],
   "source": [
    "s1=set()\n",
    "s1"
   ]
  },
  {
   "cell_type": "code",
   "execution_count": 78,
   "id": "62833ebe-2334-49fd-b131-87499e5002c5",
   "metadata": {},
   "outputs": [
    {
     "data": {
      "text/plain": [
       "set"
      ]
     },
     "execution_count": 78,
     "metadata": {},
     "output_type": "execute_result"
    }
   ],
   "source": [
    "type(s1)"
   ]
  },
  {
   "cell_type": "code",
   "execution_count": 80,
   "id": "f3b880b6-9acc-4f58-b180-ec5c91568f6f",
   "metadata": {},
   "outputs": [
    {
     "data": {
      "text/plain": [
       "{20}"
      ]
     },
     "execution_count": 80,
     "metadata": {},
     "output_type": "execute_result"
    }
   ],
   "source": [
    "s1.add(20)\n",
    "s1"
   ]
  },
  {
   "cell_type": "code",
   "execution_count": 81,
   "id": "e2a6bdea-11d4-48dc-b418-3ad2d7a93936",
   "metadata": {},
   "outputs": [
    {
     "ename": "TypeError",
     "evalue": "set.add() takes exactly one argument (2 given)",
     "output_type": "error",
     "traceback": [
      "\u001b[1;31m---------------------------------------------------------------------------\u001b[0m",
      "\u001b[1;31mTypeError\u001b[0m                                 Traceback (most recent call last)",
      "Cell \u001b[1;32mIn[81], line 1\u001b[0m\n\u001b[1;32m----> 1\u001b[0m s1\u001b[38;5;241m.\u001b[39madd(\u001b[38;5;241m30\u001b[39m,\u001b[38;5;241m10\u001b[39m)\n\u001b[0;32m      2\u001b[0m s1\n",
      "\u001b[1;31mTypeError\u001b[0m: set.add() takes exactly one argument (2 given)"
     ]
    }
   ],
   "source": [
    "s1.add(30,10)\n",
    "s1"
   ]
  },
  {
   "cell_type": "code",
   "execution_count": 83,
   "id": "4ac61704-bed9-4870-824b-543940957986",
   "metadata": {},
   "outputs": [
    {
     "data": {
      "text/plain": [
       "{10, 20, 25, 100}"
      ]
     },
     "execution_count": 83,
     "metadata": {},
     "output_type": "execute_result"
    }
   ],
   "source": [
    "s1.add(10)\n",
    "s1.add(100)\n",
    "s1.add(25)\n",
    "s1"
   ]
  },
  {
   "cell_type": "code",
   "execution_count": 87,
   "id": "32773313-0ebd-4839-8c5f-362c700ad8da",
   "metadata": {},
   "outputs": [
    {
     "data": {
      "text/plain": [
       "{10, 20, 25, 100}"
      ]
     },
     "execution_count": 87,
     "metadata": {},
     "output_type": "execute_result"
    }
   ],
   "source": [
    "s1.add(10)\n",
    "s1"
   ]
  },
  {
   "cell_type": "code",
   "execution_count": 88,
   "id": "123bd4bf-875c-48c6-be03-9218ac6595d3",
   "metadata": {},
   "outputs": [
    {
     "data": {
      "text/plain": [
       "{10, 20, 25, 100}"
      ]
     },
     "execution_count": 88,
     "metadata": {},
     "output_type": "execute_result"
    }
   ],
   "source": [
    "s1"
   ]
  },
  {
   "cell_type": "code",
   "execution_count": 90,
   "id": "6227602b-a2e2-4dca-9a95-190a6d1a2a58",
   "metadata": {},
   "outputs": [
    {
     "ename": "TypeError",
     "evalue": "'set' object is not subscriptable",
     "output_type": "error",
     "traceback": [
      "\u001b[1;31m---------------------------------------------------------------------------\u001b[0m",
      "\u001b[1;31mTypeError\u001b[0m                                 Traceback (most recent call last)",
      "Cell \u001b[1;32mIn[90], line 1\u001b[0m\n\u001b[1;32m----> 1\u001b[0m s1[:]\n",
      "\u001b[1;31mTypeError\u001b[0m: 'set' object is not subscriptable"
     ]
    }
   ],
   "source": [
    "s1[:]   ## in set indexing nd slicing is not allowed"
   ]
  },
  {
   "cell_type": "code",
   "execution_count": 91,
   "id": "13569751-6244-42fb-8921-a9684b92f6e3",
   "metadata": {},
   "outputs": [
    {
     "ename": "TypeError",
     "evalue": "unhashable type: 'list'",
     "output_type": "error",
     "traceback": [
      "\u001b[1;31m---------------------------------------------------------------------------\u001b[0m",
      "\u001b[1;31mTypeError\u001b[0m                                 Traceback (most recent call last)",
      "Cell \u001b[1;32mIn[91], line 1\u001b[0m\n\u001b[1;32m----> 1\u001b[0m s1\u001b[38;5;241m.\u001b[39madd([\u001b[38;5;241m1\u001b[39m,\u001b[38;5;241m2\u001b[39m,\u001b[38;5;241m3\u001b[39m,\u001b[38;5;241m4\u001b[39m])\n",
      "\u001b[1;31mTypeError\u001b[0m: unhashable type: 'list'"
     ]
    }
   ],
   "source": [
    "s1.add([1,2,3,4])"
   ]
  },
  {
   "cell_type": "code",
   "execution_count": 92,
   "id": "434d43cc-9a18-4f06-a920-7790b5a002c2",
   "metadata": {},
   "outputs": [
    {
     "data": {
      "text/plain": [
       "set()"
      ]
     },
     "execution_count": 92,
     "metadata": {},
     "output_type": "execute_result"
    }
   ],
   "source": [
    "s2=set()\n",
    "s2"
   ]
  },
  {
   "cell_type": "code",
   "execution_count": 94,
   "id": "198bc623-81bd-477e-ace3-635326261f7d",
   "metadata": {},
   "outputs": [
    {
     "data": {
      "text/plain": [
       "{(1+2j), 1.2, 10, True, 'nit'}"
      ]
     },
     "execution_count": 94,
     "metadata": {},
     "output_type": "execute_result"
    }
   ],
   "source": [
    "s2.add(10)\n",
    "s2.add(1.2)\n",
    "s2.add(1+2j)\n",
    "s2.add(True)\n",
    "s2.add('nit')\n",
    "s2"
   ]
  },
  {
   "cell_type": "code",
   "execution_count": 95,
   "id": "6098a649-e45a-493f-bdb1-bdb313ce1ecb",
   "metadata": {},
   "outputs": [
    {
     "name": "stdout",
     "output_type": "stream",
     "text": [
      "{100, 25, 10, 20}\n",
      "{1.2, True, (1+2j), 10, 'nit'}\n"
     ]
    }
   ],
   "source": [
    "print(s1)\n",
    "print(s2)"
   ]
  },
  {
   "cell_type": "code",
   "execution_count": 96,
   "id": "a25d840f-8bab-4c07-8841-680fd84e1366",
   "metadata": {},
   "outputs": [
    {
     "data": {
      "text/plain": [
       "False"
      ]
     },
     "execution_count": 96,
     "metadata": {},
     "output_type": "execute_result"
    }
   ],
   "source": [
    "id(s1)==id(s2)"
   ]
  },
  {
   "cell_type": "code",
   "execution_count": 97,
   "id": "9224754c-e2b8-4ed1-bef1-b75b99b0192d",
   "metadata": {},
   "outputs": [
    {
     "data": {
      "text/plain": [
       "{(1+2j), 1.2, 10, True, 'nit'}"
      ]
     },
     "execution_count": 97,
     "metadata": {},
     "output_type": "execute_result"
    }
   ],
   "source": [
    "s3=s2.copy()\n",
    "s3"
   ]
  },
  {
   "cell_type": "code",
   "execution_count": 98,
   "id": "da7073ae-a8d1-431d-bd6e-8659615c7e37",
   "metadata": {},
   "outputs": [
    {
     "data": {
      "text/plain": [
       "True"
      ]
     },
     "execution_count": 98,
     "metadata": {},
     "output_type": "execute_result"
    }
   ],
   "source": [
    "s2==s3"
   ]
  },
  {
   "cell_type": "code",
   "execution_count": 99,
   "id": "0c924252-19b9-4037-90b2-6c51176b81b1",
   "metadata": {},
   "outputs": [
    {
     "data": {
      "text/plain": [
       "False"
      ]
     },
     "execution_count": 99,
     "metadata": {},
     "output_type": "execute_result"
    }
   ],
   "source": [
    "id(s2)== id(s3)"
   ]
  },
  {
   "cell_type": "code",
   "execution_count": 100,
   "id": "798f8830-bbf2-4d40-aad2-040604431522",
   "metadata": {},
   "outputs": [
    {
     "name": "stdout",
     "output_type": "stream",
     "text": [
      "{100, 25, 10, 20}\n",
      "{1.2, True, (1+2j), 10, 'nit'}\n",
      "{1.2, True, (1+2j), 10, 'nit'}\n"
     ]
    }
   ],
   "source": [
    "print(s1)\n",
    "print(s2)\n",
    "print(s3)"
   ]
  },
  {
   "cell_type": "code",
   "execution_count": 101,
   "id": "96c9b82d-56d3-457a-abed-e47109fa7ecf",
   "metadata": {},
   "outputs": [
    {
     "data": {
      "text/plain": [
       "1.2"
      ]
     },
     "execution_count": 101,
     "metadata": {},
     "output_type": "execute_result"
    }
   ],
   "source": [
    "s2.pop()        #pop removes randomly nd display the output"
   ]
  },
  {
   "cell_type": "code",
   "execution_count": 102,
   "id": "26076349-5de5-481d-9a90-a3ecd22c05dd",
   "metadata": {},
   "outputs": [
    {
     "data": {
      "text/plain": [
       "{(1+2j), 10, True, 'nit'}"
      ]
     },
     "execution_count": 102,
     "metadata": {},
     "output_type": "execute_result"
    }
   ],
   "source": [
    "s2"
   ]
  },
  {
   "cell_type": "code",
   "execution_count": 103,
   "id": "e6e540bf-3b1d-4bd4-8285-11f858f680bf",
   "metadata": {},
   "outputs": [
    {
     "data": {
      "text/plain": [
       "True"
      ]
     },
     "execution_count": 103,
     "metadata": {},
     "output_type": "execute_result"
    }
   ],
   "source": [
    "s2.pop()"
   ]
  },
  {
   "cell_type": "code",
   "execution_count": 104,
   "id": "8453fd89-47ca-4cbc-9634-e6c3bb84e10b",
   "metadata": {},
   "outputs": [
    {
     "data": {
      "text/plain": [
       "{(1+2j), 10, 'nit'}"
      ]
     },
     "execution_count": 104,
     "metadata": {},
     "output_type": "execute_result"
    }
   ],
   "source": [
    "s2"
   ]
  },
  {
   "cell_type": "code",
   "execution_count": 120,
   "id": "8030d0fd-5046-4e7e-8152-0fda756efbfb",
   "metadata": {},
   "outputs": [
    {
     "data": {
      "text/plain": [
       "{}"
      ]
     },
     "execution_count": 120,
     "metadata": {},
     "output_type": "execute_result"
    }
   ],
   "source": [
    "s"
   ]
  },
  {
   "cell_type": "code",
   "execution_count": 121,
   "id": "e0cc3996-8b8a-47ec-8c4f-d7a5ea7943ed",
   "metadata": {},
   "outputs": [
    {
     "data": {
      "text/plain": [
       "{10, True, 'nit'}"
      ]
     },
     "execution_count": 121,
     "metadata": {},
     "output_type": "execute_result"
    }
   ],
   "source": [
    "s3"
   ]
  },
  {
   "cell_type": "code",
   "execution_count": 124,
   "id": "127fe36b-31bc-4f9a-912a-33daf701ec2a",
   "metadata": {},
   "outputs": [
    {
     "data": {
      "text/plain": [
       "{True, 'nit'}"
      ]
     },
     "execution_count": 124,
     "metadata": {},
     "output_type": "execute_result"
    }
   ],
   "source": [
    "s3.remove(10)\n",
    "s3"
   ]
  },
  {
   "cell_type": "code",
   "execution_count": 127,
   "id": "12191b99-bb52-4849-a7b2-4b72dfccd3e4",
   "metadata": {},
   "outputs": [
    {
     "data": {
      "text/plain": [
       "{True, 'nit'}"
      ]
     },
     "execution_count": 127,
     "metadata": {},
     "output_type": "execute_result"
    }
   ],
   "source": [
    "s3.discard(1000)\n",
    "s3"
   ]
  },
  {
   "cell_type": "code",
   "execution_count": 128,
   "id": "a78c1e82-2694-4264-86be-0933929565b4",
   "metadata": {},
   "outputs": [
    {
     "data": {
      "text/plain": [
       "{'nit'}"
      ]
     },
     "execution_count": 128,
     "metadata": {},
     "output_type": "execute_result"
    }
   ],
   "source": [
    "s3.discard(True)\n",
    "s3"
   ]
  },
  {
   "cell_type": "code",
   "execution_count": 129,
   "id": "665e2775-6a32-401b-bfc6-308acc12bdb7",
   "metadata": {},
   "outputs": [
    {
     "name": "stdout",
     "output_type": "stream",
     "text": [
      "{100, 25, 10, 20}\n",
      "{(1+2j), 10, 'nit'}\n",
      "{'nit'}\n"
     ]
    }
   ],
   "source": [
    "print(s1)\n",
    "print(s2)\n",
    "print(s3)"
   ]
  },
  {
   "cell_type": "code",
   "execution_count": 131,
   "id": "5e882bfb-5e28-42b3-ac0e-f1a27ab8eef7",
   "metadata": {},
   "outputs": [
    {
     "data": {
      "text/plain": [
       "{1.2, 10, 'nit'}"
      ]
     },
     "execution_count": 131,
     "metadata": {},
     "output_type": "execute_result"
    }
   ],
   "source": [
    "s3.add(1.2)\n",
    "s3.add(10)\n",
    "s3"
   ]
  },
  {
   "cell_type": "code",
   "execution_count": 132,
   "id": "04d38669-e129-4249-b04f-0ff44d53d42d",
   "metadata": {},
   "outputs": [
    {
     "name": "stdout",
     "output_type": "stream",
     "text": [
      "{100, 25, 10, 20}\n",
      "{(1+2j), 10, 'nit'}\n",
      "{1.2, 10, 'nit'}\n"
     ]
    }
   ],
   "source": [
    "print(s1)\n",
    "print(s2)\n",
    "print(s3)"
   ]
  },
  {
   "cell_type": "code",
   "execution_count": 135,
   "id": "d61f3c39-19f7-436d-934c-4fbcb68b6098",
   "metadata": {},
   "outputs": [
    {
     "name": "stdout",
     "output_type": "stream",
     "text": [
      "100\n",
      "25\n",
      "10\n",
      "20\n"
     ]
    }
   ],
   "source": [
    "for i in s1:\n",
    "    print(i)"
   ]
  },
  {
   "cell_type": "code",
   "execution_count": 143,
   "id": "ad004b82-b359-4db7-936d-aa56e5b42374",
   "metadata": {},
   "outputs": [
    {
     "name": "stdout",
     "output_type": "stream",
     "text": [
      "(0, 100)\n",
      "(1, 25)\n",
      "(2, 10)\n",
      "(3, 20)\n"
     ]
    }
   ],
   "source": [
    "for i in enumerate(s1):\n",
    "    print(i)"
   ]
  },
  {
   "cell_type": "markdown",
   "id": "715e9947-e363-4b1d-9c01-c039a9d1005d",
   "metadata": {},
   "source": [
    "##set operations"
   ]
  },
  {
   "cell_type": "code",
   "execution_count": 1,
   "id": "c3d3342a-1ff9-44c9-a550-be349c42559b",
   "metadata": {},
   "outputs": [],
   "source": [
    "a={1,2,3,4,5}\n",
    "b={4,5,6,7,8}\n",
    "c={8,9,10}"
   ]
  },
  {
   "cell_type": "code",
   "execution_count": 2,
   "id": "1857bf70-1e09-4e78-938b-9dea6f0bc4a0",
   "metadata": {},
   "outputs": [
    {
     "data": {
      "text/plain": [
       "{1, 2, 3, 4, 5, 6, 7, 8}"
      ]
     },
     "execution_count": 2,
     "metadata": {},
     "output_type": "execute_result"
    }
   ],
   "source": [
    "a.union(b)            #union"
   ]
  },
  {
   "cell_type": "code",
   "execution_count": 3,
   "id": "7717481c-a04a-4f86-b0e6-fb62a32b08c7",
   "metadata": {},
   "outputs": [
    {
     "data": {
      "text/plain": [
       "{1, 2, 3, 4, 5, 8, 9, 10}"
      ]
     },
     "execution_count": 3,
     "metadata": {},
     "output_type": "execute_result"
    }
   ],
   "source": [
    "a|c"
   ]
  },
  {
   "cell_type": "code",
   "execution_count": 4,
   "id": "d9c19402-3f59-4ab8-bd86-e19a1876ead3",
   "metadata": {},
   "outputs": [],
   "source": [
    "a={1,2,3,4,5}\n",
    "b={4,5,6,7,8}\n",
    "c={8,9,10}"
   ]
  },
  {
   "cell_type": "code",
   "execution_count": 5,
   "id": "9c689222-5efb-46cd-a3f2-ed9bcf3e6797",
   "metadata": {},
   "outputs": [
    {
     "data": {
      "text/plain": [
       "{4, 5, 6, 7, 8, 9, 10}"
      ]
     },
     "execution_count": 5,
     "metadata": {},
     "output_type": "execute_result"
    }
   ],
   "source": [
    "b|c"
   ]
  },
  {
   "cell_type": "code",
   "execution_count": 6,
   "id": "09bdc88e-2203-4f2a-9072-c2d9c28b87e1",
   "metadata": {},
   "outputs": [
    {
     "data": {
      "text/plain": [
       "{1, 2, 3, 4, 5, 6, 7, 8, 9, 10}"
      ]
     },
     "execution_count": 6,
     "metadata": {},
     "output_type": "execute_result"
    }
   ],
   "source": [
    "a|b|c"
   ]
  },
  {
   "cell_type": "code",
   "execution_count": 7,
   "id": "e45466f0-a6c4-47e3-9f1c-35d5a9005f87",
   "metadata": {},
   "outputs": [
    {
     "name": "stdout",
     "output_type": "stream",
     "text": [
      "{1, 2, 3, 4, 5}\n",
      "{4, 5, 6, 7, 8}\n",
      "{8, 9, 10}\n"
     ]
    }
   ],
   "source": [
    "print(a)\n",
    "print(b)\n",
    "print(c)"
   ]
  },
  {
   "cell_type": "code",
   "execution_count": 8,
   "id": "982f593c-06e4-4529-8799-780be53311bc",
   "metadata": {},
   "outputs": [
    {
     "data": {
      "text/plain": [
       "{1, 2, 3}"
      ]
     },
     "execution_count": 8,
     "metadata": {},
     "output_type": "execute_result"
    }
   ],
   "source": [
    "a.difference(b)"
   ]
  },
  {
   "cell_type": "code",
   "execution_count": 9,
   "id": "6636308c-c61d-409b-8e5a-e107b1126232",
   "metadata": {},
   "outputs": [
    {
     "data": {
      "text/plain": [
       "{1, 2, 3, 4, 5}"
      ]
     },
     "execution_count": 9,
     "metadata": {},
     "output_type": "execute_result"
    }
   ],
   "source": [
    "a.difference(c)"
   ]
  },
  {
   "cell_type": "code",
   "execution_count": 10,
   "id": "f554b353-fcba-41be-b846-ce50b4d77e21",
   "metadata": {},
   "outputs": [
    {
     "name": "stdout",
     "output_type": "stream",
     "text": [
      "{1, 2, 3, 4, 5}\n",
      "{4, 5, 6, 7, 8}\n",
      "{8, 9, 10}\n"
     ]
    }
   ],
   "source": [
    "print(a)\n",
    "print(b)\n",
    "print(c)"
   ]
  },
  {
   "cell_type": "code",
   "execution_count": 11,
   "id": "dc6254f2-c5fa-485f-957a-4afd94b40c43",
   "metadata": {},
   "outputs": [
    {
     "data": {
      "text/plain": [
       "{8, 9, 10}"
      ]
     },
     "execution_count": 11,
     "metadata": {},
     "output_type": "execute_result"
    }
   ],
   "source": [
    "c.difference(a)"
   ]
  },
  {
   "cell_type": "code",
   "execution_count": 12,
   "id": "5d8bb099-5a43-43db-ada7-ee6a6f020299",
   "metadata": {},
   "outputs": [
    {
     "data": {
      "text/plain": [
       "{9, 10}"
      ]
     },
     "execution_count": 12,
     "metadata": {},
     "output_type": "execute_result"
    }
   ],
   "source": [
    "c.difference(b)"
   ]
  },
  {
   "cell_type": "code",
   "execution_count": 13,
   "id": "e04881e1-5a28-4add-978c-7cfc0dbbee37",
   "metadata": {},
   "outputs": [
    {
     "data": {
      "text/plain": [
       "set()"
      ]
     },
     "execution_count": 13,
     "metadata": {},
     "output_type": "execute_result"
    }
   ],
   "source": [
    "c.difference(c)"
   ]
  },
  {
   "cell_type": "markdown",
   "id": "c4e46f05-7a28-404a-9238-75bb99093dc1",
   "metadata": {
    "jp-MarkdownHeadingCollapsed": true
   },
   "source": [
    "## 27th (Set & Dict)"
   ]
  },
  {
   "cell_type": "code",
   "execution_count": 14,
   "id": "01b0f200-5a33-4cc3-a24b-824aca36cd2a",
   "metadata": {},
   "outputs": [
    {
     "name": "stdout",
     "output_type": "stream",
     "text": [
      "{1, 2, 3, 4, 5}\n",
      "{4, 5, 6, 7, 8}\n",
      "{8, 9, 10}\n"
     ]
    }
   ],
   "source": [
    "print(a)\n",
    "print(b)\n",
    "print(c)"
   ]
  },
  {
   "cell_type": "code",
   "execution_count": 15,
   "id": "c43b9d62-433e-4412-92d3-504697575222",
   "metadata": {},
   "outputs": [
    {
     "data": {
      "text/plain": [
       "{8, 9, 10}"
      ]
     },
     "execution_count": 15,
     "metadata": {},
     "output_type": "execute_result"
    }
   ],
   "source": [
    "c-a"
   ]
  },
  {
   "cell_type": "code",
   "execution_count": 16,
   "id": "72fefcaa-d8d3-45fb-aac9-19b4a60ca0ae",
   "metadata": {},
   "outputs": [
    {
     "data": {
      "text/plain": [
       "{1, 2, 3, 6, 7, 8}"
      ]
     },
     "execution_count": 16,
     "metadata": {},
     "output_type": "execute_result"
    }
   ],
   "source": [
    "a.symmetric_difference(b)   #symmetric difference of sets"
   ]
  },
  {
   "cell_type": "code",
   "execution_count": 17,
   "id": "66ee6c59-767a-47d1-99f0-295916261984",
   "metadata": {},
   "outputs": [
    {
     "name": "stdout",
     "output_type": "stream",
     "text": [
      "{1, 2, 3, 4, 5}\n",
      "{4, 5, 6, 7, 8}\n",
      "{8, 9, 10}\n"
     ]
    }
   ],
   "source": [
    "print(a)\n",
    "print(b)\n",
    "print(c)"
   ]
  },
  {
   "cell_type": "code",
   "execution_count": 19,
   "id": "cb108c8b-1b6d-4c5d-a8cc-929469817f33",
   "metadata": {},
   "outputs": [
    {
     "data": {
      "text/plain": [
       "{1, 2, 3, 4, 5, 8, 9, 10}"
      ]
     },
     "execution_count": 19,
     "metadata": {},
     "output_type": "execute_result"
    }
   ],
   "source": [
    "c^a"
   ]
  },
  {
   "cell_type": "code",
   "execution_count": 20,
   "id": "0d935a8d-995a-43d9-ba27-b0440022ad28",
   "metadata": {},
   "outputs": [
    {
     "data": {
      "text/plain": [
       "{1, 2, 3, 6, 7, 8}"
      ]
     },
     "execution_count": 20,
     "metadata": {},
     "output_type": "execute_result"
    }
   ],
   "source": [
    "b^a"
   ]
  },
  {
   "cell_type": "code",
   "execution_count": 21,
   "id": "c2788623-9111-47e0-83ce-f48096fb7463",
   "metadata": {},
   "outputs": [
    {
     "name": "stdout",
     "output_type": "stream",
     "text": [
      "{1, 2, 3, 4, 5}\n",
      "{4, 5, 6, 7, 8}\n",
      "{8, 9, 10}\n"
     ]
    }
   ],
   "source": [
    "print(a)\n",
    "print(b)\n",
    "print(c)"
   ]
  },
  {
   "cell_type": "code",
   "execution_count": 22,
   "id": "ea41b4a5-67d9-4aba-8653-7f2d21e8b7ea",
   "metadata": {},
   "outputs": [],
   "source": [
    "a.symmetric_difference_update(b)"
   ]
  },
  {
   "cell_type": "code",
   "execution_count": 23,
   "id": "8f06c2d5-96e5-411b-975e-275753d232b4",
   "metadata": {},
   "outputs": [
    {
     "name": "stdout",
     "output_type": "stream",
     "text": [
      "{1, 2, 3, 6, 7, 8}\n",
      "{4, 5, 6, 7, 8}\n",
      "{8, 9, 10}\n"
     ]
    }
   ],
   "source": [
    "print(a)\n",
    "print(b)\n",
    "print(c)"
   ]
  },
  {
   "cell_type": "raw",
   "id": "5ed61024-54fe-4fa0-87a7-fa95842f5f77",
   "metadata": {},
   "source": [
    "##intersection"
   ]
  },
  {
   "cell_type": "code",
   "execution_count": 25,
   "id": "99896892-bd04-4a4c-9dfe-ab27ce5dd31b",
   "metadata": {},
   "outputs": [
    {
     "data": {
      "text/plain": [
       "{6, 7, 8}"
      ]
     },
     "execution_count": 25,
     "metadata": {},
     "output_type": "execute_result"
    }
   ],
   "source": [
    "a.intersection(b)"
   ]
  },
  {
   "cell_type": "code",
   "execution_count": 26,
   "id": "c929b31a-c411-4304-ab97-0afb5606fa91",
   "metadata": {},
   "outputs": [
    {
     "data": {
      "text/plain": [
       "{6, 7, 8}"
      ]
     },
     "execution_count": 26,
     "metadata": {},
     "output_type": "execute_result"
    }
   ],
   "source": [
    "a & b   # it means the intersection of a nd b"
   ]
  },
  {
   "cell_type": "code",
   "execution_count": 27,
   "id": "a64f1354-4c2a-4fe5-8cff-0c28c1e33a7e",
   "metadata": {},
   "outputs": [
    {
     "data": {
      "text/plain": [
       "{8}"
      ]
     },
     "execution_count": 27,
     "metadata": {},
     "output_type": "execute_result"
    }
   ],
   "source": [
    "b&c"
   ]
  },
  {
   "cell_type": "code",
   "execution_count": 28,
   "id": "70a6d9e7-7510-44c2-8252-2253c1decbd5",
   "metadata": {},
   "outputs": [
    {
     "data": {
      "text/plain": [
       "{8}"
      ]
     },
     "execution_count": 28,
     "metadata": {},
     "output_type": "execute_result"
    }
   ],
   "source": [
    "a&b&c"
   ]
  },
  {
   "cell_type": "code",
   "execution_count": 29,
   "id": "8c963853-d432-4a0f-9a48-fda2aa03f2a1",
   "metadata": {},
   "outputs": [
    {
     "name": "stdout",
     "output_type": "stream",
     "text": [
      "{1, 2, 3, 6, 7, 8}\n",
      "{4, 5, 6, 7, 8}\n",
      "{8, 9, 10}\n"
     ]
    }
   ],
   "source": [
    "print(a)\n",
    "print(b)\n",
    "print(c)"
   ]
  },
  {
   "cell_type": "code",
   "execution_count": 30,
   "id": "0af58655-6402-4c3e-b80b-5f3793676772",
   "metadata": {},
   "outputs": [
    {
     "data": {
      "text/plain": [
       "{8}"
      ]
     },
     "execution_count": 30,
     "metadata": {},
     "output_type": "execute_result"
    }
   ],
   "source": [
    "c.intersection_update(b)\n",
    "c"
   ]
  },
  {
   "cell_type": "code",
   "execution_count": 32,
   "id": "eab9e1a4-403f-495b-8649-438d0490ce82",
   "metadata": {},
   "outputs": [],
   "source": [
    "A1={1,2,3,4,5,6,7,8,9}\n",
    "B1={3,4,5,6,7,8}\n",
    "C1={10,20,30,40}"
   ]
  },
  {
   "cell_type": "code",
   "execution_count": 33,
   "id": "9bc20678-cecf-4468-80d0-4e9d9e43f015",
   "metadata": {},
   "outputs": [
    {
     "data": {
      "text/plain": [
       "True"
      ]
     },
     "execution_count": 33,
     "metadata": {},
     "output_type": "execute_result"
    }
   ],
   "source": [
    "B1.issubset(A1)"
   ]
  },
  {
   "cell_type": "code",
   "execution_count": 34,
   "id": "0c11f92b-65e8-4516-98a6-b6375bf33bde",
   "metadata": {},
   "outputs": [
    {
     "data": {
      "text/plain": [
       "True"
      ]
     },
     "execution_count": 34,
     "metadata": {},
     "output_type": "execute_result"
    }
   ],
   "source": [
    "A1.issuperset(B1)"
   ]
  },
  {
   "cell_type": "code",
   "execution_count": 36,
   "id": "b980fa0c-4198-4985-a21c-e283ccef8ae0",
   "metadata": {},
   "outputs": [
    {
     "data": {
      "text/plain": [
       "True"
      ]
     },
     "execution_count": 36,
     "metadata": {},
     "output_type": "execute_result"
    }
   ],
   "source": [
    "C1.isdisjoint(A1)"
   ]
  },
  {
   "cell_type": "code",
   "execution_count": 37,
   "id": "a4c92955-8cb7-4279-b9fb-40ffbae7c5eb",
   "metadata": {},
   "outputs": [
    {
     "data": {
      "text/plain": [
       "True"
      ]
     },
     "execution_count": 37,
     "metadata": {},
     "output_type": "execute_result"
    }
   ],
   "source": [
    "C1.isdisjoint(B1)"
   ]
  },
  {
   "cell_type": "code",
   "execution_count": 38,
   "id": "3163326f-3e74-4014-b2a6-859e4272a2e2",
   "metadata": {},
   "outputs": [],
   "source": [
    "A2={15,25,35,45}\n",
    "B2={3,4,5,6,7,8}\n",
    "C2={10,20,30,40}"
   ]
  },
  {
   "cell_type": "code",
   "execution_count": 40,
   "id": "49f037a3-bc78-4f76-9d87-53d784e95f18",
   "metadata": {},
   "outputs": [
    {
     "data": {
      "text/plain": [
       "False"
      ]
     },
     "execution_count": 40,
     "metadata": {},
     "output_type": "execute_result"
    }
   ],
   "source": [
    "B2.issuperset(A2)"
   ]
  },
  {
   "cell_type": "code",
   "execution_count": 41,
   "id": "326ce167-ee11-4528-a78d-0482ec0b9b95",
   "metadata": {},
   "outputs": [
    {
     "data": {
      "text/plain": [
       "True"
      ]
     },
     "execution_count": 41,
     "metadata": {},
     "output_type": "execute_result"
    }
   ],
   "source": [
    "A2.issuperset(A2)"
   ]
  },
  {
   "cell_type": "code",
   "execution_count": 43,
   "id": "5e13b4a5-b072-4ac0-bb8d-02945c724984",
   "metadata": {},
   "outputs": [
    {
     "data": {
      "text/plain": [
       "False"
      ]
     },
     "execution_count": 43,
     "metadata": {},
     "output_type": "execute_result"
    }
   ],
   "source": [
    "A2.issuperset(B2)"
   ]
  },
  {
   "cell_type": "code",
   "execution_count": 44,
   "id": "8388e8ba-523c-46fa-9db0-6a277379877b",
   "metadata": {},
   "outputs": [
    {
     "data": {
      "text/plain": [
       "True"
      ]
     },
     "execution_count": 44,
     "metadata": {},
     "output_type": "execute_result"
    }
   ],
   "source": [
    "C2.isdisjoint(B2)"
   ]
  },
  {
   "cell_type": "code",
   "execution_count": 45,
   "id": "314a20e6-2d25-4faa-83c6-f44bf8315253",
   "metadata": {},
   "outputs": [
    {
     "data": {
      "text/plain": [
       "True"
      ]
     },
     "execution_count": 45,
     "metadata": {},
     "output_type": "execute_result"
    }
   ],
   "source": [
    "C2.isdisjoint(A2)"
   ]
  },
  {
   "cell_type": "raw",
   "id": "dbd5c303-674f-486f-a9f5-878c87dfa44f",
   "metadata": {},
   "source": [
    "## Dictionary"
   ]
  },
  {
   "cell_type": "code",
   "execution_count": 51,
   "id": "4367cb09-c91d-44f4-88cd-e537e92a018f",
   "metadata": {},
   "outputs": [],
   "source": [
    "##the data can be stored in key:valur format\n",
    "## if data stored in document-documnet must be stored in database(mongo db)\n",
    "## 3 database-->\n",
    "## 1-sql db-mysql,postgres,oracle\n",
    "## 2-noaql db-mongo db\n",
    "## 3-vector db-chroma db,pinecone,milvus,faiss,qdrant\n",
    "## cloud -azur|aws|gcp\n",
    "## 4-any programming language"
   ]
  },
  {
   "cell_type": "code",
   "execution_count": 53,
   "id": "f352ac86-d238-40dd-a15b-90eb91be6940",
   "metadata": {},
   "outputs": [],
   "source": [
    "## dict is mutable\n",
    "## keys&values (keys take more priority than values)"
   ]
  },
  {
   "cell_type": "code",
   "execution_count": 54,
   "id": "efd01e5f-f27c-4c8c-9b3d-e2bae9fe955e",
   "metadata": {},
   "outputs": [
    {
     "data": {
      "text/plain": [
       "{}"
      ]
     },
     "execution_count": 54,
     "metadata": {},
     "output_type": "execute_result"
    }
   ],
   "source": [
    "d={}\n",
    "d"
   ]
  },
  {
   "cell_type": "code",
   "execution_count": 55,
   "id": "206ad168-319f-46da-9010-05a33587b5f5",
   "metadata": {},
   "outputs": [
    {
     "data": {
      "text/plain": [
       "dict"
      ]
     },
     "execution_count": 55,
     "metadata": {},
     "output_type": "execute_result"
    }
   ],
   "source": [
    "type(d)"
   ]
  },
  {
   "cell_type": "code",
   "execution_count": 57,
   "id": "ecec64d5-e811-4a2a-b9fc-9a4fca7218ba",
   "metadata": {},
   "outputs": [
    {
     "data": {
      "text/plain": [
       "{1: 'one', 2: 'two', 3: 'three'}"
      ]
     },
     "execution_count": 57,
     "metadata": {},
     "output_type": "execute_result"
    }
   ],
   "source": [
    "d1={1:'one',2:'two',3:'three'}\n",
    "d1"
   ]
  },
  {
   "cell_type": "code",
   "execution_count": 59,
   "id": "a47665ad-bfbd-441b-802c-f367f46f04a7",
   "metadata": {},
   "outputs": [
    {
     "data": {
      "text/plain": [
       "{'one': 1, 'two': 2, 'three': 3}"
      ]
     },
     "execution_count": 59,
     "metadata": {},
     "output_type": "execute_result"
    }
   ],
   "source": [
    "d2={'one':1,'two':2,'three':3}\n",
    "d2"
   ]
  },
  {
   "cell_type": "code",
   "execution_count": 61,
   "id": "90a09cad-eb15-4c76-89a6-ad5f929814ea",
   "metadata": {},
   "outputs": [
    {
     "data": {
      "text/plain": [
       "dict_keys(['one', 'two', 'three'])"
      ]
     },
     "execution_count": 61,
     "metadata": {},
     "output_type": "execute_result"
    }
   ],
   "source": [
    "d2.keys()"
   ]
  },
  {
   "cell_type": "markdown",
   "id": "5e5621e9-bada-4e18-8cc4-1a006d65de4e",
   "metadata": {},
   "source": [
    "## 27th Task"
   ]
  },
  {
   "cell_type": "code",
   "execution_count": null,
   "id": "be3f5eaa-b37a-4898-9fd2-4b3419db479b",
   "metadata": {},
   "outputs": [],
   "source": []
  }
 ],
 "metadata": {
  "kernelspec": {
   "display_name": "Python [conda env:base] *",
   "language": "python",
   "name": "conda-base-py"
  },
  "language_info": {
   "codemirror_mode": {
    "name": "ipython",
    "version": 3
   },
   "file_extension": ".py",
   "mimetype": "text/x-python",
   "name": "python",
   "nbconvert_exporter": "python",
   "pygments_lexer": "ipython3",
   "version": "3.12.7"
  }
 },
 "nbformat": 4,
 "nbformat_minor": 5
}
